{
  "nbformat": 4,
  "nbformat_minor": 0,
  "metadata": {
    "colab": {
      "name": "gnn_learning.ipynb",
      "provenance": [],
      "collapsed_sections": [],
      "authorship_tag": "ABX9TyPzu6Y53o4IwgkjhN0dRpIg",
      "include_colab_link": true
    },
    "kernelspec": {
      "name": "python3",
      "display_name": "Python 3"
    },
    "language_info": {
      "name": "python"
    }
  },
  "cells": [
    {
      "cell_type": "markdown",
      "metadata": {
        "id": "view-in-github",
        "colab_type": "text"
      },
      "source": [
        "<a href=\"https://colab.research.google.com/github/ElzatAhmed/machine-learning-notes/blob/main/gnn_learning.ipynb\" target=\"_parent\"><img src=\"https://colab.research.google.com/assets/colab-badge.svg\" alt=\"Open In Colab\"/></a>"
      ]
    },
    {
      "cell_type": "code",
      "metadata": {
        "id": "TzTg-u1LU477"
      },
      "source": [
        "!pip install numpy\n",
        "!pip install spektral\n",
        "\n",
        "import numpy as np\n",
        "import tensorflow as tf\n",
        "import spektral"
      ],
      "execution_count": null,
      "outputs": []
    },
    {
      "cell_type": "code",
      "metadata": {
        "colab": {
          "base_uri": "https://localhost:8080/"
        },
        "id": "UBikYdvsWDU0",
        "outputId": "a2024656-019f-49a2-90d8-0fbe9082a976"
      },
      "source": [
        "cora = spektral.datasets.citation.Citation(name='cora')\n",
        "graph = cora.read()\n",
        "train_mask, val_mask, test_mask = cora.mask_tr, cora.mask_va, cora.mask_te\n",
        "adj, features, labels = graph[0].a, graph[0].x, graph[0].y"
      ],
      "execution_count": 17,
      "outputs": [
        {
          "output_type": "stream",
          "name": "stderr",
          "text": [
            "/usr/local/lib/python3.7/dist-packages/scipy/sparse/_index.py:126: SparseEfficiencyWarning: Changing the sparsity structure of a csr_matrix is expensive. lil_matrix is more efficient.\n",
            "  self._set_arrayXarray(i, j, x)\n"
          ]
        }
      ]
    },
    {
      "cell_type": "code",
      "metadata": {
        "colab": {
          "base_uri": "https://localhost:8080/"
        },
        "id": "S6jPUxlmWsp_",
        "outputId": "4c6f2eb0-d938-48e9-c4fb-c0635662b914"
      },
      "source": [
        "print(features.shape)\n",
        "print(adj.shape)\n",
        "print(labels.shape)\n",
        "print(np.sum(train_mask))\n",
        "print(np.sum(val_mask))\n",
        "print(np.sum(test_mask))"
      ],
      "execution_count": 21,
      "outputs": [
        {
          "output_type": "stream",
          "name": "stdout",
          "text": [
            "(2708, 1433)\n",
            "(2708, 2708)\n",
            "(2708, 7)\n",
            "140\n",
            "500\n",
            "1000\n"
          ]
        }
      ]
    },
    {
      "cell_type": "code",
      "metadata": {
        "colab": {
          "base_uri": "https://localhost:8080/"
        },
        "id": "I8Cc-ueofTS5",
        "outputId": "e1c47d9f-8d50-439b-b9cf-2ed4eabcc8db"
      },
      "source": [
        "print(labels[100])"
      ],
      "execution_count": 32,
      "outputs": [
        {
          "output_type": "stream",
          "name": "stdout",
          "text": [
            "[1. 0. 0. 0. 0. 0. 0.]\n"
          ]
        }
      ]
    },
    {
      "cell_type": "code",
      "metadata": {
        "id": "kUji9NpZbEys"
      },
      "source": [
        "def masked_softmax_cross_entropy(logits, labels, masks):\n",
        "  loss = tf.nn.softmax_cross_entropy_with_logits(logits=logits, labels=labels)\n",
        "  mask = tf.cast(tf.float32)\n",
        "  mask /= tf.reduce_mean(mask)\n",
        "  loss *= mask\n",
        "  return tf.reduce_mean(loss)\n",
        "\n",
        "\n",
        "def masked_accuracy(logits, labels, masks):\n",
        "  correct_prediction = tf.equal(tf.argmax(logits, 1), tf.argmax(labels, 1))\n",
        "  accuracy_all = tf.cast(correct_prediction, tf.float32)\n",
        "  mask = tf.cast(tf.float32)\n",
        "  mask /= tf.reduce_mean(mask)\n",
        "  accuracy_all *= mask\n",
        "  return tf.reduce_mean(accuracy_all)"
      ],
      "execution_count": null,
      "outputs": []
    },
    {
      "cell_type": "code",
      "metadata": {
        "id": "oQ2tXLVWc2So"
      },
      "source": [
        "def gnn(features, adj, transform, activation):\n",
        "  seq_fts = transform(features)\n",
        "  ret_fts = tf.matmul(adj, seq_fts)\n",
        "  return activation(ret_fts)"
      ],
      "execution_count": null,
      "outputs": []
    },
    {
      "cell_type": "code",
      "metadata": {
        "id": "3WUFAehVfq2x"
      },
      "source": [
        "def train_cora(features, adj, gnn_fn, units, epochs, learning_rate):\n",
        "  layer1 = tf.keras.layers.Dense(units=units)\n",
        "  layer2 = tf.keras.layers.Dense(units=7)\n",
        "\n",
        "  def cora_gnn(features, adj):\n",
        "    hidden = gnn_fn(features, adj, layer1, tf.nn.relu)\n",
        "    logits = gnn_fn(features, adj, layer2, tf.nn.identity)\n",
        "    return logits\n",
        "  \n",
        "  optimizer = tf.keras.optimizers.Adam(learning_rate=learning_rate)\n",
        "\n",
        "  # TODO: complete the neural network"
      ],
      "execution_count": null,
      "outputs": []
    }
  ]
}