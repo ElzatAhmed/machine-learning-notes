{
  "nbformat": 4,
  "nbformat_minor": 0,
  "metadata": {
    "colab": {
      "name": "neural_network_exp01.ipynb",
      "provenance": [],
      "collapsed_sections": [],
      "toc_visible": true,
      "authorship_tag": "ABX9TyP0ab/nK3642BkP5A6mc3K2",
      "include_colab_link": true
    },
    "kernelspec": {
      "name": "python3",
      "display_name": "Python 3"
    },
    "language_info": {
      "name": "python"
    }
  },
  "cells": [
    {
      "cell_type": "markdown",
      "metadata": {
        "id": "view-in-github",
        "colab_type": "text"
      },
      "source": [
        "<a href=\"https://colab.research.google.com/github/ElzatAhmed/machine-learning-notes/blob/main/neural_network_exp01.ipynb\" target=\"_parent\"><img src=\"https://colab.research.google.com/assets/colab-badge.svg\" alt=\"Open In Colab\"/></a>"
      ]
    },
    {
      "cell_type": "markdown",
      "metadata": {
        "id": "QTxSGRADyJib"
      },
      "source": [
        "# Network disintegration neural network expriement one"
      ]
    },
    {
      "cell_type": "code",
      "metadata": {
        "colab": {
          "base_uri": "https://localhost:8080/"
        },
        "id": "TxTyu2wkx9HF",
        "outputId": "12090cad-7f59-4580-e116-da3a0113f8ef"
      },
      "source": [
        "# imports\n",
        "%tensorflow_version 2.x  # this line is not required unless you are in a notebook\n",
        "# TensorFlow and tf.keras\n",
        "import tensorflow as tf\n",
        "from tensorflow import keras\n",
        "\n",
        "# Helper libraries\n",
        "import numpy as np\n",
        "import matplotlib.pyplot as plt\n",
        "import pandas as pd\n",
        "\n",
        "from google.colab import drive"
      ],
      "execution_count": null,
      "outputs": [
        {
          "output_type": "stream",
          "name": "stdout",
          "text": [
            "`%tensorflow_version` only switches the major version: 1.x or 2.x.\n",
            "You set: `2.x  # this line is not required unless you are in a notebook`. This will be interpreted as: `2.x`.\n",
            "\n",
            "\n",
            "TensorFlow 2.x selected.\n"
          ]
        }
      ]
    },
    {
      "cell_type": "code",
      "metadata": {
        "colab": {
          "base_uri": "https://localhost:8080/"
        },
        "id": "QMi08UYTM8mi",
        "outputId": "07654ed6-67e2-45c7-ac7f-05a78d954925"
      },
      "source": [
        "drive.mount('/content/drive', force_remount=True)"
      ],
      "execution_count": null,
      "outputs": [
        {
          "output_type": "stream",
          "name": "stdout",
          "text": [
            "Mounted at /content/drive\n"
          ]
        }
      ]
    },
    {
      "cell_type": "code",
      "metadata": {
        "id": "FLXd-igoycS5"
      },
      "source": [
        "TRAIN_FEATURE_DIR = \"/content/drive/MyDrive/network_samples/neural_network_dataset2/train/features\"\n",
        "TRAIN_LABEL_DIR = \"/content/drive/MyDrive/network_samples/neural_network_dataset2/train/labels\"\n",
        "TEST_FEATURE_DIR = \"/content/drive/MyDrive/network_samples/neural_network_dataset2/test/features\"\n",
        "TEST_LABEL_DIR = \"/content/drive/MyDrive/network_samples/neural_network_dataset2/test/labels\"\n",
        "\n",
        "TRAIN_COUNT = 300\n",
        "TEST_COUNT = 100\n",
        "NODE_COUNT = 50\n",
        "\n",
        "train_feature = np.zeros(shape=(TRAIN_COUNT, NODE_COUNT, NODE_COUNT), dtype=float)\n",
        "train_label = np.zeros(shape=(TRAIN_COUNT, NODE_COUNT,), dtype=float)\n",
        "test_feature = np.zeros(shape=(TEST_COUNT, NODE_COUNT, NODE_COUNT), dtype=float)\n",
        "test_label = np.zeros(shape=(TEST_COUNT, NODE_COUNT,), dtype=float)"
      ],
      "execution_count": null,
      "outputs": []
    },
    {
      "cell_type": "code",
      "metadata": {
        "id": "AWb2LRDGzLN1"
      },
      "source": [
        "# loading dataset\n",
        "def load_dataset():\n",
        "  # loading dataset for training\n",
        "  for i in range(TRAIN_COUNT):\n",
        "    path = f'{TRAIN_FEATURE_DIR}/f{i}.csv'\n",
        "    df = pd.read_csv(path)\n",
        "    train_feature[i] = df.values\n",
        "    path = f'{TRAIN_LABEL_DIR}/l{i}.csv'\n",
        "    df = pd.read_csv(path)\n",
        "    train_label[i] = df.values\n",
        "  # loading dataset for testing\n",
        "  for i in range(TEST_COUNT):\n",
        "    path = f'{TEST_FEATURE_DIR}/f{i}.csv'\n",
        "    df = pd.read_csv(path)\n",
        "    train_feature[i] = df.values\n",
        "    path = f'{TEST_LABEL_DIR}/l{i}.csv'\n",
        "    df = pd.read_csv(path)\n",
        "    test_label[i] = df.values"
      ],
      "execution_count": null,
      "outputs": []
    },
    {
      "cell_type": "code",
      "metadata": {
        "id": "v6ootsnxzvLf"
      },
      "source": [
        "# creating the model\n",
        "def create():\n",
        "  model = keras.Sequential([\n",
        "      keras.layers.Flatten(input_shape=(NODE_COUNT, NODE_COUNT)),\n",
        "      keras.layers.Dense(1024, activation='relu'),\n",
        "      keras.layers.Dense(NODE_COUNT, activation='sigmoid')\n",
        "  ])\n",
        "  return model"
      ],
      "execution_count": 26,
      "outputs": []
    },
    {
      "cell_type": "code",
      "metadata": {
        "id": "-jPjt3fzzzvX"
      },
      "source": [
        "# compiling the model\n",
        "def compile(model):\n",
        "  model.compile(\n",
        "      optimizer='adam',\n",
        "      loss='binary_crossentropy',\n",
        "      metrics=['mae', 'mse', 'acc']\n",
        "  )"
      ],
      "execution_count": null,
      "outputs": []
    },
    {
      "cell_type": "code",
      "metadata": {
        "id": "rcBM4rs-z_5p"
      },
      "source": [
        "# training the model\n",
        "def train(model, epochs):\n",
        "  model.fit(train_feature, train_label, epochs=epochs)"
      ],
      "execution_count": null,
      "outputs": []
    },
    {
      "cell_type": "code",
      "metadata": {
        "id": "iqKZgXPX0HWP"
      },
      "source": [
        "# evaluating the model\n",
        "def evaluate(model):\n",
        "  model.evaluate(test_feature, test_label)"
      ],
      "execution_count": null,
      "outputs": []
    },
    {
      "cell_type": "code",
      "metadata": {
        "id": "NI_cfh7X0WtA"
      },
      "source": [
        "# doing prediction\n",
        "def predict(model):\n",
        "  return model.predict(test_feature)"
      ],
      "execution_count": null,
      "outputs": []
    },
    {
      "cell_type": "code",
      "metadata": {
        "id": "Z2tcpUz81xYm"
      },
      "source": [
        "def classify_results(results):\n",
        "  classified_result = np.zeros(shape=(TEST_COUNT, NODE_COUNT))\n",
        "  for i in range(results.shape[0]):\n",
        "    for j in range(results.shape[1]):\n",
        "      if results[i][j] > 0.5:\n",
        "        classified_result[i][j] = 1\n",
        "  return classified_result"
      ],
      "execution_count": 25,
      "outputs": []
    },
    {
      "cell_type": "code",
      "metadata": {
        "id": "1FT9LLdi2bbY"
      },
      "source": [
        "load_dataset()"
      ],
      "execution_count": null,
      "outputs": []
    },
    {
      "cell_type": "code",
      "metadata": {
        "colab": {
          "base_uri": "https://localhost:8080/"
        },
        "id": "Uju-ecKyvwOc",
        "outputId": "21dfeaf4-f266-46e9-96af-dbb1b4f59df1"
      },
      "source": [
        "train_feature.shape"
      ],
      "execution_count": null,
      "outputs": [
        {
          "output_type": "execute_result",
          "data": {
            "text/plain": [
              "(300, 50, 50)"
            ]
          },
          "metadata": {},
          "execution_count": 18
        }
      ]
    },
    {
      "cell_type": "code",
      "metadata": {
        "colab": {
          "base_uri": "https://localhost:8080/"
        },
        "id": "oF7-yej6vyHJ",
        "outputId": "0c0dcf06-208b-41e7-e27c-8fc0380f1baf"
      },
      "source": [
        "train_label.shape"
      ],
      "execution_count": null,
      "outputs": [
        {
          "output_type": "execute_result",
          "data": {
            "text/plain": [
              "(300, 50)"
            ]
          },
          "metadata": {},
          "execution_count": 14
        }
      ]
    },
    {
      "cell_type": "code",
      "metadata": {
        "colab": {
          "base_uri": "https://localhost:8080/"
        },
        "id": "S7BVMlziGrlm",
        "outputId": "06df3f45-b603-4b0e-9500-70475815e677"
      },
      "source": [
        "test_feature.shape"
      ],
      "execution_count": null,
      "outputs": [
        {
          "output_type": "execute_result",
          "data": {
            "text/plain": [
              "(100, 50, 50)"
            ]
          },
          "metadata": {},
          "execution_count": 15
        }
      ]
    },
    {
      "cell_type": "code",
      "metadata": {
        "id": "bsxoKXfW1AvK"
      },
      "source": [
        "model = create()\n",
        "compile(model)"
      ],
      "execution_count": 34,
      "outputs": []
    },
    {
      "cell_type": "code",
      "metadata": {
        "colab": {
          "base_uri": "https://localhost:8080/"
        },
        "id": "cy4lSeGP1EOK",
        "outputId": "0cc56c62-43b8-4fc1-e7b3-c0ba0a0cc5ae"
      },
      "source": [
        "train(model, 1)"
      ],
      "execution_count": 35,
      "outputs": [
        {
          "output_type": "stream",
          "name": "stdout",
          "text": [
            "10/10 [==============================] - 1s 19ms/step - loss: 0.4936 - mae: 0.1914 - mse: 0.1191 - acc: 0.0000e+00\n"
          ]
        }
      ]
    },
    {
      "cell_type": "code",
      "metadata": {
        "colab": {
          "base_uri": "https://localhost:8080/"
        },
        "id": "-bjoosiC1orA",
        "outputId": "dfd4b01c-cde3-43d9-cace-cddcd829373e"
      },
      "source": [
        "evaluate(model)"
      ],
      "execution_count": 36,
      "outputs": [
        {
          "output_type": "stream",
          "name": "stdout",
          "text": [
            "4/4 [==============================] - 0s 8ms/step - loss: 0.6919 - mae: 0.4994 - mse: 0.2494 - acc: 0.0000e+00\n"
          ]
        }
      ]
    },
    {
      "cell_type": "code",
      "metadata": {
        "id": "Im9V-qh_1tL5"
      },
      "source": [
        "results = predict(model)"
      ],
      "execution_count": 37,
      "outputs": []
    },
    {
      "cell_type": "code",
      "metadata": {
        "colab": {
          "base_uri": "https://localhost:8080/"
        },
        "id": "-prRRN3wI3jb",
        "outputId": "429f8c08-39b6-4d41-8e86-dcc32f60668a"
      },
      "source": [
        "results[0]"
      ],
      "execution_count": 38,
      "outputs": [
        {
          "output_type": "execute_result",
          "data": {
            "text/plain": [
              "array([0.50071234, 0.5005706 , 0.5005184 , 0.50082767, 0.5011505 ,\n",
              "       0.5006979 , 0.5008893 , 0.5007818 , 0.50125605, 0.5010241 ,\n",
              "       0.5009557 , 0.50047994, 0.500897  , 0.5010303 , 0.5006722 ,\n",
              "       0.50082165, 0.5002827 , 0.5012611 , 0.50099635, 0.5005338 ,\n",
              "       0.5007643 , 0.500429  , 0.5011099 , 0.5004845 , 0.500837  ,\n",
              "       0.5004382 , 0.50053585, 0.50034755, 0.5005379 , 0.5008472 ,\n",
              "       0.5001042 , 0.50083876, 0.5009991 , 0.50073737, 0.5008282 ,\n",
              "       0.5004625 , 0.5007398 , 0.5010247 , 0.50087595, 0.50086457,\n",
              "       0.5006902 , 0.5004873 , 0.50088304, 0.500914  , 0.50114244,\n",
              "       0.5006668 , 0.50106734, 0.50094235, 0.5011841 , 0.5005901 ],\n",
              "      dtype=float32)"
            ]
          },
          "metadata": {},
          "execution_count": 38
        }
      ]
    }
  ]
}