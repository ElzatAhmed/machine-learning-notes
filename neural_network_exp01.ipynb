{
  "nbformat": 4,
  "nbformat_minor": 0,
  "metadata": {
    "colab": {
      "name": "neural_network_exp01.ipynb",
      "provenance": [],
      "collapsed_sections": [],
      "authorship_tag": "ABX9TyNKNLZchEQGb2reElQ9hQiH",
      "include_colab_link": true
    },
    "kernelspec": {
      "name": "python3",
      "display_name": "Python 3"
    },
    "language_info": {
      "name": "python"
    }
  },
  "cells": [
    {
      "cell_type": "markdown",
      "metadata": {
        "id": "view-in-github",
        "colab_type": "text"
      },
      "source": [
        "<a href=\"https://colab.research.google.com/github/ElzatAhmed/machine-learning-notes/blob/main/neural_network_exp01.ipynb\" target=\"_parent\"><img src=\"https://colab.research.google.com/assets/colab-badge.svg\" alt=\"Open In Colab\"/></a>"
      ]
    },
    {
      "cell_type": "markdown",
      "metadata": {
        "id": "QTxSGRADyJib"
      },
      "source": [
        "# Network disintegration neural network expriement one"
      ]
    },
    {
      "cell_type": "code",
      "metadata": {
        "colab": {
          "base_uri": "https://localhost:8080/"
        },
        "id": "TxTyu2wkx9HF",
        "outputId": "99ba6754-39ac-4232-f087-ba02b69fa9a5"
      },
      "source": [
        "# imports\n",
        "%tensorflow_version 2.x  # this line is not required unless you are in a notebook\n",
        "# TensorFlow and tf.keras\n",
        "import tensorflow as tf\n",
        "from tensorflow import keras\n",
        "\n",
        "# Helper libraries\n",
        "import numpy as np\n",
        "import matplotlib.pyplot as plt\n",
        "import pandas as pd\n",
        "\n",
        "from google.colab import drive"
      ],
      "execution_count": 92,
      "outputs": [
        {
          "output_type": "stream",
          "name": "stdout",
          "text": [
            "`%tensorflow_version` only switches the major version: 1.x or 2.x.\n",
            "You set: `2.x  # this line is not required unless you are in a notebook`. This will be interpreted as: `2.x`.\n",
            "\n",
            "\n",
            "TensorFlow is already loaded. Please restart the runtime to change versions.\n"
          ]
        }
      ]
    },
    {
      "cell_type": "code",
      "metadata": {
        "colab": {
          "base_uri": "https://localhost:8080/"
        },
        "id": "QMi08UYTM8mi",
        "outputId": "2ad295bf-8174-454b-f1fb-66b144beb8d0"
      },
      "source": [
        "drive.mount('/content/drive')"
      ],
      "execution_count": 93,
      "outputs": [
        {
          "output_type": "stream",
          "name": "stdout",
          "text": [
            "Mounted at /content/drive\n"
          ]
        }
      ]
    },
    {
      "cell_type": "code",
      "metadata": {
        "id": "FLXd-igoycS5"
      },
      "source": [
        "TRAIN_FEATURE_DIR = \"/content/network_samples/train/features\"\n",
        "TRAIN_LABEL_DIR = \"/content/network_samples/train/labels\"\n",
        "TEST_FEATURE_DIR = \"/content/network_samples/test/features\"\n",
        "TEST_LABEL_DIR = \"/content/network_samples/test/labels\"\n",
        "\n",
        "TRAIN_COUNT = 500\n",
        "TEST_COUNT = 100\n",
        "NODE_COUNT = 1000\n",
        "\n",
        "train_feature = np.zeros(shape=(TRAIN_COUNT, NODE_COUNT, NODE_COUNT), dtype=float)\n",
        "train_label = np.zeros(shape=(TRAIN_COUNT, NODE_COUNT,), dtype=float)\n",
        "test_feature = np.zeros(shape=(TEST_COUNT, NODE_COUNT, NODE_COUNT), dtype=float)\n",
        "test_label = np.zeros(shape=(TEST_COUNT, NODE_COUNT,), dtype=float)"
      ],
      "execution_count": null,
      "outputs": []
    },
    {
      "cell_type": "code",
      "metadata": {
        "id": "AWb2LRDGzLN1"
      },
      "source": [
        "# loading dataset\n",
        "def load_dataset():\n",
        "  # loading dataset for training\n",
        "  for i in range(TRAIN_COUNT):\n",
        "    path = f'{TRAIN_FEATURE_DIR}/f{i}.csv'\n",
        "    df = pd.read_csv(path)\n",
        "    train_feature[i] = df.values\n",
        "    path = f'{TRAIN_LABEL_DIR}/l{i}.csv'\n",
        "    df = pd.read_csv(path)\n",
        "    train_label[i] = df.values\n",
        "  # loading dataset for testing\n",
        "  for i in range(TEST_COUNT):\n",
        "    path = f'{TEST_FEATURE_DIR}/f{i}.csv'\n",
        "    df = pd.read_csv(path)\n",
        "    train_feature[i] = df.values\n",
        "    path = f'{TEST_LABEL_DIR}/l{i}.csv'\n",
        "    df = pd.read_csv(path)\n",
        "    test_label[i] = df.values"
      ],
      "execution_count": null,
      "outputs": []
    },
    {
      "cell_type": "code",
      "metadata": {
        "id": "v6ootsnxzvLf"
      },
      "source": [
        "# creating the model\n",
        "def create():\n",
        "  model = keras.Sequential([\n",
        "      keras.layers.Flatten(input_shape=(1000, 1000)),\n",
        "      keras.layers.Dense(1024, activation='relu'),\n",
        "      keras.layers.Dense(1000, activation='sigmoid')\n",
        "  ])\n",
        "  return model"
      ],
      "execution_count": null,
      "outputs": []
    },
    {
      "cell_type": "code",
      "metadata": {
        "id": "-jPjt3fzzzvX"
      },
      "source": [
        "# compiling the model\n",
        "def compile(model):\n",
        "  model.compile(\n",
        "      optimizer='adam',\n",
        "      loss='binary_crossentropy',\n",
        "      metrics=['mae', 'mse']\n",
        "  )"
      ],
      "execution_count": null,
      "outputs": []
    },
    {
      "cell_type": "code",
      "metadata": {
        "id": "rcBM4rs-z_5p"
      },
      "source": [
        "# training the model\n",
        "def train(model, epochs):\n",
        "  model.fit(train_feature, train_label, epochs=epochs)"
      ],
      "execution_count": null,
      "outputs": []
    },
    {
      "cell_type": "code",
      "metadata": {
        "id": "iqKZgXPX0HWP"
      },
      "source": [
        "# evaluating the model\n",
        "def evaluate(model):\n",
        "  model.evaluate(test_feature, test_label)"
      ],
      "execution_count": null,
      "outputs": []
    },
    {
      "cell_type": "code",
      "metadata": {
        "id": "NI_cfh7X0WtA"
      },
      "source": [
        "# doing prediction\n",
        "def predict(model):\n",
        "  return model.predict(test_feature)"
      ],
      "execution_count": null,
      "outputs": []
    },
    {
      "cell_type": "code",
      "metadata": {
        "id": "Z2tcpUz81xYm"
      },
      "source": [
        "def classify_results(results):\n",
        "  classified_result = np.zeros(shape=(TEST_COUNT, NODE_COUNT))\n",
        "  for i in range(results.shape[0]):\n",
        "    for j in range(results.shape[1]):\n",
        "      if results[i][j] > 0.5:\n",
        "        classified_result[i][j] = 1\n",
        "  return classified_result"
      ],
      "execution_count": null,
      "outputs": []
    },
    {
      "cell_type": "code",
      "metadata": {
        "id": "1FT9LLdi2bbY",
        "colab": {
          "base_uri": "https://localhost:8080/",
          "height": 279
        },
        "outputId": "df0359b6-69b2-4d08-b88b-11e95fa51be9"
      },
      "source": [
        "load_dataset()"
      ],
      "execution_count": null,
      "outputs": [
        {
          "output_type": "error",
          "ename": "ValueError",
          "evalue": "ignored",
          "traceback": [
            "\u001b[0;31m---------------------------------------------------------------------------\u001b[0m",
            "\u001b[0;31mValueError\u001b[0m                                Traceback (most recent call last)",
            "\u001b[0;32m<ipython-input-91-960ac791287a>\u001b[0m in \u001b[0;36m<module>\u001b[0;34m()\u001b[0m\n\u001b[0;32m----> 1\u001b[0;31m \u001b[0mload_dataset\u001b[0m\u001b[0;34m(\u001b[0m\u001b[0;34m)\u001b[0m\u001b[0;34m\u001b[0m\u001b[0;34m\u001b[0m\u001b[0m\n\u001b[0m",
            "\u001b[0;32m<ipython-input-82-2f2b7b1cb861>\u001b[0m in \u001b[0;36mload_dataset\u001b[0;34m()\u001b[0m\n\u001b[1;32m      8\u001b[0m     \u001b[0mpath\u001b[0m \u001b[0;34m=\u001b[0m \u001b[0;34mf'{TRAIN_LABEL_DIR}/l{i}.csv'\u001b[0m\u001b[0;34m\u001b[0m\u001b[0;34m\u001b[0m\u001b[0m\n\u001b[1;32m      9\u001b[0m     \u001b[0mdf\u001b[0m \u001b[0;34m=\u001b[0m \u001b[0mpd\u001b[0m\u001b[0;34m.\u001b[0m\u001b[0mread_csv\u001b[0m\u001b[0;34m(\u001b[0m\u001b[0mpath\u001b[0m\u001b[0;34m)\u001b[0m\u001b[0;34m\u001b[0m\u001b[0;34m\u001b[0m\u001b[0m\n\u001b[0;32m---> 10\u001b[0;31m     \u001b[0mtrain_label\u001b[0m\u001b[0;34m[\u001b[0m\u001b[0mi\u001b[0m\u001b[0;34m]\u001b[0m \u001b[0;34m=\u001b[0m \u001b[0mdf\u001b[0m\u001b[0;34m.\u001b[0m\u001b[0mvalues\u001b[0m\u001b[0;34m\u001b[0m\u001b[0;34m\u001b[0m\u001b[0m\n\u001b[0m\u001b[1;32m     11\u001b[0m   \u001b[0;31m# loading dataset for testing\u001b[0m\u001b[0;34m\u001b[0m\u001b[0;34m\u001b[0m\u001b[0;34m\u001b[0m\u001b[0m\n\u001b[1;32m     12\u001b[0m   \u001b[0;32mfor\u001b[0m \u001b[0mi\u001b[0m \u001b[0;32min\u001b[0m \u001b[0mrange\u001b[0m\u001b[0;34m(\u001b[0m\u001b[0mTEST_COUNT\u001b[0m\u001b[0;34m)\u001b[0m\u001b[0;34m:\u001b[0m\u001b[0;34m\u001b[0m\u001b[0;34m\u001b[0m\u001b[0m\n",
            "\u001b[0;31mValueError\u001b[0m: could not broadcast input array from shape (50) into shape (1000)"
          ]
        }
      ]
    },
    {
      "cell_type": "code",
      "metadata": {
        "id": "bsxoKXfW1AvK"
      },
      "source": [
        "model = create()\n",
        "compile(model)"
      ],
      "execution_count": null,
      "outputs": []
    },
    {
      "cell_type": "code",
      "metadata": {
        "colab": {
          "base_uri": "https://localhost:8080/"
        },
        "id": "cy4lSeGP1EOK",
        "outputId": "389f9869-e8cc-498c-8d22-079d30875af8"
      },
      "source": [
        "train(model, 3)"
      ],
      "execution_count": null,
      "outputs": [
        {
          "output_type": "stream",
          "name": "stdout",
          "text": [
            "Epoch 1/3\n",
            "16/16 [==============================] - 0s 7ms/step - loss: 0.5867 - mae: 0.3256 - mse: 0.1823\n",
            "Epoch 2/3\n",
            "16/16 [==============================] - 0s 7ms/step - loss: 0.5067 - mae: 0.3167 - mse: 0.1621\n",
            "Epoch 3/3\n",
            "16/16 [==============================] - 0s 7ms/step - loss: 0.4952 - mae: 0.3132 - mse: 0.1583\n"
          ]
        }
      ]
    },
    {
      "cell_type": "code",
      "metadata": {
        "colab": {
          "base_uri": "https://localhost:8080/"
        },
        "id": "-bjoosiC1orA",
        "outputId": "547ba3c9-b68a-458e-d03b-c5c1ecffbf27"
      },
      "source": [
        "evaluate(model)"
      ],
      "execution_count": null,
      "outputs": [
        {
          "output_type": "stream",
          "name": "stdout",
          "text": [
            "4/4 [==============================] - 0s 5ms/step - loss: 0.6921 - mae: 0.4995 - mse: 0.2495\n"
          ]
        }
      ]
    },
    {
      "cell_type": "code",
      "metadata": {
        "id": "Im9V-qh_1tL5"
      },
      "source": [
        "results = predict(model)"
      ],
      "execution_count": null,
      "outputs": []
    }
  ]
}