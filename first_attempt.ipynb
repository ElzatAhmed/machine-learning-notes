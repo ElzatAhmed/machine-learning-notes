{
  "nbformat": 4,
  "nbformat_minor": 0,
  "metadata": {
    "colab": {
      "name": "first_attempt.ipynb",
      "provenance": [],
      "collapsed_sections": [],
      "authorship_tag": "ABX9TyO2YowvLxcB77jS23OI+eyl",
      "include_colab_link": true
    },
    "kernelspec": {
      "name": "python3",
      "display_name": "Python 3"
    },
    "language_info": {
      "name": "python"
    }
  },
  "cells": [
    {
      "cell_type": "markdown",
      "metadata": {
        "id": "view-in-github",
        "colab_type": "text"
      },
      "source": [
        "<a href=\"https://colab.research.google.com/github/ElzatAhmed/machine-learning-notes/blob/main/first_attempt.ipynb\" target=\"_parent\"><img src=\"https://colab.research.google.com/assets/colab-badge.svg\" alt=\"Open In Colab\"/></a>"
      ]
    },
    {
      "cell_type": "code",
      "metadata": {
        "colab": {
          "base_uri": "https://localhost:8080/"
        },
        "id": "dOehdKSGJmey",
        "outputId": "831be7bb-6742-4916-bf93-5567a7c8c6f8"
      },
      "source": [
        "# imports\n",
        "%tensorflow_version 2.x  # this line is not required unless you are in a notebook\n",
        "# TensorFlow and tf.keras\n",
        "import tensorflow as tf\n",
        "from tensorflow import keras\n",
        "\n",
        "# Helper libraries\n",
        "import numpy as np\n",
        "import matplotlib.pyplot as plt\n",
        "import pandas as pd"
      ],
      "execution_count": 1,
      "outputs": [
        {
          "output_type": "stream",
          "name": "stdout",
          "text": [
            "`%tensorflow_version` only switches the major version: 1.x or 2.x.\n",
            "You set: `2.x  # this line is not required unless you are in a notebook`. This will be interpreted as: `2.x`.\n",
            "\n",
            "\n",
            "TensorFlow 2.x selected.\n"
          ]
        }
      ]
    },
    {
      "cell_type": "code",
      "metadata": {
        "id": "0YZnVgxjJr_g"
      },
      "source": [
        "TRAIN_FEATURE_DIR = \"/content/network_sample/train/features\"\n",
        "TRAIN_LABEL_DIR = \"/content/network_sample/train/labels\"\n",
        "TEST_FEATURE_DIR = \"/content/network_sample/test/features\"\n",
        "TEST_LABEL_DIR = \"/content/network_sample/test/labels\"\n",
        "\n",
        "train_feature = np.zeros(shape=(500, 50, 50), dtype=float)\n",
        "train_label = np.zeros(shape=(500, 50,), dtype=float)\n",
        "test_feature = np.zeros(shape=(100, 50, 50), dtype=float)\n",
        "test_label = np.zeros(shape=(100, 50,), dtype=float)\n",
        "\n",
        "for i in range(500):\n",
        "  path = f'{TRAIN_FEATURE_DIR}/f{i}.csv'\n",
        "  df = pd.read_csv(path)\n",
        "  train_feature[i] = df.values\n",
        "  path = f'{TRAIN_LABEL_DIR}/l{i}.csv'\n",
        "  df = pd.read_csv(path)\n",
        "  train_label[i] = df.values\n",
        "\n",
        "for i in range(100):\n",
        "  path = f'{TEST_FEATURE_DIR}/f{i}.csv'\n",
        "  df = pd.read_csv(path)\n",
        "  train_feature[i] = df.values\n",
        "  path = f'{TEST_LABEL_DIR}/l{i}.csv'\n",
        "  df = pd.read_csv(path)\n",
        "  test_label[i] = df.values"
      ],
      "execution_count": 2,
      "outputs": []
    },
    {
      "cell_type": "code",
      "metadata": {
        "id": "oHGn-ROyVzZr"
      },
      "source": [
        "train_feature"
      ],
      "execution_count": null,
      "outputs": []
    },
    {
      "cell_type": "code",
      "metadata": {
        "id": "CGzJz_QxW1xw"
      },
      "source": [
        "train_label"
      ],
      "execution_count": null,
      "outputs": []
    },
    {
      "cell_type": "code",
      "metadata": {
        "colab": {
          "base_uri": "https://localhost:8080/"
        },
        "id": "FevitKe2W3py",
        "outputId": "4afa7e7d-107d-401c-c942-2e5c96d7b32b"
      },
      "source": [
        "train_feature.shape"
      ],
      "execution_count": 6,
      "outputs": [
        {
          "output_type": "execute_result",
          "data": {
            "text/plain": [
              "(500, 50, 50)"
            ]
          },
          "metadata": {},
          "execution_count": 6
        }
      ]
    },
    {
      "cell_type": "code",
      "metadata": {
        "colab": {
          "base_uri": "https://localhost:8080/"
        },
        "id": "001BmSiWZEhb",
        "outputId": "aba0f900-061f-499b-837d-0670225f058c"
      },
      "source": [
        "train_label.shape"
      ],
      "execution_count": 7,
      "outputs": [
        {
          "output_type": "execute_result",
          "data": {
            "text/plain": [
              "(500, 50)"
            ]
          },
          "metadata": {},
          "execution_count": 7
        }
      ]
    },
    {
      "cell_type": "code",
      "metadata": {
        "id": "J42rhtZRd0zP"
      },
      "source": [
        "train_feature = train_feature / 100\n",
        "test_feature = test_feature / 100"
      ],
      "execution_count": 4,
      "outputs": []
    },
    {
      "cell_type": "code",
      "metadata": {
        "id": "f6vtu0ENZUx0"
      },
      "source": [
        "# create the model\n",
        "model = keras.Sequential([\n",
        "    keras.layers.Flatten(input_shape=(50, 50)),\n",
        "    keras.layers.Dense(128, activation='relu'),\n",
        "    keras.layers.Dense(50, activation='relu')\n",
        "])"
      ],
      "execution_count": 9,
      "outputs": []
    },
    {
      "cell_type": "code",
      "metadata": {
        "id": "GbafN9oEacfm"
      },
      "source": [
        "# compiling the model\n",
        "model.compile(\n",
        "    optimizer=tf.keras.optimizers.RMSprop(0.001),\n",
        "    loss='mse',\n",
        "    metrics=['mae', 'mse']\n",
        ")"
      ],
      "execution_count": 10,
      "outputs": []
    },
    {
      "cell_type": "code",
      "metadata": {
        "colab": {
          "base_uri": "https://localhost:8080/"
        },
        "id": "z8uOMV2_qAru",
        "outputId": "f7436b2e-96d6-49c3-e0c4-cb42cfb7adf6"
      },
      "source": [
        "train_label[1]"
      ],
      "execution_count": 133,
      "outputs": [
        {
          "output_type": "execute_result",
          "data": {
            "text/plain": [
              "array([1., 1., 1., 1., 1., 1., 1., 1., 1., 1., 0., 1., 1., 1., 0., 1., 1.,\n",
              "       1., 0., 1., 1., 0., 1., 1., 1., 1., 1., 1., 1., 1., 0., 1., 1., 0.,\n",
              "       0., 1., 1., 0., 1., 0., 1., 1., 1., 1., 1., 1., 0., 1., 1., 1.])"
            ]
          },
          "metadata": {},
          "execution_count": 133
        }
      ]
    },
    {
      "cell_type": "code",
      "metadata": {
        "colab": {
          "base_uri": "https://localhost:8080/"
        },
        "id": "tiJnmCE4o6jQ",
        "outputId": "9498c75a-bfb2-4226-d3c3-fa8ba2e6b130"
      },
      "source": [
        "result = model.predict(train_feature[:1])\n",
        "result"
      ],
      "execution_count": 11,
      "outputs": [
        {
          "output_type": "execute_result",
          "data": {
            "text/plain": [
              "array([[0.01115304, 0.        , 0.06126582, 0.10553794, 0.11645268,\n",
              "        0.0397479 , 0.        , 0.        , 0.        , 0.        ,\n",
              "        0.        , 0.13365741, 0.04519689, 0.        , 0.03715605,\n",
              "        0.        , 0.        , 0.03934497, 0.03627475, 0.0250033 ,\n",
              "        0.03525222, 0.        , 0.        , 0.        , 0.        ,\n",
              "        0.        , 0.06033648, 0.00758233, 0.11585291, 0.05441315,\n",
              "        0.        , 0.        , 0.01715683, 0.14742722, 0.06351423,\n",
              "        0.03941657, 0.18488221, 0.11112031, 0.        , 0.        ,\n",
              "        0.        , 0.10216432, 0.02943389, 0.        , 0.03528717,\n",
              "        0.02624935, 0.03264771, 0.        , 0.        , 0.07880899]],\n",
              "      dtype=float32)"
            ]
          },
          "metadata": {},
          "execution_count": 11
        }
      ]
    },
    {
      "cell_type": "code",
      "metadata": {
        "id": "OL_EWToPam_B",
        "colab": {
          "base_uri": "https://localhost:8080/"
        },
        "outputId": "16f79bc8-5c97-4506-cb36-51a4e62f684d"
      },
      "source": [
        "model.fit(train_feature, train_label, epochs=3)"
      ],
      "execution_count": 12,
      "outputs": [
        {
          "output_type": "stream",
          "name": "stdout",
          "text": [
            "Epoch 1/3\n",
            "16/16 [==============================] - 1s 7ms/step - loss: 0.4356 - mae: 0.5488 - mse: 0.4356\n",
            "Epoch 2/3\n",
            "16/16 [==============================] - 0s 7ms/step - loss: 0.3419 - mae: 0.4550 - mse: 0.3419\n",
            "Epoch 3/3\n",
            "16/16 [==============================] - 0s 7ms/step - loss: 0.3383 - mae: 0.4508 - mse: 0.3383\n"
          ]
        },
        {
          "output_type": "execute_result",
          "data": {
            "text/plain": [
              "<keras.callbacks.History at 0x7fd023923390>"
            ]
          },
          "metadata": {},
          "execution_count": 12
        }
      ]
    },
    {
      "cell_type": "code",
      "metadata": {
        "colab": {
          "base_uri": "https://localhost:8080/"
        },
        "id": "oqDiWADTqcKB",
        "outputId": "f45e1552-3ed7-4d7d-e74a-691c9499be3a"
      },
      "source": [
        "model.evaluate(test_feature, test_label)"
      ],
      "execution_count": 13,
      "outputs": [
        {
          "output_type": "stream",
          "name": "stdout",
          "text": [
            "4/4 [==============================] - 0s 3ms/step - loss: 0.7687 - mae: 0.7880 - mse: 0.7687\n"
          ]
        },
        {
          "output_type": "execute_result",
          "data": {
            "text/plain": [
              "[0.7686669826507568, 0.7880377173423767, 0.7686669826507568]"
            ]
          },
          "metadata": {},
          "execution_count": 13
        }
      ]
    },
    {
      "cell_type": "code",
      "metadata": {
        "colab": {
          "base_uri": "https://localhost:8080/"
        },
        "id": "ws7JrzGVrHiY",
        "outputId": "3510b380-371c-4090-a4c8-4397c9e4c222"
      },
      "source": [
        "result = model.predict(test_feature)"
      ],
      "execution_count": 153,
      "outputs": [
        {
          "output_type": "stream",
          "name": "stdout",
          "text": [
            "WARNING:tensorflow:5 out of the last 9 calls to <function Model.make_predict_function.<locals>.predict_function at 0x7ff3c3d0e170> triggered tf.function retracing. Tracing is expensive and the excessive number of tracings could be due to (1) creating @tf.function repeatedly in a loop, (2) passing tensors with different shapes, (3) passing Python objects instead of tensors. For (1), please define your @tf.function outside of the loop. For (2), @tf.function has experimental_relax_shapes=True option that relaxes argument shapes that can avoid unnecessary retracing. For (3), please refer to https://www.tensorflow.org/guide/function#controlling_retracing and https://www.tensorflow.org/api_docs/python/tf/function for  more details.\n"
          ]
        }
      ]
    },
    {
      "cell_type": "code",
      "metadata": {
        "colab": {
          "base_uri": "https://localhost:8080/"
        },
        "id": "Aa4gLNbLrV21",
        "outputId": "f214fe4d-61bb-4c0f-a18a-51d83baa7a2f"
      },
      "source": [
        "result[5]"
      ],
      "execution_count": 157,
      "outputs": [
        {
          "output_type": "execute_result",
          "data": {
            "text/plain": [
              "array([0.        , 0.        , 0.        , 0.        , 0.        ,\n",
              "       0.        , 0.        , 0.        , 0.        , 0.        ,\n",
              "       0.        , 0.        , 0.        , 0.        , 0.        ,\n",
              "       0.        , 0.        , 0.        , 0.        , 0.        ,\n",
              "       0.        , 0.        , 0.        , 0.        , 0.        ,\n",
              "       0.0002785 , 0.        , 0.        , 0.        , 0.        ,\n",
              "       0.        , 0.        , 0.        , 0.        , 0.        ,\n",
              "       0.00206684, 0.        , 0.        , 0.        , 0.        ,\n",
              "       0.        , 0.        , 0.        , 0.        , 0.        ,\n",
              "       0.        , 0.        , 0.        , 0.        , 0.00030585],\n",
              "      dtype=float32)"
            ]
          },
          "metadata": {},
          "execution_count": 157
        }
      ]
    }
  ]
}