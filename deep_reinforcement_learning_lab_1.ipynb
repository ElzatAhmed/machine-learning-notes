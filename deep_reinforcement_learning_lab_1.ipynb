{
  "nbformat": 4,
  "nbformat_minor": 0,
  "metadata": {
    "colab": {
      "name": "deep-reinforcement-learning-lab-1.ipynb",
      "provenance": [],
      "authorship_tag": "ABX9TyNxVUhtie3JmtngKaFLyeSS",
      "include_colab_link": true
    },
    "kernelspec": {
      "name": "python3",
      "display_name": "Python 3"
    },
    "language_info": {
      "name": "python"
    }
  },
  "cells": [
    {
      "cell_type": "markdown",
      "metadata": {
        "id": "view-in-github",
        "colab_type": "text"
      },
      "source": [
        "<a href=\"https://colab.research.google.com/github/ElzatAhmed/machine-learning-notes/blob/main/deep_reinforcement_learning_lab_1.ipynb\" target=\"_parent\"><img src=\"https://colab.research.google.com/assets/colab-badge.svg\" alt=\"Open In Colab\"/></a>"
      ]
    },
    {
      "cell_type": "code",
      "execution_count": 1,
      "metadata": {
        "id": "nydPA7kdR1cf"
      },
      "outputs": [],
      "source": [
        "# 导入工具包\n",
        "import torch\n",
        "import numpy as np\n",
        "import torch.nn as nn\n",
        "import torch.nn.functional as F\n",
        "import torch.optim as optim\n",
        "import matplotlib.pyplot as plt\n",
        "import pandas as pd"
      ]
    },
    {
      "cell_type": "code",
      "source": [
        "# 从google drive中读取上传的文件\n",
        "from google.colab import drive\n",
        "drive.mount('/content/gdrive')"
      ],
      "metadata": {
        "colab": {
          "base_uri": "https://localhost:8080/"
        },
        "id": "mbrYQQrkSINe",
        "outputId": "b6d644fa-781a-4f4d-c02b-fdcfbd8c6070"
      },
      "execution_count": 2,
      "outputs": [
        {
          "output_type": "stream",
          "name": "stdout",
          "text": [
            "Mounted at /content/gdrive\n"
          ]
        }
      ]
    },
    {
      "cell_type": "code",
      "source": [
        "# 读取csv文件\n",
        "whole = pd.read_csv('/content/gdrive/MyDrive/composite-index-per-month.csv')\n",
        "whole.head()"
      ],
      "metadata": {
        "colab": {
          "base_uri": "https://localhost:8080/",
          "height": 204
        },
        "id": "gtpUIyFjSRO1",
        "outputId": "35cf221e-3da8-4fb0-acb8-9a7aef889e9b"
      },
      "execution_count": 3,
      "outputs": [
        {
          "output_type": "execute_result",
          "data": {
            "text/plain": [
              "         日期        收盘        开盘         高         低      交易量     涨跌幅\n",
              "0   2022年4月  3,282.72  3,234.67  3,287.23  3,226.30   37.82B   0.94%\n",
              "1   2022年3月  3,252.20  3,471.36  3,500.29  3,023.30  870.20B  -6.07%\n",
              "2   2022年2月  3,462.31  3,407.76  3,500.15  3,390.46  537.73B   3.00%\n",
              "3   2022年1月  3,361.44  3,649.15  3,651.89  3,356.56  662.57B  -7.65%\n",
              "4  2021年12月  3,639.78  3,561.89  3,708.94  3,558.69  863.87B   2.13%"
            ],
            "text/html": [
              "\n",
              "  <div id=\"df-1a57828d-bf38-41e8-9d31-57382d611a52\">\n",
              "    <div class=\"colab-df-container\">\n",
              "      <div>\n",
              "<style scoped>\n",
              "    .dataframe tbody tr th:only-of-type {\n",
              "        vertical-align: middle;\n",
              "    }\n",
              "\n",
              "    .dataframe tbody tr th {\n",
              "        vertical-align: top;\n",
              "    }\n",
              "\n",
              "    .dataframe thead th {\n",
              "        text-align: right;\n",
              "    }\n",
              "</style>\n",
              "<table border=\"1\" class=\"dataframe\">\n",
              "  <thead>\n",
              "    <tr style=\"text-align: right;\">\n",
              "      <th></th>\n",
              "      <th>日期</th>\n",
              "      <th>收盘</th>\n",
              "      <th>开盘</th>\n",
              "      <th>高</th>\n",
              "      <th>低</th>\n",
              "      <th>交易量</th>\n",
              "      <th>涨跌幅</th>\n",
              "    </tr>\n",
              "  </thead>\n",
              "  <tbody>\n",
              "    <tr>\n",
              "      <th>0</th>\n",
              "      <td>2022年4月</td>\n",
              "      <td>3,282.72</td>\n",
              "      <td>3,234.67</td>\n",
              "      <td>3,287.23</td>\n",
              "      <td>3,226.30</td>\n",
              "      <td>37.82B</td>\n",
              "      <td>0.94%</td>\n",
              "    </tr>\n",
              "    <tr>\n",
              "      <th>1</th>\n",
              "      <td>2022年3月</td>\n",
              "      <td>3,252.20</td>\n",
              "      <td>3,471.36</td>\n",
              "      <td>3,500.29</td>\n",
              "      <td>3,023.30</td>\n",
              "      <td>870.20B</td>\n",
              "      <td>-6.07%</td>\n",
              "    </tr>\n",
              "    <tr>\n",
              "      <th>2</th>\n",
              "      <td>2022年2月</td>\n",
              "      <td>3,462.31</td>\n",
              "      <td>3,407.76</td>\n",
              "      <td>3,500.15</td>\n",
              "      <td>3,390.46</td>\n",
              "      <td>537.73B</td>\n",
              "      <td>3.00%</td>\n",
              "    </tr>\n",
              "    <tr>\n",
              "      <th>3</th>\n",
              "      <td>2022年1月</td>\n",
              "      <td>3,361.44</td>\n",
              "      <td>3,649.15</td>\n",
              "      <td>3,651.89</td>\n",
              "      <td>3,356.56</td>\n",
              "      <td>662.57B</td>\n",
              "      <td>-7.65%</td>\n",
              "    </tr>\n",
              "    <tr>\n",
              "      <th>4</th>\n",
              "      <td>2021年12月</td>\n",
              "      <td>3,639.78</td>\n",
              "      <td>3,561.89</td>\n",
              "      <td>3,708.94</td>\n",
              "      <td>3,558.69</td>\n",
              "      <td>863.87B</td>\n",
              "      <td>2.13%</td>\n",
              "    </tr>\n",
              "  </tbody>\n",
              "</table>\n",
              "</div>\n",
              "      <button class=\"colab-df-convert\" onclick=\"convertToInteractive('df-1a57828d-bf38-41e8-9d31-57382d611a52')\"\n",
              "              title=\"Convert this dataframe to an interactive table.\"\n",
              "              style=\"display:none;\">\n",
              "        \n",
              "  <svg xmlns=\"http://www.w3.org/2000/svg\" height=\"24px\"viewBox=\"0 0 24 24\"\n",
              "       width=\"24px\">\n",
              "    <path d=\"M0 0h24v24H0V0z\" fill=\"none\"/>\n",
              "    <path d=\"M18.56 5.44l.94 2.06.94-2.06 2.06-.94-2.06-.94-.94-2.06-.94 2.06-2.06.94zm-11 1L8.5 8.5l.94-2.06 2.06-.94-2.06-.94L8.5 2.5l-.94 2.06-2.06.94zm10 10l.94 2.06.94-2.06 2.06-.94-2.06-.94-.94-2.06-.94 2.06-2.06.94z\"/><path d=\"M17.41 7.96l-1.37-1.37c-.4-.4-.92-.59-1.43-.59-.52 0-1.04.2-1.43.59L10.3 9.45l-7.72 7.72c-.78.78-.78 2.05 0 2.83L4 21.41c.39.39.9.59 1.41.59.51 0 1.02-.2 1.41-.59l7.78-7.78 2.81-2.81c.8-.78.8-2.07 0-2.86zM5.41 20L4 18.59l7.72-7.72 1.47 1.35L5.41 20z\"/>\n",
              "  </svg>\n",
              "      </button>\n",
              "      \n",
              "  <style>\n",
              "    .colab-df-container {\n",
              "      display:flex;\n",
              "      flex-wrap:wrap;\n",
              "      gap: 12px;\n",
              "    }\n",
              "\n",
              "    .colab-df-convert {\n",
              "      background-color: #E8F0FE;\n",
              "      border: none;\n",
              "      border-radius: 50%;\n",
              "      cursor: pointer;\n",
              "      display: none;\n",
              "      fill: #1967D2;\n",
              "      height: 32px;\n",
              "      padding: 0 0 0 0;\n",
              "      width: 32px;\n",
              "    }\n",
              "\n",
              "    .colab-df-convert:hover {\n",
              "      background-color: #E2EBFA;\n",
              "      box-shadow: 0px 1px 2px rgba(60, 64, 67, 0.3), 0px 1px 3px 1px rgba(60, 64, 67, 0.15);\n",
              "      fill: #174EA6;\n",
              "    }\n",
              "\n",
              "    [theme=dark] .colab-df-convert {\n",
              "      background-color: #3B4455;\n",
              "      fill: #D2E3FC;\n",
              "    }\n",
              "\n",
              "    [theme=dark] .colab-df-convert:hover {\n",
              "      background-color: #434B5C;\n",
              "      box-shadow: 0px 1px 3px 1px rgba(0, 0, 0, 0.15);\n",
              "      filter: drop-shadow(0px 1px 2px rgba(0, 0, 0, 0.3));\n",
              "      fill: #FFFFFF;\n",
              "    }\n",
              "  </style>\n",
              "\n",
              "      <script>\n",
              "        const buttonEl =\n",
              "          document.querySelector('#df-1a57828d-bf38-41e8-9d31-57382d611a52 button.colab-df-convert');\n",
              "        buttonEl.style.display =\n",
              "          google.colab.kernel.accessAllowed ? 'block' : 'none';\n",
              "\n",
              "        async function convertToInteractive(key) {\n",
              "          const element = document.querySelector('#df-1a57828d-bf38-41e8-9d31-57382d611a52');\n",
              "          const dataTable =\n",
              "            await google.colab.kernel.invokeFunction('convertToInteractive',\n",
              "                                                     [key], {});\n",
              "          if (!dataTable) return;\n",
              "\n",
              "          const docLinkHtml = 'Like what you see? Visit the ' +\n",
              "            '<a target=\"_blank\" href=https://colab.research.google.com/notebooks/data_table.ipynb>data table notebook</a>'\n",
              "            + ' to learn more about interactive tables.';\n",
              "          element.innerHTML = '';\n",
              "          dataTable['output_type'] = 'display_data';\n",
              "          await google.colab.output.renderOutput(dataTable, element);\n",
              "          const docLink = document.createElement('div');\n",
              "          docLink.innerHTML = docLinkHtml;\n",
              "          element.appendChild(docLink);\n",
              "        }\n",
              "      </script>\n",
              "    </div>\n",
              "  </div>\n",
              "  "
            ]
          },
          "metadata": {},
          "execution_count": 3
        }
      ]
    },
    {
      "cell_type": "code",
      "source": [
        "# 将csv文件倒置\n",
        "reversed = whole.iloc[::-1]\n",
        "reversed.reset_index(inplace=True)\n",
        "reversed.head()"
      ],
      "metadata": {
        "colab": {
          "base_uri": "https://localhost:8080/",
          "height": 204
        },
        "id": "lmlfmipSScSj",
        "outputId": "5ca3b53f-5a72-4026-b92f-50f2ba004a30"
      },
      "execution_count": 4,
      "outputs": [
        {
          "output_type": "execute_result",
          "data": {
            "text/plain": [
              "   index       日期      收盘      开盘       高       低      交易量      涨跌幅\n",
              "0    327  1995年1月  562.59  637.73  657.45  547.39  502.63M  -13.16%\n",
              "1    326  1995年2月  549.26  559.78  608.25  524.43  648.18M   -2.37%\n",
              "2    325  1995年3月  646.91  548.91  647.77  545.74    2.42B   17.78%\n",
              "3    324  1995年4月  579.93  650.98  680.73  548.75    3.77B  -10.35%\n",
              "4    323  1995年5月  700.51  577.95  926.41  564.86    5.84B   20.79%"
            ],
            "text/html": [
              "\n",
              "  <div id=\"df-30b6277f-ff39-4b27-9129-ae91fad33571\">\n",
              "    <div class=\"colab-df-container\">\n",
              "      <div>\n",
              "<style scoped>\n",
              "    .dataframe tbody tr th:only-of-type {\n",
              "        vertical-align: middle;\n",
              "    }\n",
              "\n",
              "    .dataframe tbody tr th {\n",
              "        vertical-align: top;\n",
              "    }\n",
              "\n",
              "    .dataframe thead th {\n",
              "        text-align: right;\n",
              "    }\n",
              "</style>\n",
              "<table border=\"1\" class=\"dataframe\">\n",
              "  <thead>\n",
              "    <tr style=\"text-align: right;\">\n",
              "      <th></th>\n",
              "      <th>index</th>\n",
              "      <th>日期</th>\n",
              "      <th>收盘</th>\n",
              "      <th>开盘</th>\n",
              "      <th>高</th>\n",
              "      <th>低</th>\n",
              "      <th>交易量</th>\n",
              "      <th>涨跌幅</th>\n",
              "    </tr>\n",
              "  </thead>\n",
              "  <tbody>\n",
              "    <tr>\n",
              "      <th>0</th>\n",
              "      <td>327</td>\n",
              "      <td>1995年1月</td>\n",
              "      <td>562.59</td>\n",
              "      <td>637.73</td>\n",
              "      <td>657.45</td>\n",
              "      <td>547.39</td>\n",
              "      <td>502.63M</td>\n",
              "      <td>-13.16%</td>\n",
              "    </tr>\n",
              "    <tr>\n",
              "      <th>1</th>\n",
              "      <td>326</td>\n",
              "      <td>1995年2月</td>\n",
              "      <td>549.26</td>\n",
              "      <td>559.78</td>\n",
              "      <td>608.25</td>\n",
              "      <td>524.43</td>\n",
              "      <td>648.18M</td>\n",
              "      <td>-2.37%</td>\n",
              "    </tr>\n",
              "    <tr>\n",
              "      <th>2</th>\n",
              "      <td>325</td>\n",
              "      <td>1995年3月</td>\n",
              "      <td>646.91</td>\n",
              "      <td>548.91</td>\n",
              "      <td>647.77</td>\n",
              "      <td>545.74</td>\n",
              "      <td>2.42B</td>\n",
              "      <td>17.78%</td>\n",
              "    </tr>\n",
              "    <tr>\n",
              "      <th>3</th>\n",
              "      <td>324</td>\n",
              "      <td>1995年4月</td>\n",
              "      <td>579.93</td>\n",
              "      <td>650.98</td>\n",
              "      <td>680.73</td>\n",
              "      <td>548.75</td>\n",
              "      <td>3.77B</td>\n",
              "      <td>-10.35%</td>\n",
              "    </tr>\n",
              "    <tr>\n",
              "      <th>4</th>\n",
              "      <td>323</td>\n",
              "      <td>1995年5月</td>\n",
              "      <td>700.51</td>\n",
              "      <td>577.95</td>\n",
              "      <td>926.41</td>\n",
              "      <td>564.86</td>\n",
              "      <td>5.84B</td>\n",
              "      <td>20.79%</td>\n",
              "    </tr>\n",
              "  </tbody>\n",
              "</table>\n",
              "</div>\n",
              "      <button class=\"colab-df-convert\" onclick=\"convertToInteractive('df-30b6277f-ff39-4b27-9129-ae91fad33571')\"\n",
              "              title=\"Convert this dataframe to an interactive table.\"\n",
              "              style=\"display:none;\">\n",
              "        \n",
              "  <svg xmlns=\"http://www.w3.org/2000/svg\" height=\"24px\"viewBox=\"0 0 24 24\"\n",
              "       width=\"24px\">\n",
              "    <path d=\"M0 0h24v24H0V0z\" fill=\"none\"/>\n",
              "    <path d=\"M18.56 5.44l.94 2.06.94-2.06 2.06-.94-2.06-.94-.94-2.06-.94 2.06-2.06.94zm-11 1L8.5 8.5l.94-2.06 2.06-.94-2.06-.94L8.5 2.5l-.94 2.06-2.06.94zm10 10l.94 2.06.94-2.06 2.06-.94-2.06-.94-.94-2.06-.94 2.06-2.06.94z\"/><path d=\"M17.41 7.96l-1.37-1.37c-.4-.4-.92-.59-1.43-.59-.52 0-1.04.2-1.43.59L10.3 9.45l-7.72 7.72c-.78.78-.78 2.05 0 2.83L4 21.41c.39.39.9.59 1.41.59.51 0 1.02-.2 1.41-.59l7.78-7.78 2.81-2.81c.8-.78.8-2.07 0-2.86zM5.41 20L4 18.59l7.72-7.72 1.47 1.35L5.41 20z\"/>\n",
              "  </svg>\n",
              "      </button>\n",
              "      \n",
              "  <style>\n",
              "    .colab-df-container {\n",
              "      display:flex;\n",
              "      flex-wrap:wrap;\n",
              "      gap: 12px;\n",
              "    }\n",
              "\n",
              "    .colab-df-convert {\n",
              "      background-color: #E8F0FE;\n",
              "      border: none;\n",
              "      border-radius: 50%;\n",
              "      cursor: pointer;\n",
              "      display: none;\n",
              "      fill: #1967D2;\n",
              "      height: 32px;\n",
              "      padding: 0 0 0 0;\n",
              "      width: 32px;\n",
              "    }\n",
              "\n",
              "    .colab-df-convert:hover {\n",
              "      background-color: #E2EBFA;\n",
              "      box-shadow: 0px 1px 2px rgba(60, 64, 67, 0.3), 0px 1px 3px 1px rgba(60, 64, 67, 0.15);\n",
              "      fill: #174EA6;\n",
              "    }\n",
              "\n",
              "    [theme=dark] .colab-df-convert {\n",
              "      background-color: #3B4455;\n",
              "      fill: #D2E3FC;\n",
              "    }\n",
              "\n",
              "    [theme=dark] .colab-df-convert:hover {\n",
              "      background-color: #434B5C;\n",
              "      box-shadow: 0px 1px 3px 1px rgba(0, 0, 0, 0.15);\n",
              "      filter: drop-shadow(0px 1px 2px rgba(0, 0, 0, 0.3));\n",
              "      fill: #FFFFFF;\n",
              "    }\n",
              "  </style>\n",
              "\n",
              "      <script>\n",
              "        const buttonEl =\n",
              "          document.querySelector('#df-30b6277f-ff39-4b27-9129-ae91fad33571 button.colab-df-convert');\n",
              "        buttonEl.style.display =\n",
              "          google.colab.kernel.accessAllowed ? 'block' : 'none';\n",
              "\n",
              "        async function convertToInteractive(key) {\n",
              "          const element = document.querySelector('#df-30b6277f-ff39-4b27-9129-ae91fad33571');\n",
              "          const dataTable =\n",
              "            await google.colab.kernel.invokeFunction('convertToInteractive',\n",
              "                                                     [key], {});\n",
              "          if (!dataTable) return;\n",
              "\n",
              "          const docLinkHtml = 'Like what you see? Visit the ' +\n",
              "            '<a target=\"_blank\" href=https://colab.research.google.com/notebooks/data_table.ipynb>data table notebook</a>'\n",
              "            + ' to learn more about interactive tables.';\n",
              "          element.innerHTML = '';\n",
              "          dataTable['output_type'] = 'display_data';\n",
              "          await google.colab.output.renderOutput(dataTable, element);\n",
              "          const docLink = document.createElement('div');\n",
              "          docLink.innerHTML = docLinkHtml;\n",
              "          element.appendChild(docLink);\n",
              "        }\n",
              "      </script>\n",
              "    </div>\n",
              "  </div>\n",
              "  "
            ]
          },
          "metadata": {},
          "execution_count": 4
        }
      ]
    },
    {
      "cell_type": "code",
      "source": [
        "# 只取出csv文件'收盘'一列\n",
        "annual_data = reversed.loc[:, ['收盘']]\n",
        "annual_data.head()"
      ],
      "metadata": {
        "colab": {
          "base_uri": "https://localhost:8080/",
          "height": 204
        },
        "id": "zsTcZK68Sr1A",
        "outputId": "ad02438a-adde-4382-fd92-9aa5c5a134d5"
      },
      "execution_count": 10,
      "outputs": [
        {
          "output_type": "execute_result",
          "data": {
            "text/plain": [
              "       收盘\n",
              "0  562.59\n",
              "1  549.26\n",
              "2  646.91\n",
              "3  579.93\n",
              "4  700.51"
            ],
            "text/html": [
              "\n",
              "  <div id=\"df-658c64cb-70fb-4819-8702-80be877cc655\">\n",
              "    <div class=\"colab-df-container\">\n",
              "      <div>\n",
              "<style scoped>\n",
              "    .dataframe tbody tr th:only-of-type {\n",
              "        vertical-align: middle;\n",
              "    }\n",
              "\n",
              "    .dataframe tbody tr th {\n",
              "        vertical-align: top;\n",
              "    }\n",
              "\n",
              "    .dataframe thead th {\n",
              "        text-align: right;\n",
              "    }\n",
              "</style>\n",
              "<table border=\"1\" class=\"dataframe\">\n",
              "  <thead>\n",
              "    <tr style=\"text-align: right;\">\n",
              "      <th></th>\n",
              "      <th>收盘</th>\n",
              "    </tr>\n",
              "  </thead>\n",
              "  <tbody>\n",
              "    <tr>\n",
              "      <th>0</th>\n",
              "      <td>562.59</td>\n",
              "    </tr>\n",
              "    <tr>\n",
              "      <th>1</th>\n",
              "      <td>549.26</td>\n",
              "    </tr>\n",
              "    <tr>\n",
              "      <th>2</th>\n",
              "      <td>646.91</td>\n",
              "    </tr>\n",
              "    <tr>\n",
              "      <th>3</th>\n",
              "      <td>579.93</td>\n",
              "    </tr>\n",
              "    <tr>\n",
              "      <th>4</th>\n",
              "      <td>700.51</td>\n",
              "    </tr>\n",
              "  </tbody>\n",
              "</table>\n",
              "</div>\n",
              "      <button class=\"colab-df-convert\" onclick=\"convertToInteractive('df-658c64cb-70fb-4819-8702-80be877cc655')\"\n",
              "              title=\"Convert this dataframe to an interactive table.\"\n",
              "              style=\"display:none;\">\n",
              "        \n",
              "  <svg xmlns=\"http://www.w3.org/2000/svg\" height=\"24px\"viewBox=\"0 0 24 24\"\n",
              "       width=\"24px\">\n",
              "    <path d=\"M0 0h24v24H0V0z\" fill=\"none\"/>\n",
              "    <path d=\"M18.56 5.44l.94 2.06.94-2.06 2.06-.94-2.06-.94-.94-2.06-.94 2.06-2.06.94zm-11 1L8.5 8.5l.94-2.06 2.06-.94-2.06-.94L8.5 2.5l-.94 2.06-2.06.94zm10 10l.94 2.06.94-2.06 2.06-.94-2.06-.94-.94-2.06-.94 2.06-2.06.94z\"/><path d=\"M17.41 7.96l-1.37-1.37c-.4-.4-.92-.59-1.43-.59-.52 0-1.04.2-1.43.59L10.3 9.45l-7.72 7.72c-.78.78-.78 2.05 0 2.83L4 21.41c.39.39.9.59 1.41.59.51 0 1.02-.2 1.41-.59l7.78-7.78 2.81-2.81c.8-.78.8-2.07 0-2.86zM5.41 20L4 18.59l7.72-7.72 1.47 1.35L5.41 20z\"/>\n",
              "  </svg>\n",
              "      </button>\n",
              "      \n",
              "  <style>\n",
              "    .colab-df-container {\n",
              "      display:flex;\n",
              "      flex-wrap:wrap;\n",
              "      gap: 12px;\n",
              "    }\n",
              "\n",
              "    .colab-df-convert {\n",
              "      background-color: #E8F0FE;\n",
              "      border: none;\n",
              "      border-radius: 50%;\n",
              "      cursor: pointer;\n",
              "      display: none;\n",
              "      fill: #1967D2;\n",
              "      height: 32px;\n",
              "      padding: 0 0 0 0;\n",
              "      width: 32px;\n",
              "    }\n",
              "\n",
              "    .colab-df-convert:hover {\n",
              "      background-color: #E2EBFA;\n",
              "      box-shadow: 0px 1px 2px rgba(60, 64, 67, 0.3), 0px 1px 3px 1px rgba(60, 64, 67, 0.15);\n",
              "      fill: #174EA6;\n",
              "    }\n",
              "\n",
              "    [theme=dark] .colab-df-convert {\n",
              "      background-color: #3B4455;\n",
              "      fill: #D2E3FC;\n",
              "    }\n",
              "\n",
              "    [theme=dark] .colab-df-convert:hover {\n",
              "      background-color: #434B5C;\n",
              "      box-shadow: 0px 1px 3px 1px rgba(0, 0, 0, 0.15);\n",
              "      filter: drop-shadow(0px 1px 2px rgba(0, 0, 0, 0.3));\n",
              "      fill: #FFFFFF;\n",
              "    }\n",
              "  </style>\n",
              "\n",
              "      <script>\n",
              "        const buttonEl =\n",
              "          document.querySelector('#df-658c64cb-70fb-4819-8702-80be877cc655 button.colab-df-convert');\n",
              "        buttonEl.style.display =\n",
              "          google.colab.kernel.accessAllowed ? 'block' : 'none';\n",
              "\n",
              "        async function convertToInteractive(key) {\n",
              "          const element = document.querySelector('#df-658c64cb-70fb-4819-8702-80be877cc655');\n",
              "          const dataTable =\n",
              "            await google.colab.kernel.invokeFunction('convertToInteractive',\n",
              "                                                     [key], {});\n",
              "          if (!dataTable) return;\n",
              "\n",
              "          const docLinkHtml = 'Like what you see? Visit the ' +\n",
              "            '<a target=\"_blank\" href=https://colab.research.google.com/notebooks/data_table.ipynb>data table notebook</a>'\n",
              "            + ' to learn more about interactive tables.';\n",
              "          element.innerHTML = '';\n",
              "          dataTable['output_type'] = 'display_data';\n",
              "          await google.colab.output.renderOutput(dataTable, element);\n",
              "          const docLink = document.createElement('div');\n",
              "          docLink.innerHTML = docLinkHtml;\n",
              "          element.appendChild(docLink);\n",
              "        }\n",
              "      </script>\n",
              "    </div>\n",
              "  </div>\n",
              "  "
            ]
          },
          "metadata": {},
          "execution_count": 10
        }
      ]
    },
    {
      "cell_type": "code",
      "source": [
        "# 按季度计算平均收盘价格\n",
        "season_data = []\n",
        "count = 0\n",
        "datas = []\n",
        "for data in annual_data['收盘']:\n",
        "  if count == 2:\n",
        "    season_data.append(np.mean(datas))\n",
        "    datas.clear()\n",
        "    count = 0\n",
        "  else:\n",
        "    datas.append(float(data.replace(',', '')))\n",
        "    count += 1\n",
        "if len(datas) > 0:\n",
        "  season_data.append(np.mean(datas))"
      ],
      "metadata": {
        "id": "m1i5vAktS70K"
      },
      "execution_count": 187,
      "outputs": []
    },
    {
      "cell_type": "code",
      "source": [
        "# 制季度作dataframe展示\n",
        "season_dict = {}\n",
        "season = 1\n",
        "year = 1995\n",
        "for data in season_data:\n",
        "  if season > 4:\n",
        "    year += 1\n",
        "    season = 1\n",
        "  season_dict[f'{year}年第{season}季度'] = data\n",
        "  season += 1\n",
        "temp = pd.DataFrame(season_dict, index=[0])"
      ],
      "metadata": {
        "id": "35uibvqJi9hc"
      },
      "execution_count": 189,
      "outputs": []
    },
    {
      "cell_type": "code",
      "source": [
        "temp.head()"
      ],
      "metadata": {
        "colab": {
          "base_uri": "https://localhost:8080/",
          "height": 207
        },
        "id": "EvDklkzEjggF",
        "outputId": "c823154a-2fbb-4ba7-bfdc-ec6b8db7eada"
      },
      "execution_count": 190,
      "outputs": [
        {
          "output_type": "execute_result",
          "data": {
            "text/plain": [
              "   1995年第1季度  1995年第2季度  1995年第3季度  1995年第4季度  1996年第1季度  1996年第2季度  \\\n",
              "0    555.925     640.22     709.71     679.22     545.14    662.405   \n",
              "\n",
              "   1996年第3季度  1996年第4季度  1997年第1季度  1997年第2季度  ...  2020年第1季度  2020年第2季度  \\\n",
              "0     816.21    1004.83   1002.505   1339.465  ...   2928.415   2856.215   \n",
              "\n",
              "   2020年第3季度  2020年第4季度  2021年第1季度  2021年第2季度  2021年第3季度  2021年第4季度  \\\n",
              "0   3352.845   3308.145   3496.075    3531.17    3470.65   3555.615   \n",
              "\n",
              "   2022年第1季度  2022年第2季度  \n",
              "0   3411.875    3282.72  \n",
              "\n",
              "[1 rows x 110 columns]"
            ],
            "text/html": [
              "\n",
              "  <div id=\"df-8ff73173-71c7-4e0f-bb1c-9fc64f26419d\">\n",
              "    <div class=\"colab-df-container\">\n",
              "      <div>\n",
              "<style scoped>\n",
              "    .dataframe tbody tr th:only-of-type {\n",
              "        vertical-align: middle;\n",
              "    }\n",
              "\n",
              "    .dataframe tbody tr th {\n",
              "        vertical-align: top;\n",
              "    }\n",
              "\n",
              "    .dataframe thead th {\n",
              "        text-align: right;\n",
              "    }\n",
              "</style>\n",
              "<table border=\"1\" class=\"dataframe\">\n",
              "  <thead>\n",
              "    <tr style=\"text-align: right;\">\n",
              "      <th></th>\n",
              "      <th>1995年第1季度</th>\n",
              "      <th>1995年第2季度</th>\n",
              "      <th>1995年第3季度</th>\n",
              "      <th>1995年第4季度</th>\n",
              "      <th>1996年第1季度</th>\n",
              "      <th>1996年第2季度</th>\n",
              "      <th>1996年第3季度</th>\n",
              "      <th>1996年第4季度</th>\n",
              "      <th>1997年第1季度</th>\n",
              "      <th>1997年第2季度</th>\n",
              "      <th>...</th>\n",
              "      <th>2020年第1季度</th>\n",
              "      <th>2020年第2季度</th>\n",
              "      <th>2020年第3季度</th>\n",
              "      <th>2020年第4季度</th>\n",
              "      <th>2021年第1季度</th>\n",
              "      <th>2021年第2季度</th>\n",
              "      <th>2021年第3季度</th>\n",
              "      <th>2021年第4季度</th>\n",
              "      <th>2022年第1季度</th>\n",
              "      <th>2022年第2季度</th>\n",
              "    </tr>\n",
              "  </thead>\n",
              "  <tbody>\n",
              "    <tr>\n",
              "      <th>0</th>\n",
              "      <td>555.925</td>\n",
              "      <td>640.22</td>\n",
              "      <td>709.71</td>\n",
              "      <td>679.22</td>\n",
              "      <td>545.14</td>\n",
              "      <td>662.405</td>\n",
              "      <td>816.21</td>\n",
              "      <td>1004.83</td>\n",
              "      <td>1002.505</td>\n",
              "      <td>1339.465</td>\n",
              "      <td>...</td>\n",
              "      <td>2928.415</td>\n",
              "      <td>2856.215</td>\n",
              "      <td>3352.845</td>\n",
              "      <td>3308.145</td>\n",
              "      <td>3496.075</td>\n",
              "      <td>3531.17</td>\n",
              "      <td>3470.65</td>\n",
              "      <td>3555.615</td>\n",
              "      <td>3411.875</td>\n",
              "      <td>3282.72</td>\n",
              "    </tr>\n",
              "  </tbody>\n",
              "</table>\n",
              "<p>1 rows × 110 columns</p>\n",
              "</div>\n",
              "      <button class=\"colab-df-convert\" onclick=\"convertToInteractive('df-8ff73173-71c7-4e0f-bb1c-9fc64f26419d')\"\n",
              "              title=\"Convert this dataframe to an interactive table.\"\n",
              "              style=\"display:none;\">\n",
              "        \n",
              "  <svg xmlns=\"http://www.w3.org/2000/svg\" height=\"24px\"viewBox=\"0 0 24 24\"\n",
              "       width=\"24px\">\n",
              "    <path d=\"M0 0h24v24H0V0z\" fill=\"none\"/>\n",
              "    <path d=\"M18.56 5.44l.94 2.06.94-2.06 2.06-.94-2.06-.94-.94-2.06-.94 2.06-2.06.94zm-11 1L8.5 8.5l.94-2.06 2.06-.94-2.06-.94L8.5 2.5l-.94 2.06-2.06.94zm10 10l.94 2.06.94-2.06 2.06-.94-2.06-.94-.94-2.06-.94 2.06-2.06.94z\"/><path d=\"M17.41 7.96l-1.37-1.37c-.4-.4-.92-.59-1.43-.59-.52 0-1.04.2-1.43.59L10.3 9.45l-7.72 7.72c-.78.78-.78 2.05 0 2.83L4 21.41c.39.39.9.59 1.41.59.51 0 1.02-.2 1.41-.59l7.78-7.78 2.81-2.81c.8-.78.8-2.07 0-2.86zM5.41 20L4 18.59l7.72-7.72 1.47 1.35L5.41 20z\"/>\n",
              "  </svg>\n",
              "      </button>\n",
              "      \n",
              "  <style>\n",
              "    .colab-df-container {\n",
              "      display:flex;\n",
              "      flex-wrap:wrap;\n",
              "      gap: 12px;\n",
              "    }\n",
              "\n",
              "    .colab-df-convert {\n",
              "      background-color: #E8F0FE;\n",
              "      border: none;\n",
              "      border-radius: 50%;\n",
              "      cursor: pointer;\n",
              "      display: none;\n",
              "      fill: #1967D2;\n",
              "      height: 32px;\n",
              "      padding: 0 0 0 0;\n",
              "      width: 32px;\n",
              "    }\n",
              "\n",
              "    .colab-df-convert:hover {\n",
              "      background-color: #E2EBFA;\n",
              "      box-shadow: 0px 1px 2px rgba(60, 64, 67, 0.3), 0px 1px 3px 1px rgba(60, 64, 67, 0.15);\n",
              "      fill: #174EA6;\n",
              "    }\n",
              "\n",
              "    [theme=dark] .colab-df-convert {\n",
              "      background-color: #3B4455;\n",
              "      fill: #D2E3FC;\n",
              "    }\n",
              "\n",
              "    [theme=dark] .colab-df-convert:hover {\n",
              "      background-color: #434B5C;\n",
              "      box-shadow: 0px 1px 3px 1px rgba(0, 0, 0, 0.15);\n",
              "      filter: drop-shadow(0px 1px 2px rgba(0, 0, 0, 0.3));\n",
              "      fill: #FFFFFF;\n",
              "    }\n",
              "  </style>\n",
              "\n",
              "      <script>\n",
              "        const buttonEl =\n",
              "          document.querySelector('#df-8ff73173-71c7-4e0f-bb1c-9fc64f26419d button.colab-df-convert');\n",
              "        buttonEl.style.display =\n",
              "          google.colab.kernel.accessAllowed ? 'block' : 'none';\n",
              "\n",
              "        async function convertToInteractive(key) {\n",
              "          const element = document.querySelector('#df-8ff73173-71c7-4e0f-bb1c-9fc64f26419d');\n",
              "          const dataTable =\n",
              "            await google.colab.kernel.invokeFunction('convertToInteractive',\n",
              "                                                     [key], {});\n",
              "          if (!dataTable) return;\n",
              "\n",
              "          const docLinkHtml = 'Like what you see? Visit the ' +\n",
              "            '<a target=\"_blank\" href=https://colab.research.google.com/notebooks/data_table.ipynb>data table notebook</a>'\n",
              "            + ' to learn more about interactive tables.';\n",
              "          element.innerHTML = '';\n",
              "          dataTable['output_type'] = 'display_data';\n",
              "          await google.colab.output.renderOutput(dataTable, element);\n",
              "          const docLink = document.createElement('div');\n",
              "          docLink.innerHTML = docLinkHtml;\n",
              "          element.appendChild(docLink);\n",
              "        }\n",
              "      </script>\n",
              "    </div>\n",
              "  </div>\n",
              "  "
            ]
          },
          "metadata": {},
          "execution_count": 190
        }
      ]
    },
    {
      "cell_type": "code",
      "source": [
        "# 季度收盘价波动图\n",
        "plt.stem([i for i in range(len(season_data))], season_data)"
      ],
      "metadata": {
        "colab": {
          "base_uri": "https://localhost:8080/",
          "height": 336
        },
        "id": "ypfxaVeTVLaa",
        "outputId": "79dccf21-d5d6-4ec1-95a0-ac322200a8fb"
      },
      "execution_count": 191,
      "outputs": [
        {
          "output_type": "stream",
          "name": "stderr",
          "text": [
            "/usr/local/lib/python3.7/dist-packages/ipykernel_launcher.py:1: UserWarning: In Matplotlib 3.3 individual lines on a stem plot will be added as a LineCollection instead of individual lines. This significantly improves the performance of a stem plot. To remove this warning and switch to the new behaviour, set the \"use_line_collection\" keyword argument to True.\n",
            "  \"\"\"Entry point for launching an IPython kernel.\n"
          ]
        },
        {
          "output_type": "execute_result",
          "data": {
            "text/plain": [
              "<StemContainer object of 3 artists>"
            ]
          },
          "metadata": {},
          "execution_count": 191
        },
        {
          "output_type": "display_data",
          "data": {
            "text/plain": [
              "<Figure size 432x288 with 1 Axes>"
            ],
            "image/png": "[encoded data removed]"
          },
          "metadata": {
            "needs_background": "light"
          }
        }
      ]
    },
    {
      "cell_type": "code",
      "source": [
        "# 将数据转为tensor\n",
        "x = torch.tensor([[i] for i in range(len(season_data))], dtype=torch.float32)\n",
        "y = torch.tensor([[data] for data in season_data], dtype=torch.float32)"
      ],
      "metadata": {
        "id": "BxqkUzApVWqO"
      },
      "execution_count": 192,
      "outputs": []
    },
    {
      "cell_type": "code",
      "source": [
        "print(x.shape)\n",
        "print(y.shape)"
      ],
      "metadata": {
        "colab": {
          "base_uri": "https://localhost:8080/"
        },
        "id": "dt545-CpX3KC",
        "outputId": "82b4a700-645e-4290-d7e9-c350e30eefbb"
      },
      "execution_count": 193,
      "outputs": [
        {
          "output_type": "stream",
          "name": "stdout",
          "text": [
            "torch.Size([110, 1])\n",
            "torch.Size([110, 1])\n"
          ]
        }
      ]
    },
    {
      "cell_type": "code",
      "source": [
        "# 定义模型\n",
        "class Net(nn.Module):\n",
        "\n",
        "  def __init__(self):\n",
        "    super(Net, self).__init__()\n",
        "    self.lin1 = nn.Linear(1, 64)\n",
        "    self.lin2 = nn.Linear(64, 128)\n",
        "    self.lin3 = nn.Linear(128, 64)\n",
        "    self.out = nn.Linear(64, 1)\n",
        "  \n",
        "  def forward(self, x):\n",
        "    x = self.lin1(x)\n",
        "    x = F.relu(x)\n",
        "    x = self.lin2(x)\n",
        "    x = F.relu(x)\n",
        "    x = self.lin3(x)\n",
        "    x = F.relu(x)\n",
        "    return self.out(x)"
      ],
      "metadata": {
        "id": "G-eg4IjYVpCC"
      },
      "execution_count": 194,
      "outputs": []
    },
    {
      "cell_type": "code",
      "source": [
        "# 训练函数\n",
        "log_interval = 2000\n",
        "def train(epoch, model, loss_func, optimizer):\n",
        "  model.train()\n",
        "  optimizer.zero_grad()\n",
        "  pred = model(x)\n",
        "  loss = loss_func(pred, y)\n",
        "  loss.backward()\n",
        "  optimizer.step()\n",
        "  if (epoch + 1) % log_interval == 0:\n",
        "    print(f'epoch {epoch + 1}: loss = {loss}')"
      ],
      "metadata": {
        "id": "5ePB_ZNHWWq9"
      },
      "execution_count": 208,
      "outputs": []
    },
    {
      "cell_type": "code",
      "source": [
        "# 实例化模型\n",
        "network = Net()\n",
        "network"
      ],
      "metadata": {
        "colab": {
          "base_uri": "https://localhost:8080/"
        },
        "id": "XnN_QsvCXRix",
        "outputId": "6bcdd658-c8ac-407b-c1fa-1a464ee79954"
      },
      "execution_count": 218,
      "outputs": [
        {
          "output_type": "execute_result",
          "data": {
            "text/plain": [
              "Net(\n",
              "  (lin1): Linear(in_features=1, out_features=64, bias=True)\n",
              "  (lin2): Linear(in_features=64, out_features=128, bias=True)\n",
              "  (lin3): Linear(in_features=128, out_features=64, bias=True)\n",
              "  (out): Linear(in_features=64, out_features=1, bias=True)\n",
              ")"
            ]
          },
          "metadata": {},
          "execution_count": 218
        }
      ]
    },
    {
      "cell_type": "code",
      "source": [
        "# 损失函数与optimizer\n",
        "loss_func = nn.MSELoss()\n",
        "optimizer = optim.Adam(network.parameters(), lr=0.01)"
      ],
      "metadata": {
        "id": "xZ3YJAiuXYxS"
      },
      "execution_count": 219,
      "outputs": []
    },
    {
      "cell_type": "code",
      "source": [
        "# 训练\n",
        "n_epochs = 20000\n",
        "for epoch in range(n_epochs):\n",
        "  train(epoch, network, loss_func, optimizer)"
      ],
      "metadata": {
        "colab": {
          "base_uri": "https://localhost:8080/"
        },
        "id": "bjaXHGZKXie8",
        "outputId": "cd752b00-22e4-4158-9e1c-4a4e8d55e661"
      },
      "execution_count": 220,
      "outputs": [
        {
          "output_type": "stream",
          "name": "stdout",
          "text": [
            "epoch 2000: loss = 407846.96875\n",
            "epoch 4000: loss = 407310.84375\n",
            "epoch 6000: loss = 56368.078125\n",
            "epoch 8000: loss = 59794.88671875\n",
            "epoch 10000: loss = 42252.66796875\n",
            "epoch 12000: loss = 35891.60546875\n",
            "epoch 14000: loss = 61969.28515625\n",
            "epoch 16000: loss = 23297.064453125\n",
            "epoch 18000: loss = 31328.00390625\n",
            "epoch 20000: loss = 14624.6591796875\n"
          ]
        }
      ]
    },
    {
      "cell_type": "code",
      "source": [
        "# 比较模型画的图和实际散点图\n",
        "network.eval()\n",
        "y_pred = network(x)\n",
        "plt.plot(x, y, 'go')\n",
        "plt.plot(x, y_pred.detach().numpy(), '--')"
      ],
      "metadata": {
        "colab": {
          "base_uri": "https://localhost:8080/",
          "height": 282
        },
        "id": "mNSabm2kaaUo",
        "outputId": "e899b790-3c8a-42e4-f04b-8c2b04f403df"
      },
      "execution_count": 221,
      "outputs": [
        {
          "output_type": "execute_result",
          "data": {
            "text/plain": [
              "[<matplotlib.lines.Line2D at 0x7f218a344210>]"
            ]
          },
          "metadata": {},
          "execution_count": 221
        },
        {
          "output_type": "display_data",
          "data": {
            "text/plain": [
              "<Figure size 432x288 with 1 Axes>"
            ],
            "image/png": "[encoded data removed]"
          },
          "metadata": {
            "needs_background": "light"
          }
        }
      ]
    },
    {
      "cell_type": "code",
      "source": [
        "# 预测2022年第二季度末的数据\n",
        "network(torch.tensor([109], dtype=torch.float32))"
      ],
      "metadata": {
        "colab": {
          "base_uri": "https://localhost:8080/"
        },
        "id": "ndCtQlSyoYe4",
        "outputId": "393e0d45-86e4-4f73-be5e-3476ba11f908"
      },
      "execution_count": 225,
      "outputs": [
        {
          "output_type": "execute_result",
          "data": {
            "text/plain": [
              "tensor([3560.5579], grad_fn=<AddBackward0>)"
            ]
          },
          "metadata": {},
          "execution_count": 225
        }
      ]
    }
  ]
}