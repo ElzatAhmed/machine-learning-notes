{
  "nbformat": 4,
  "nbformat_minor": 0,
  "metadata": {
    "colab": {
      "name": "linear_regression.ipynb",
      "provenance": [],
      "collapsed_sections": [],
      "authorship_tag": "ABX9TyM25NLyGAN7+LC5eE0ABnzS",
      "include_colab_link": true
    },
    "kernelspec": {
      "name": "python3",
      "display_name": "Python 3"
    },
    "language_info": {
      "name": "python"
    }
  },
  "cells": [
    {
      "cell_type": "markdown",
      "metadata": {
        "id": "view-in-github",
        "colab_type": "text"
      },
      "source": [
        "<a href=\"https://colab.research.google.com/github/ElzatAhmed/machine-learning-notes/blob/main/linear_regression.ipynb\" target=\"_parent\"><img src=\"https://colab.research.google.com/assets/colab-badge.svg\" alt=\"Open In Colab\"/></a>"
      ]
    },
    {
      "cell_type": "code",
      "metadata": {
        "id": "W4HSRAoxtkK_"
      },
      "source": [
        "# imports and installs\n",
        "!pip install -q sklearn\n",
        "\n",
        "%tensorflow_version 2.x\n",
        "\n",
        "from __future__ import absolute_import, division, print_function, unicode_literals\n",
        "\n",
        "import numpy as np\n",
        "import pandas as pd\n",
        "import matplotlib.pyplot as plt\n",
        "from IPython.display import clear_output\n",
        "from six.moves import urllib\n",
        "\n",
        "import tensorflow as tf"
      ],
      "execution_count": 1,
      "outputs": []
    },
    {
      "cell_type": "code",
      "metadata": {
        "id": "gJbiu_J_t7Zm"
      },
      "source": [
        "# loading dataset\n",
        "dftrain = pd.read_csv('https://storage.googleapis.com/tf-datasets/titanic/train.csv') # training data\n",
        "dfeval = pd.read_csv('https://storage.googleapis.com/tf-datasets/titanic/eval.csv') # testing data\n",
        "y_train = dftrain.pop('survived')\n",
        "y_eval = dfeval.pop('survived')"
      ],
      "execution_count": 2,
      "outputs": []
    },
    {
      "cell_type": "code",
      "metadata": {
        "colab": {
          "base_uri": "https://localhost:8080/",
          "height": 203
        },
        "id": "7uWqVXlSudE-",
        "outputId": "8adc2dfe-4f2e-47ed-d24e-c691ae026bde"
      },
      "source": [
        "dftrain.head()  # first 5 items of dataframe"
      ],
      "execution_count": 3,
      "outputs": [
        {
          "output_type": "execute_result",
          "data": {
            "text/html": [
              "<div>\n",
              "<style scoped>\n",
              "    .dataframe tbody tr th:only-of-type {\n",
              "        vertical-align: middle;\n",
              "    }\n",
              "\n",
              "    .dataframe tbody tr th {\n",
              "        vertical-align: top;\n",
              "    }\n",
              "\n",
              "    .dataframe thead th {\n",
              "        text-align: right;\n",
              "    }\n",
              "</style>\n",
              "<table border=\"1\" class=\"dataframe\">\n",
              "  <thead>\n",
              "    <tr style=\"text-align: right;\">\n",
              "      <th></th>\n",
              "      <th>sex</th>\n",
              "      <th>age</th>\n",
              "      <th>n_siblings_spouses</th>\n",
              "      <th>parch</th>\n",
              "      <th>fare</th>\n",
              "      <th>class</th>\n",
              "      <th>deck</th>\n",
              "      <th>embark_town</th>\n",
              "      <th>alone</th>\n",
              "    </tr>\n",
              "  </thead>\n",
              "  <tbody>\n",
              "    <tr>\n",
              "      <th>0</th>\n",
              "      <td>male</td>\n",
              "      <td>22.0</td>\n",
              "      <td>1</td>\n",
              "      <td>0</td>\n",
              "      <td>7.2500</td>\n",
              "      <td>Third</td>\n",
              "      <td>unknown</td>\n",
              "      <td>Southampton</td>\n",
              "      <td>n</td>\n",
              "    </tr>\n",
              "    <tr>\n",
              "      <th>1</th>\n",
              "      <td>female</td>\n",
              "      <td>38.0</td>\n",
              "      <td>1</td>\n",
              "      <td>0</td>\n",
              "      <td>71.2833</td>\n",
              "      <td>First</td>\n",
              "      <td>C</td>\n",
              "      <td>Cherbourg</td>\n",
              "      <td>n</td>\n",
              "    </tr>\n",
              "    <tr>\n",
              "      <th>2</th>\n",
              "      <td>female</td>\n",
              "      <td>26.0</td>\n",
              "      <td>0</td>\n",
              "      <td>0</td>\n",
              "      <td>7.9250</td>\n",
              "      <td>Third</td>\n",
              "      <td>unknown</td>\n",
              "      <td>Southampton</td>\n",
              "      <td>y</td>\n",
              "    </tr>\n",
              "    <tr>\n",
              "      <th>3</th>\n",
              "      <td>female</td>\n",
              "      <td>35.0</td>\n",
              "      <td>1</td>\n",
              "      <td>0</td>\n",
              "      <td>53.1000</td>\n",
              "      <td>First</td>\n",
              "      <td>C</td>\n",
              "      <td>Southampton</td>\n",
              "      <td>n</td>\n",
              "    </tr>\n",
              "    <tr>\n",
              "      <th>4</th>\n",
              "      <td>male</td>\n",
              "      <td>28.0</td>\n",
              "      <td>0</td>\n",
              "      <td>0</td>\n",
              "      <td>8.4583</td>\n",
              "      <td>Third</td>\n",
              "      <td>unknown</td>\n",
              "      <td>Queenstown</td>\n",
              "      <td>y</td>\n",
              "    </tr>\n",
              "  </tbody>\n",
              "</table>\n",
              "</div>"
            ],
            "text/plain": [
              "      sex   age  n_siblings_spouses  parch  ...  class     deck  embark_town alone\n",
              "0    male  22.0                   1      0  ...  Third  unknown  Southampton     n\n",
              "1  female  38.0                   1      0  ...  First        C    Cherbourg     n\n",
              "2  female  26.0                   0      0  ...  Third  unknown  Southampton     y\n",
              "3  female  35.0                   1      0  ...  First        C  Southampton     n\n",
              "4    male  28.0                   0      0  ...  Third  unknown   Queenstown     y\n",
              "\n",
              "[5 rows x 9 columns]"
            ]
          },
          "metadata": {},
          "execution_count": 3
        }
      ]
    },
    {
      "cell_type": "code",
      "metadata": {
        "colab": {
          "base_uri": "https://localhost:8080/",
          "height": 295
        },
        "id": "q5dqvTTguqAl",
        "outputId": "7e051284-2c79-4ea2-da01-9692ad38409f"
      },
      "source": [
        "dftrain.describe()  # statistical analysis"
      ],
      "execution_count": 4,
      "outputs": [
        {
          "output_type": "execute_result",
          "data": {
            "text/html": [
              "<div>\n",
              "<style scoped>\n",
              "    .dataframe tbody tr th:only-of-type {\n",
              "        vertical-align: middle;\n",
              "    }\n",
              "\n",
              "    .dataframe tbody tr th {\n",
              "        vertical-align: top;\n",
              "    }\n",
              "\n",
              "    .dataframe thead th {\n",
              "        text-align: right;\n",
              "    }\n",
              "</style>\n",
              "<table border=\"1\" class=\"dataframe\">\n",
              "  <thead>\n",
              "    <tr style=\"text-align: right;\">\n",
              "      <th></th>\n",
              "      <th>age</th>\n",
              "      <th>n_siblings_spouses</th>\n",
              "      <th>parch</th>\n",
              "      <th>fare</th>\n",
              "    </tr>\n",
              "  </thead>\n",
              "  <tbody>\n",
              "    <tr>\n",
              "      <th>count</th>\n",
              "      <td>627.000000</td>\n",
              "      <td>627.000000</td>\n",
              "      <td>627.000000</td>\n",
              "      <td>627.000000</td>\n",
              "    </tr>\n",
              "    <tr>\n",
              "      <th>mean</th>\n",
              "      <td>29.631308</td>\n",
              "      <td>0.545455</td>\n",
              "      <td>0.379585</td>\n",
              "      <td>34.385399</td>\n",
              "    </tr>\n",
              "    <tr>\n",
              "      <th>std</th>\n",
              "      <td>12.511818</td>\n",
              "      <td>1.151090</td>\n",
              "      <td>0.792999</td>\n",
              "      <td>54.597730</td>\n",
              "    </tr>\n",
              "    <tr>\n",
              "      <th>min</th>\n",
              "      <td>0.750000</td>\n",
              "      <td>0.000000</td>\n",
              "      <td>0.000000</td>\n",
              "      <td>0.000000</td>\n",
              "    </tr>\n",
              "    <tr>\n",
              "      <th>25%</th>\n",
              "      <td>23.000000</td>\n",
              "      <td>0.000000</td>\n",
              "      <td>0.000000</td>\n",
              "      <td>7.895800</td>\n",
              "    </tr>\n",
              "    <tr>\n",
              "      <th>50%</th>\n",
              "      <td>28.000000</td>\n",
              "      <td>0.000000</td>\n",
              "      <td>0.000000</td>\n",
              "      <td>15.045800</td>\n",
              "    </tr>\n",
              "    <tr>\n",
              "      <th>75%</th>\n",
              "      <td>35.000000</td>\n",
              "      <td>1.000000</td>\n",
              "      <td>0.000000</td>\n",
              "      <td>31.387500</td>\n",
              "    </tr>\n",
              "    <tr>\n",
              "      <th>max</th>\n",
              "      <td>80.000000</td>\n",
              "      <td>8.000000</td>\n",
              "      <td>5.000000</td>\n",
              "      <td>512.329200</td>\n",
              "    </tr>\n",
              "  </tbody>\n",
              "</table>\n",
              "</div>"
            ],
            "text/plain": [
              "              age  n_siblings_spouses       parch        fare\n",
              "count  627.000000          627.000000  627.000000  627.000000\n",
              "mean    29.631308            0.545455    0.379585   34.385399\n",
              "std     12.511818            1.151090    0.792999   54.597730\n",
              "min      0.750000            0.000000    0.000000    0.000000\n",
              "25%     23.000000            0.000000    0.000000    7.895800\n",
              "50%     28.000000            0.000000    0.000000   15.045800\n",
              "75%     35.000000            1.000000    0.000000   31.387500\n",
              "max     80.000000            8.000000    5.000000  512.329200"
            ]
          },
          "metadata": {},
          "execution_count": 4
        }
      ]
    },
    {
      "cell_type": "code",
      "metadata": {
        "colab": {
          "base_uri": "https://localhost:8080/"
        },
        "id": "Fz2rTC0yuwzf",
        "outputId": "0d121f18-7550-4fc8-82ea-03de2742bbe9"
      },
      "source": [
        "dftrain.shape"
      ],
      "execution_count": 5,
      "outputs": [
        {
          "output_type": "execute_result",
          "data": {
            "text/plain": [
              "(627, 9)"
            ]
          },
          "metadata": {},
          "execution_count": 5
        }
      ]
    },
    {
      "cell_type": "code",
      "metadata": {
        "colab": {
          "base_uri": "https://localhost:8080/",
          "height": 282
        },
        "id": "uuOPo85vuzoj",
        "outputId": "a37d5f13-b00e-4dbd-d87f-97886c39d216"
      },
      "source": [
        "dftrain.age.hist(bins=20)"
      ],
      "execution_count": 6,
      "outputs": [
        {
          "output_type": "execute_result",
          "data": {
            "text/plain": [
              "<matplotlib.axes._subplots.AxesSubplot at 0x7f7ce7bd9ad0>"
            ]
          },
          "metadata": {},
          "execution_count": 6
        },
        {
          "output_type": "display_data",
          "data": {
            "image/png": "[encoded data removed]",
            "text/plain": [
              "<Figure size 432x288 with 1 Axes>"
            ]
          },
          "metadata": {
            "needs_background": "light"
          }
        }
      ]
    },
    {
      "cell_type": "code",
      "metadata": {
        "colab": {
          "base_uri": "https://localhost:8080/",
          "height": 282
        },
        "id": "GuixTbqQu4x4",
        "outputId": "9d29a6c8-4a58-4de6-91af-7c303586594e"
      },
      "source": [
        "dftrain.sex.value_counts().plot(kind='barh')"
      ],
      "execution_count": 7,
      "outputs": [
        {
          "output_type": "execute_result",
          "data": {
            "text/plain": [
              "<matplotlib.axes._subplots.AxesSubplot at 0x7f7ce9aa79d0>"
            ]
          },
          "metadata": {},
          "execution_count": 7
        },
        {
          "output_type": "display_data",
          "data": {
            "image/png": "[encoded data removed]",
            "text/plain": [
              "<Figure size 432x288 with 1 Axes>"
            ]
          },
          "metadata": {
            "needs_background": "light"
          }
        }
      ]
    },
    {
      "cell_type": "code",
      "metadata": {
        "colab": {
          "base_uri": "https://localhost:8080/"
        },
        "id": "ZMtiyG2Eu73B",
        "outputId": "62339824-6fff-4af1-c69a-2a64fd47a3d6"
      },
      "source": [
        "# columns with values need to be encoded\n",
        "CATEGORICAL_COLUMNS = ['sex', 'n_siblings_spouses', 'parch', 'class', 'deck',\n",
        "                       'embark_town', 'alone']\n",
        "# columns with numeric values\n",
        "NUMERIC_COLUMNS = ['age', 'fare']\n",
        "\n",
        "feature_columns = []\n",
        "for feature_name in CATEGORICAL_COLUMNS:\n",
        "  vocabulary = dftrain[feature_name].unique()  # gets a list of all unique values from given feature column\n",
        "  feature_columns.append(tf.feature_column.categorical_column_with_vocabulary_list(feature_name, vocabulary))\n",
        "\n",
        "for feature_name in NUMERIC_COLUMNS:\n",
        "  feature_columns.append(tf.feature_column.numeric_column(feature_name, dtype=tf.float32))\n",
        "\n",
        "print(feature_columns)"
      ],
      "execution_count": 9,
      "outputs": [
        {
          "output_type": "stream",
          "name": "stdout",
          "text": [
            "VocabularyListCategoricalColumn(key='sex', vocabulary_list=('male', 'female'), dtype=tf.string, default_value=-1, num_oov_buckets=0)\n"
          ]
        }
      ]
    },
    {
      "cell_type": "code",
      "metadata": {
        "id": "oGuZH5v1vyY2"
      },
      "source": [
        "# input function\n",
        "def make_input_fn(data_df, label_df, num_epochs=10, shuffle=True, batch_size=32):\n",
        "  # a funtion that returns another function\n",
        "  def input_function():  # inner function, this will be returned\n",
        "    ds = tf.data.Dataset.from_tensor_slices((dict(data_df), label_df))  # create tf.data.Dataset object with data and its label\n",
        "    if shuffle:\n",
        "      ds = ds.shuffle(1000)  # randomize order of data\n",
        "    ds = ds.batch(batch_size).repeat(num_epochs)  # split dataset into batches of 32 and repeat process for number of epochs\n",
        "    return ds  # return a batch of the dataset\n",
        "  return input_function  # return a function object for use\n",
        "\n",
        "train_input_fn = make_input_fn(dftrain, y_train)  # here we will call the input_function that was returned to us to get a dataset object we can feed to the model\n",
        "eval_input_fn = make_input_fn(dfeval, y_eval, num_epochs=1, shuffle=False)"
      ],
      "execution_count": 10,
      "outputs": []
    },
    {
      "cell_type": "code",
      "metadata": {
        "colab": {
          "base_uri": "https://localhost:8080/"
        },
        "id": "Lk6yd8RWwNvL",
        "outputId": "64e619a2-ffb1-46cf-dfbc-0a5795f673f9"
      },
      "source": [
        "# creating the model\n",
        "linear_est = tf.estimator.LinearClassifier(feature_columns=feature_columns)\n",
        "# We create a linear estimtor by passing the feature columns we created earlier"
      ],
      "execution_count": 11,
      "outputs": [
        {
          "output_type": "stream",
          "name": "stdout",
          "text": [
            "INFO:tensorflow:Using default config.\n",
            "WARNING:tensorflow:Using temporary folder as model directory: /tmp/tmp1z9mcy9_\n",
            "INFO:tensorflow:Using config: {'_model_dir': '/tmp/tmp1z9mcy9_', '_tf_random_seed': None, '_save_summary_steps': 100, '_save_checkpoints_steps': None, '_save_checkpoints_secs': 600, '_session_config': allow_soft_placement: true\n",
            "graph_options {\n",
            "  rewrite_options {\n",
            "    meta_optimizer_iterations: ONE\n",
            "  }\n",
            "}\n",
            ", '_keep_checkpoint_max': 5, '_keep_checkpoint_every_n_hours': 10000, '_log_step_count_steps': 100, '_train_distribute': None, '_device_fn': None, '_protocol': None, '_eval_distribute': None, '_experimental_distribute': None, '_experimental_max_worker_delay_secs': None, '_session_creation_timeout_secs': 7200, '_checkpoint_save_graph_def': True, '_service': None, '_cluster_spec': ClusterSpec({}), '_task_type': 'worker', '_task_id': 0, '_global_id_in_cluster': 0, '_master': '', '_evaluation_master': '', '_is_chief': True, '_num_ps_replicas': 0, '_num_worker_replicas': 1}\n"
          ]
        }
      ]
    },
    {
      "cell_type": "code",
      "metadata": {
        "colab": {
          "base_uri": "https://localhost:8080/"
        },
        "id": "0h3kWBnuwcdr",
        "outputId": "ef065f35-427f-4d1d-bc0a-1816eb4b6d16"
      },
      "source": [
        "# training the model\n",
        "linear_est.train(train_input_fn)  # train\n",
        "result = linear_est.evaluate(eval_input_fn)  # get model metrics/stats by testing on tetsing data\n",
        "\n",
        "clear_output()  # clears consoke output\n",
        "print(result['accuracy'])  # the result variable is simply a dict of stats about our model"
      ],
      "execution_count": 17,
      "outputs": [
        {
          "output_type": "stream",
          "name": "stdout",
          "text": [
            "0.780303\n"
          ]
        }
      ]
    },
    {
      "cell_type": "code",
      "metadata": {
        "colab": {
          "base_uri": "https://localhost:8080/"
        },
        "id": "_kUGX5ZUws7C",
        "outputId": "a944ff69-f683-4f15-be3d-d8cfcb2d0ff5"
      },
      "source": [
        "print(result)"
      ],
      "execution_count": 18,
      "outputs": [
        {
          "output_type": "stream",
          "name": "stdout",
          "text": [
            "{'accuracy': 0.780303, 'accuracy_baseline': 0.625, 'auc': 0.82809913, 'auc_precision_recall': 0.78167975, 'average_loss': 0.48758495, 'label/mean': 0.375, 'loss': 0.47604787, 'precision': 0.74698794, 'prediction/mean': 0.3358632, 'recall': 0.6262626, 'global_step': 600}\n"
          ]
        }
      ]
    },
    {
      "cell_type": "code",
      "metadata": {
        "colab": {
          "base_uri": "https://localhost:8080/"
        },
        "id": "F0zWx9YTxHli",
        "outputId": "15d7e971-3195-4a20-f070-74ea8ba76722"
      },
      "source": [
        "pred_dicts = list(linear_est.predict(eval_input_fn))\n",
        "print(pred_dicts)"
      ],
      "execution_count": 19,
      "outputs": [
        {
          "output_type": "stream",
          "name": "stdout",
          "text": [
            "INFO:tensorflow:Calling model_fn.\n"
          ]
        },
        {
          "output_type": "stream",
          "name": "stderr",
          "text": [
            "/usr/local/lib/python3.7/dist-packages/keras/engine/base_layer_v1.py:1684: UserWarning: `layer.add_variable` is deprecated and will be removed in a future version. Please use `layer.add_weight` method instead.\n",
            "  warnings.warn('`layer.add_variable` is deprecated and '\n"
          ]
        },
        {
          "output_type": "stream",
          "name": "stdout",
          "text": [
            "INFO:tensorflow:Done calling model_fn.\n",
            "INFO:tensorflow:Graph was finalized.\n",
            "INFO:tensorflow:Restoring parameters from /tmp/tmp1z9mcy9_/model.ckpt-600\n",
            "INFO:tensorflow:Running local_init_op.\n",
            "INFO:tensorflow:Done running local_init_op.\n",
            "[{'logits': array([-2.7543387], dtype=float32), 'logistic': array([0.05984208], dtype=float32), 'probabilities': array([0.94015795, 0.05984208], dtype=float32), 'class_ids': array([0]), 'classes': array([b'0'], dtype=object), 'all_class_ids': array([0, 1], dtype=int32), 'all_classes': array([b'0', b'1'], dtype=object)}, {'logits': array([-0.9854097], dtype=float32), 'logistic': array([0.2718197], dtype=float32), 'probabilities': array([0.7281803, 0.2718197], dtype=float32), 'class_ids': array([0]), 'classes': array([b'0'], dtype=object), 'all_class_ids': array([0, 1], dtype=int32), 'all_classes': array([b'0', b'1'], dtype=object)}, {'logits': array([0.5490461], dtype=float32), 'logistic': array([0.63391423], dtype=float32), 'probabilities': array([0.36608577, 0.63391423], dtype=float32), 'class_ids': array([1]), 'classes': array([b'1'], dtype=object), 'all_class_ids': array([0, 1], dtype=int32), 'all_classes': array([b'0', b'1'], dtype=object)}, {'logits': array([0.23665121], dtype=float32), 'logistic': array([0.5588882], dtype=float32), 'probabilities': array([0.44111174, 0.5588882 ], dtype=float32), 'class_ids': array([1]), 'classes': array([b'1'], dtype=object), 'all_class_ids': array([0, 1], dtype=int32), 'all_classes': array([b'0', b'1'], dtype=object)}, {'logits': array([-1.2125738], dtype=float32), 'logistic': array([0.22924596], dtype=float32), 'probabilities': array([0.77075404, 0.22924598], dtype=float32), 'class_ids': array([0]), 'classes': array([b'0'], dtype=object), 'all_class_ids': array([0, 1], dtype=int32), 'all_classes': array([b'0', b'1'], dtype=object)}, {'logits': array([1.1344548], dtype=float32), 'logistic': array([0.7566601], dtype=float32), 'probabilities': array([0.24333993, 0.7566601 ], dtype=float32), 'class_ids': array([1]), 'classes': array([b'1'], dtype=object), 'all_class_ids': array([0, 1], dtype=int32), 'all_classes': array([b'0', b'1'], dtype=object)}, {'logits': array([-0.36038956], dtype=float32), 'logistic': array([0.41086528], dtype=float32), 'probabilities': array([0.5891347 , 0.41086522], dtype=float32), 'class_ids': array([0]), 'classes': array([b'0'], dtype=object), 'all_class_ids': array([0, 1], dtype=int32), 'all_classes': array([b'0', b'1'], dtype=object)}, {'logits': array([-2.259554], dtype=float32), 'logistic': array([0.09452856], dtype=float32), 'probabilities': array([0.90547144, 0.09452854], dtype=float32), 'class_ids': array([0]), 'classes': array([b'0'], dtype=object), 'all_class_ids': array([0, 1], dtype=int32), 'all_classes': array([b'0', b'1'], dtype=object)}, {'logits': array([0.39586404], dtype=float32), 'logistic': array([0.59769356], dtype=float32), 'probabilities': array([0.40230647, 0.59769356], dtype=float32), 'class_ids': array([1]), 'classes': array([b'1'], dtype=object), 'all_class_ids': array([0, 1], dtype=int32), 'all_classes': array([b'0', b'1'], dtype=object)}, {'logits': array([0.99436206], dtype=float32), 'logistic': array([0.72994864], dtype=float32), 'probabilities': array([0.27005136, 0.72994864], dtype=float32), 'class_ids': array([1]), 'classes': array([b'1'], dtype=object), 'all_class_ids': array([0, 1], dtype=int32), 'all_classes': array([b'0', b'1'], dtype=object)}, {'logits': array([0.6773835], dtype=float32), 'logistic': array([0.6631545], dtype=float32), 'probabilities': array([0.3368455, 0.6631544], dtype=float32), 'class_ids': array([1]), 'classes': array([b'1'], dtype=object), 'all_class_ids': array([0, 1], dtype=int32), 'all_classes': array([b'0', b'1'], dtype=object)}, {'logits': array([-2.2574306], dtype=float32), 'logistic': array([0.09471044], dtype=float32), 'probabilities': array([0.9052896 , 0.09471045], dtype=float32), 'class_ids': array([0]), 'classes': array([b'0'], dtype=object), 'all_class_ids': array([0, 1], dtype=int32), 'all_classes': array([b'0', b'1'], dtype=object)}, {'logits': array([1.7264413], dtype=float32), 'logistic': array([0.84895664], dtype=float32), 'probabilities': array([0.15104336, 0.8489567 ], dtype=float32), 'class_ids': array([1]), 'classes': array([b'1'], dtype=object), 'all_class_ids': array([0, 1], dtype=int32), 'all_classes': array([b'0', b'1'], dtype=object)}, {'logits': array([-0.7134991], dtype=float32), 'logistic': array([0.32882616], dtype=float32), 'probabilities': array([0.67117393, 0.32882616], dtype=float32), 'class_ids': array([0]), 'classes': array([b'0'], dtype=object), 'all_class_ids': array([0, 1], dtype=int32), 'all_classes': array([b'0', b'1'], dtype=object)}, {'logits': array([1.7485582], dtype=float32), 'logistic': array([0.8517709], dtype=float32), 'probabilities': array([0.14822914, 0.8517708 ], dtype=float32), 'class_ids': array([1]), 'classes': array([b'1'], dtype=object), 'all_class_ids': array([0, 1], dtype=int32), 'all_classes': array([b'0', b'1'], dtype=object)}, {'logits': array([-0.6279765], dtype=float32), 'logistic': array([0.3479695], dtype=float32), 'probabilities': array([0.65203047, 0.34796953], dtype=float32), 'class_ids': array([0]), 'classes': array([b'0'], dtype=object), 'all_class_ids': array([0, 1], dtype=int32), 'all_classes': array([b'0', b'1'], dtype=object)}, {'logits': array([-1.9215016], dtype=float32), 'logistic': array([0.12769419], dtype=float32), 'probabilities': array([0.8723058 , 0.12769422], dtype=float32), 'class_ids': array([0]), 'classes': array([b'0'], dtype=object), 'all_class_ids': array([0, 1], dtype=int32), 'all_classes': array([b'0', b'1'], dtype=object)}, {'logits': array([1.6263553], dtype=float32), 'logistic': array([0.83566976], dtype=float32), 'probabilities': array([0.16433024, 0.8356697 ], dtype=float32), 'class_ids': array([1]), 'classes': array([b'1'], dtype=object), 'all_class_ids': array([0, 1], dtype=int32), 'all_classes': array([b'0', b'1'], dtype=object)}, {'logits': array([-1.4234501], dtype=float32), 'logistic': array([0.1941213], dtype=float32), 'probabilities': array([0.8058787 , 0.19412129], dtype=float32), 'class_ids': array([0]), 'classes': array([b'0'], dtype=object), 'all_class_ids': array([0, 1], dtype=int32), 'all_classes': array([b'0', b'1'], dtype=object)}, {'logits': array([-2.542288], dtype=float32), 'logistic': array([0.07294628], dtype=float32), 'probabilities': array([0.92705375, 0.0729463 ], dtype=float32), 'class_ids': array([0]), 'classes': array([b'0'], dtype=object), 'all_class_ids': array([0, 1], dtype=int32), 'all_classes': array([b'0', b'1'], dtype=object)}, {'logits': array([-2.2225492], dtype=float32), 'logistic': array([0.09774372], dtype=float32), 'probabilities': array([0.9022562 , 0.09774376], dtype=float32), 'class_ids': array([0]), 'classes': array([b'0'], dtype=object), 'all_class_ids': array([0, 1], dtype=int32), 'all_classes': array([b'0', b'1'], dtype=object)}, {'logits': array([-2.7201436], dtype=float32), 'logistic': array([0.06179515], dtype=float32), 'probabilities': array([0.9382049 , 0.06179515], dtype=float32), 'class_ids': array([0]), 'classes': array([b'0'], dtype=object), 'all_class_ids': array([0, 1], dtype=int32), 'all_classes': array([b'0', b'1'], dtype=object)}, {'logits': array([0.6985453], dtype=float32), 'logistic': array([0.66786516], dtype=float32), 'probabilities': array([0.33213484, 0.66786516], dtype=float32), 'class_ids': array([1]), 'classes': array([b'1'], dtype=object), 'all_class_ids': array([0, 1], dtype=int32), 'all_classes': array([b'0', b'1'], dtype=object)}, {'logits': array([-2.8590543], dtype=float32), 'logistic': array([0.05421516], dtype=float32), 'probabilities': array([0.9457848 , 0.05421517], dtype=float32), 'class_ids': array([0]), 'classes': array([b'0'], dtype=object), 'all_class_ids': array([0, 1], dtype=int32), 'all_classes': array([b'0', b'1'], dtype=object)}, {'logits': array([0.7667677], dtype=float32), 'logistic': array([0.6828213], dtype=float32), 'probabilities': array([0.31717876, 0.6828213 ], dtype=float32), 'class_ids': array([1]), 'classes': array([b'1'], dtype=object), 'all_class_ids': array([0, 1], dtype=int32), 'all_classes': array([b'0', b'1'], dtype=object)}, {'logits': array([-0.16349408], dtype=float32), 'logistic': array([0.45921728], dtype=float32), 'probabilities': array([0.5407827 , 0.45921725], dtype=float32), 'class_ids': array([0]), 'classes': array([b'0'], dtype=object), 'all_class_ids': array([0, 1], dtype=int32), 'all_classes': array([b'0', b'1'], dtype=object)}, {'logits': array([-2.3256319], dtype=float32), 'logistic': array([0.08902225], dtype=float32), 'probabilities': array([0.9109777 , 0.08902227], dtype=float32), 'class_ids': array([0]), 'classes': array([b'0'], dtype=object), 'all_class_ids': array([0, 1], dtype=int32), 'all_classes': array([b'0', b'1'], dtype=object)}, {'logits': array([-1.8737242], dtype=float32), 'logistic': array([0.13311139], dtype=float32), 'probabilities': array([0.8668886 , 0.13311139], dtype=float32), 'class_ids': array([0]), 'classes': array([b'0'], dtype=object), 'all_class_ids': array([0, 1], dtype=int32), 'all_classes': array([b'0', b'1'], dtype=object)}, {'logits': array([-1.3994298], dtype=float32), 'logistic': array([0.19790658], dtype=float32), 'probabilities': array([0.8020934 , 0.19790661], dtype=float32), 'class_ids': array([0]), 'classes': array([b'0'], dtype=object), 'all_class_ids': array([0, 1], dtype=int32), 'all_classes': array([b'0', b'1'], dtype=object)}, {'logits': array([1.6655805], dtype=float32), 'logistic': array([0.84098566], dtype=float32), 'probabilities': array([0.1590143, 0.8409857], dtype=float32), 'class_ids': array([1]), 'classes': array([b'1'], dtype=object), 'all_class_ids': array([0, 1], dtype=int32), 'all_classes': array([b'0', b'1'], dtype=object)}, {'logits': array([-2.1645417], dtype=float32), 'logistic': array([0.10298017], dtype=float32), 'probabilities': array([0.89701986, 0.10298015], dtype=float32), 'class_ids': array([0]), 'classes': array([b'0'], dtype=object), 'all_class_ids': array([0, 1], dtype=int32), 'all_classes': array([b'0', b'1'], dtype=object)}, {'logits': array([1.1219516], dtype=float32), 'logistic': array([0.75435054], dtype=float32), 'probabilities': array([0.24564947, 0.75435054], dtype=float32), 'class_ids': array([1]), 'classes': array([b'1'], dtype=object), 'all_class_ids': array([0, 1], dtype=int32), 'all_classes': array([b'0', b'1'], dtype=object)}, {'logits': array([-1.6323155], dtype=float32), 'logistic': array([0.16351336], dtype=float32), 'probabilities': array([0.8364866, 0.1635134], dtype=float32), 'class_ids': array([0]), 'classes': array([b'0'], dtype=object), 'all_class_ids': array([0, 1], dtype=int32), 'all_classes': array([b'0', b'1'], dtype=object)}, {'logits': array([0.57422394], dtype=float32), 'logistic': array([0.63973725], dtype=float32), 'probabilities': array([0.36026272, 0.63973725], dtype=float32), 'class_ids': array([1]), 'classes': array([b'1'], dtype=object), 'all_class_ids': array([0, 1], dtype=int32), 'all_classes': array([b'0', b'1'], dtype=object)}, {'logits': array([-1.3467457], dtype=float32), 'logistic': array([0.2064029], dtype=float32), 'probabilities': array([0.79359704, 0.20640291], dtype=float32), 'class_ids': array([0]), 'classes': array([b'0'], dtype=object), 'all_class_ids': array([0, 1], dtype=int32), 'all_classes': array([b'0', b'1'], dtype=object)}, {'logits': array([-2.4694455], dtype=float32), 'logistic': array([0.07802808], dtype=float32), 'probabilities': array([0.92197186, 0.07802812], dtype=float32), 'class_ids': array([0]), 'classes': array([b'0'], dtype=object), 'all_class_ids': array([0, 1], dtype=int32), 'all_classes': array([b'0', b'1'], dtype=object)}, {'logits': array([-2.095941], dtype=float32), 'logistic': array([0.10949194], dtype=float32), 'probabilities': array([0.89050806, 0.10949195], dtype=float32), 'class_ids': array([0]), 'classes': array([b'0'], dtype=object), 'all_class_ids': array([0, 1], dtype=int32), 'all_classes': array([b'0', b'1'], dtype=object)}, {'logits': array([-2.2331252], dtype=float32), 'logistic': array([0.09681505], dtype=float32), 'probabilities': array([0.903185  , 0.09681503], dtype=float32), 'class_ids': array([0]), 'classes': array([b'0'], dtype=object), 'all_class_ids': array([0, 1], dtype=int32), 'all_classes': array([b'0', b'1'], dtype=object)}, {'logits': array([1.5325176], dtype=float32), 'logistic': array([0.82237434], dtype=float32), 'probabilities': array([0.17762563, 0.82237434], dtype=float32), 'class_ids': array([1]), 'classes': array([b'1'], dtype=object), 'all_class_ids': array([0, 1], dtype=int32), 'all_classes': array([b'0', b'1'], dtype=object)}, {'logits': array([-2.5776298], dtype=float32), 'logistic': array([0.07059208], dtype=float32), 'probabilities': array([0.9294079 , 0.07059208], dtype=float32), 'class_ids': array([0]), 'classes': array([b'0'], dtype=object), 'all_class_ids': array([0, 1], dtype=int32), 'all_classes': array([b'0', b'1'], dtype=object)}, {'logits': array([0.76890117], dtype=float32), 'logistic': array([0.68328315], dtype=float32), 'probabilities': array([0.31671685, 0.6832831 ], dtype=float32), 'class_ids': array([1]), 'classes': array([b'1'], dtype=object), 'all_class_ids': array([0, 1], dtype=int32), 'all_classes': array([b'0', b'1'], dtype=object)}, {'logits': array([-2.4344928], dtype=float32), 'logistic': array([0.08057997], dtype=float32), 'probabilities': array([0.91942   , 0.08057998], dtype=float32), 'class_ids': array([0]), 'classes': array([b'0'], dtype=object), 'all_class_ids': array([0, 1], dtype=int32), 'all_classes': array([b'0', b'1'], dtype=object)}, {'logits': array([-1.0032891], dtype=float32), 'logistic': array([0.26829523], dtype=float32), 'probabilities': array([0.7317048 , 0.26829526], dtype=float32), 'class_ids': array([0]), 'classes': array([b'0'], dtype=object), 'all_class_ids': array([0, 1], dtype=int32), 'all_classes': array([b'0', b'1'], dtype=object)}, {'logits': array([-1.2160491], dtype=float32), 'logistic': array([0.22863248], dtype=float32), 'probabilities': array([0.77136755, 0.2286325 ], dtype=float32), 'class_ids': array([0]), 'classes': array([b'0'], dtype=object), 'all_class_ids': array([0, 1], dtype=int32), 'all_classes': array([b'0', b'1'], dtype=object)}, {'logits': array([-1.9427683], dtype=float32), 'logistic': array([0.12534404], dtype=float32), 'probabilities': array([0.8746559 , 0.12534402], dtype=float32), 'class_ids': array([0]), 'classes': array([b'0'], dtype=object), 'all_class_ids': array([0, 1], dtype=int32), 'all_classes': array([b'0', b'1'], dtype=object)}, {'logits': array([1.651046], dtype=float32), 'logistic': array([0.8390324], dtype=float32), 'probabilities': array([0.16096763, 0.8390324 ], dtype=float32), 'class_ids': array([1]), 'classes': array([b'1'], dtype=object), 'all_class_ids': array([0, 1], dtype=int32), 'all_classes': array([b'0', b'1'], dtype=object)}, {'logits': array([-2.2584922], dtype=float32), 'logistic': array([0.09461942], dtype=float32), 'probabilities': array([0.90538055, 0.09461945], dtype=float32), 'class_ids': array([0]), 'classes': array([b'0'], dtype=object), 'all_class_ids': array([0, 1], dtype=int32), 'all_classes': array([b'0', b'1'], dtype=object)}, {'logits': array([-1.151933], dtype=float32), 'logistic': array([0.24013618], dtype=float32), 'probabilities': array([0.75986385, 0.24013622], dtype=float32), 'class_ids': array([0]), 'classes': array([b'0'], dtype=object), 'all_class_ids': array([0, 1], dtype=int32), 'all_classes': array([b'0', b'1'], dtype=object)}, {'logits': array([-0.55554986], dtype=float32), 'logistic': array([0.36457777], dtype=float32), 'probabilities': array([0.6354222 , 0.36457777], dtype=float32), 'class_ids': array([0]), 'classes': array([b'0'], dtype=object), 'all_class_ids': array([0, 1], dtype=int32), 'all_classes': array([b'0', b'1'], dtype=object)}, {'logits': array([-0.84413826], dtype=float32), 'logistic': array([0.30066395], dtype=float32), 'probabilities': array([0.69933605, 0.30066392], dtype=float32), 'class_ids': array([0]), 'classes': array([b'0'], dtype=object), 'all_class_ids': array([0, 1], dtype=int32), 'all_classes': array([b'0', b'1'], dtype=object)}, {'logits': array([-2.4919946], dtype=float32), 'logistic': array([0.07642132], dtype=float32), 'probabilities': array([0.92357874, 0.0764213 ], dtype=float32), 'class_ids': array([0]), 'classes': array([b'0'], dtype=object), 'all_class_ids': array([0, 1], dtype=int32), 'all_classes': array([b'0', b'1'], dtype=object)}, {'logits': array([-1.420265], dtype=float32), 'logistic': array([0.19462004], dtype=float32), 'probabilities': array([0.8053799 , 0.19462004], dtype=float32), 'class_ids': array([0]), 'classes': array([b'0'], dtype=object), 'all_class_ids': array([0, 1], dtype=int32), 'all_classes': array([b'0', b'1'], dtype=object)}, {'logits': array([-3.0450704], dtype=float32), 'logistic': array([0.04543075], dtype=float32), 'probabilities': array([0.9545692 , 0.04543078], dtype=float32), 'class_ids': array([0]), 'classes': array([b'0'], dtype=object), 'all_class_ids': array([0, 1], dtype=int32), 'all_classes': array([b'0', b'1'], dtype=object)}, {'logits': array([-2.600616], dtype=float32), 'logistic': array([0.06909874], dtype=float32), 'probabilities': array([0.9309012 , 0.06909879], dtype=float32), 'class_ids': array([0]), 'classes': array([b'0'], dtype=object), 'all_class_ids': array([0, 1], dtype=int32), 'all_classes': array([b'0', b'1'], dtype=object)}, {'logits': array([-2.1535287], dtype=float32), 'logistic': array([0.10400194], dtype=float32), 'probabilities': array([0.89599806, 0.10400194], dtype=float32), 'class_ids': array([0]), 'classes': array([b'0'], dtype=object), 'all_class_ids': array([0, 1], dtype=int32), 'all_classes': array([b'0', b'1'], dtype=object)}, {'logits': array([-2.3570852], dtype=float32), 'logistic': array([0.08650422], dtype=float32), 'probabilities': array([0.9134958 , 0.08650424], dtype=float32), 'class_ids': array([0]), 'classes': array([b'0'], dtype=object), 'all_class_ids': array([0, 1], dtype=int32), 'all_classes': array([b'0', b'1'], dtype=object)}, {'logits': array([-1.8090243], dtype=float32), 'logistic': array([0.14075607], dtype=float32), 'probabilities': array([0.8592439 , 0.14075609], dtype=float32), 'class_ids': array([0]), 'classes': array([b'0'], dtype=object), 'all_class_ids': array([0, 1], dtype=int32), 'all_classes': array([b'0', b'1'], dtype=object)}, {'logits': array([2.425089], dtype=float32), 'logistic': array([0.9187206], dtype=float32), 'probabilities': array([0.08127945, 0.9187206 ], dtype=float32), 'class_ids': array([1]), 'classes': array([b'1'], dtype=object), 'all_class_ids': array([0, 1], dtype=int32), 'all_classes': array([b'0', b'1'], dtype=object)}, {'logits': array([-1.702999], dtype=float32), 'logistic': array([0.15407398], dtype=float32), 'probabilities': array([0.845926  , 0.15407398], dtype=float32), 'class_ids': array([0]), 'classes': array([b'0'], dtype=object), 'all_class_ids': array([0, 1], dtype=int32), 'all_classes': array([b'0', b'1'], dtype=object)}, {'logits': array([-2.5056367], dtype=float32), 'logistic': array([0.07546398], dtype=float32), 'probabilities': array([0.9245361 , 0.07546398], dtype=float32), 'class_ids': array([0]), 'classes': array([b'0'], dtype=object), 'all_class_ids': array([0, 1], dtype=int32), 'all_classes': array([b'0', b'1'], dtype=object)}, {'logits': array([-2.186413], dtype=float32), 'logistic': array([0.10097727], dtype=float32), 'probabilities': array([0.89902276, 0.10097726], dtype=float32), 'class_ids': array([0]), 'classes': array([b'0'], dtype=object), 'all_class_ids': array([0, 1], dtype=int32), 'all_classes': array([b'0', b'1'], dtype=object)}, {'logits': array([-0.27047476], dtype=float32), 'logistic': array([0.43279055], dtype=float32), 'probabilities': array([0.5672094, 0.4327905], dtype=float32), 'class_ids': array([0]), 'classes': array([b'0'], dtype=object), 'all_class_ids': array([0, 1], dtype=int32), 'all_classes': array([b'0', b'1'], dtype=object)}, {'logits': array([-1.5757387], dtype=float32), 'logistic': array([0.17139983], dtype=float32), 'probabilities': array([0.82860017, 0.17139985], dtype=float32), 'class_ids': array([0]), 'classes': array([b'0'], dtype=object), 'all_class_ids': array([0, 1], dtype=int32), 'all_classes': array([b'0', b'1'], dtype=object)}, {'logits': array([1.3175731], dtype=float32), 'logistic': array([0.7887776], dtype=float32), 'probabilities': array([0.21122237, 0.78877765], dtype=float32), 'class_ids': array([1]), 'classes': array([b'1'], dtype=object), 'all_class_ids': array([0, 1], dtype=int32), 'all_classes': array([b'0', b'1'], dtype=object)}, {'logits': array([-1.7524475], dtype=float32), 'logistic': array([0.14773875], dtype=float32), 'probabilities': array([0.85226125, 0.14773877], dtype=float32), 'class_ids': array([0]), 'classes': array([b'0'], dtype=object), 'all_class_ids': array([0, 1], dtype=int32), 'all_classes': array([b'0', b'1'], dtype=object)}, {'logits': array([0.55611664], dtype=float32), 'logistic': array([0.63555354], dtype=float32), 'probabilities': array([0.3644465 , 0.63555354], dtype=float32), 'class_ids': array([1]), 'classes': array([b'1'], dtype=object), 'all_class_ids': array([0, 1], dtype=int32), 'all_classes': array([b'0', b'1'], dtype=object)}, {'logits': array([-0.7472443], dtype=float32), 'logistic': array([0.32142204], dtype=float32), 'probabilities': array([0.67857796, 0.32142204], dtype=float32), 'class_ids': array([0]), 'classes': array([b'0'], dtype=object), 'all_class_ids': array([0, 1], dtype=int32), 'all_classes': array([b'0', b'1'], dtype=object)}, {'logits': array([-2.716294], dtype=float32), 'logistic': array([0.06201869], dtype=float32), 'probabilities': array([0.9379813, 0.0620187], dtype=float32), 'class_ids': array([0]), 'classes': array([b'0'], dtype=object), 'all_class_ids': array([0, 1], dtype=int32), 'all_classes': array([b'0', b'1'], dtype=object)}, {'logits': array([-2.5470226], dtype=float32), 'logistic': array([0.07262671], dtype=float32), 'probabilities': array([0.9273732 , 0.07262676], dtype=float32), 'class_ids': array([0]), 'classes': array([b'0'], dtype=object), 'all_class_ids': array([0, 1], dtype=int32), 'all_classes': array([b'0', b'1'], dtype=object)}, {'logits': array([0.3760189], dtype=float32), 'logistic': array([0.59291255], dtype=float32), 'probabilities': array([0.40708745, 0.59291255], dtype=float32), 'class_ids': array([1]), 'classes': array([b'1'], dtype=object), 'all_class_ids': array([0, 1], dtype=int32), 'all_classes': array([b'0', b'1'], dtype=object)}, {'logits': array([1.6573428], dtype=float32), 'logistic': array([0.83988094], dtype=float32), 'probabilities': array([0.16011903, 0.839881  ], dtype=float32), 'class_ids': array([1]), 'classes': array([b'1'], dtype=object), 'all_class_ids': array([0, 1], dtype=int32), 'all_classes': array([b'0', b'1'], dtype=object)}, {'logits': array([-0.8755016], dtype=float32), 'logistic': array([0.29411083], dtype=float32), 'probabilities': array([0.7058892 , 0.29411083], dtype=float32), 'class_ids': array([0]), 'classes': array([b'0'], dtype=object), 'all_class_ids': array([0, 1], dtype=int32), 'all_classes': array([b'0', b'1'], dtype=object)}, {'logits': array([-3.584963], dtype=float32), 'logistic': array([0.02698907], dtype=float32), 'probabilities': array([0.9730109 , 0.02698908], dtype=float32), 'class_ids': array([0]), 'classes': array([b'0'], dtype=object), 'all_class_ids': array([0, 1], dtype=int32), 'all_classes': array([b'0', b'1'], dtype=object)}, {'logits': array([-2.1888704], dtype=float32), 'logistic': array([0.10075438], dtype=float32), 'probabilities': array([0.8992456, 0.1007544], dtype=float32), 'class_ids': array([0]), 'classes': array([b'0'], dtype=object), 'all_class_ids': array([0, 1], dtype=int32), 'all_classes': array([b'0', b'1'], dtype=object)}, {'logits': array([-2.1710541], dtype=float32), 'logistic': array([0.10238007], dtype=float32), 'probabilities': array([0.8976199 , 0.10238013], dtype=float32), 'class_ids': array([0]), 'classes': array([b'0'], dtype=object), 'all_class_ids': array([0, 1], dtype=int32), 'all_classes': array([b'0', b'1'], dtype=object)}, {'logits': array([-2.5899463], dtype=float32), 'logistic': array([0.06978825], dtype=float32), 'probabilities': array([0.93021166, 0.06978826], dtype=float32), 'class_ids': array([0]), 'classes': array([b'0'], dtype=object), 'all_class_ids': array([0, 1], dtype=int32), 'all_classes': array([b'0', b'1'], dtype=object)}, {'logits': array([-2.293586], dtype=float32), 'logistic': array([0.09165555], dtype=float32), 'probabilities': array([0.90834445, 0.09165557], dtype=float32), 'class_ids': array([0]), 'classes': array([b'0'], dtype=object), 'all_class_ids': array([0, 1], dtype=int32), 'all_classes': array([b'0', b'1'], dtype=object)}, {'logits': array([-2.2331252], dtype=float32), 'logistic': array([0.09681505], dtype=float32), 'probabilities': array([0.903185  , 0.09681503], dtype=float32), 'class_ids': array([0]), 'classes': array([b'0'], dtype=object), 'all_class_ids': array([0, 1], dtype=int32), 'all_classes': array([b'0', b'1'], dtype=object)}, {'logits': array([0.88943416], dtype=float32), 'logistic': array([0.7087734], dtype=float32), 'probabilities': array([0.29122663, 0.7087734 ], dtype=float32), 'class_ids': array([1]), 'classes': array([b'1'], dtype=object), 'all_class_ids': array([0, 1], dtype=int32), 'all_classes': array([b'0', b'1'], dtype=object)}, {'logits': array([2.5763648], dtype=float32), 'logistic': array([0.92932487], dtype=float32), 'probabilities': array([0.07067513, 0.9293249 ], dtype=float32), 'class_ids': array([1]), 'classes': array([b'1'], dtype=object), 'all_class_ids': array([0, 1], dtype=int32), 'all_classes': array([b'0', b'1'], dtype=object)}, {'logits': array([0.5823272], dtype=float32), 'logistic': array([0.64160275], dtype=float32), 'probabilities': array([0.3583973 , 0.64160275], dtype=float32), 'class_ids': array([1]), 'classes': array([b'1'], dtype=object), 'all_class_ids': array([0, 1], dtype=int32), 'all_classes': array([b'0', b'1'], dtype=object)}, {'logits': array([-0.7134991], dtype=float32), 'logistic': array([0.32882616], dtype=float32), 'probabilities': array([0.67117393, 0.32882616], dtype=float32), 'class_ids': array([0]), 'classes': array([b'0'], dtype=object), 'all_class_ids': array([0, 1], dtype=int32), 'all_classes': array([b'0', b'1'], dtype=object)}, {'logits': array([-1.8231329], dtype=float32), 'logistic': array([0.13905835], dtype=float32), 'probabilities': array([0.86094165, 0.13905838], dtype=float32), 'class_ids': array([0]), 'classes': array([b'0'], dtype=object), 'all_class_ids': array([0, 1], dtype=int32), 'all_classes': array([b'0', b'1'], dtype=object)}, {'logits': array([1.2889346], dtype=float32), 'logistic': array([0.7839668], dtype=float32), 'probabilities': array([0.21603322, 0.78396684], dtype=float32), 'class_ids': array([1]), 'classes': array([b'1'], dtype=object), 'all_class_ids': array([0, 1], dtype=int32), 'all_classes': array([b'0', b'1'], dtype=object)}, {'logits': array([-2.7297688], dtype=float32), 'logistic': array([0.06123948], dtype=float32), 'probabilities': array([0.9387605 , 0.06123945], dtype=float32), 'class_ids': array([0]), 'classes': array([b'0'], dtype=object), 'all_class_ids': array([0, 1], dtype=int32), 'all_classes': array([b'0', b'1'], dtype=object)}, {'logits': array([-1.6275979], dtype=float32), 'logistic': array([0.16415969], dtype=float32), 'probabilities': array([0.83584034, 0.16415969], dtype=float32), 'class_ids': array([0]), 'classes': array([b'0'], dtype=object), 'all_class_ids': array([0, 1], dtype=int32), 'all_classes': array([b'0', b'1'], dtype=object)}, {'logits': array([0.5201021], dtype=float32), 'logistic': array([0.62717164], dtype=float32), 'probabilities': array([0.3728284 , 0.62717164], dtype=float32), 'class_ids': array([1]), 'classes': array([b'1'], dtype=object), 'all_class_ids': array([0, 1], dtype=int32), 'all_classes': array([b'0', b'1'], dtype=object)}, {'logits': array([-2.6657205], dtype=float32), 'logistic': array([0.06502664], dtype=float32), 'probabilities': array([0.93497336, 0.06502667], dtype=float32), 'class_ids': array([0]), 'classes': array([b'0'], dtype=object), 'all_class_ids': array([0, 1], dtype=int32), 'all_classes': array([b'0', b'1'], dtype=object)}, {'logits': array([1.3782785], dtype=float32), 'logistic': array([0.7987144], dtype=float32), 'probabilities': array([0.20128563, 0.7987144 ], dtype=float32), 'class_ids': array([1]), 'classes': array([b'1'], dtype=object), 'all_class_ids': array([0, 1], dtype=int32), 'all_classes': array([b'0', b'1'], dtype=object)}, {'logits': array([1.6714443], dtype=float32), 'logistic': array([0.8417683], dtype=float32), 'probabilities': array([0.1582317 , 0.84176826], dtype=float32), 'class_ids': array([1]), 'classes': array([b'1'], dtype=object), 'all_class_ids': array([0, 1], dtype=int32), 'all_classes': array([b'0', b'1'], dtype=object)}, {'logits': array([2.8718574], dtype=float32), 'logistic': array([0.9464376], dtype=float32), 'probabilities': array([0.05356242, 0.94643766], dtype=float32), 'class_ids': array([1]), 'classes': array([b'1'], dtype=object), 'all_class_ids': array([0, 1], dtype=int32), 'all_classes': array([b'0', b'1'], dtype=object)}, {'logits': array([-1.980447], dtype=float32), 'logistic': array([0.12127119], dtype=float32), 'probabilities': array([0.8787288 , 0.12127119], dtype=float32), 'class_ids': array([0]), 'classes': array([b'0'], dtype=object), 'all_class_ids': array([0, 1], dtype=int32), 'all_classes': array([b'0', b'1'], dtype=object)}, {'logits': array([-2.4881542], dtype=float32), 'logistic': array([0.07669282], dtype=float32), 'probabilities': array([0.92330724, 0.0766928 ], dtype=float32), 'class_ids': array([0]), 'classes': array([b'0'], dtype=object), 'all_class_ids': array([0, 1], dtype=int32), 'all_classes': array([b'0', b'1'], dtype=object)}, {'logits': array([2.2446105], dtype=float32), 'logistic': array([0.90418464], dtype=float32), 'probabilities': array([0.09581536, 0.90418464], dtype=float32), 'class_ids': array([1]), 'classes': array([b'1'], dtype=object), 'all_class_ids': array([0, 1], dtype=int32), 'all_classes': array([b'0', b'1'], dtype=object)}, {'logits': array([-0.10832079], dtype=float32), 'logistic': array([0.47294626], dtype=float32), 'probabilities': array([0.5270538, 0.4729463], dtype=float32), 'class_ids': array([0]), 'classes': array([b'0'], dtype=object), 'all_class_ids': array([0, 1], dtype=int32), 'all_classes': array([b'0', b'1'], dtype=object)}, {'logits': array([-2.114845], dtype=float32), 'logistic': array([0.10766226], dtype=float32), 'probabilities': array([0.8923377 , 0.10766231], dtype=float32), 'class_ids': array([0]), 'classes': array([b'0'], dtype=object), 'all_class_ids': array([0, 1], dtype=int32), 'all_classes': array([b'0', b'1'], dtype=object)}, {'logits': array([-1.4148277], dtype=float32), 'logistic': array([0.19547373], dtype=float32), 'probabilities': array([0.80452627, 0.19547372], dtype=float32), 'class_ids': array([0]), 'classes': array([b'0'], dtype=object), 'all_class_ids': array([0, 1], dtype=int32), 'all_classes': array([b'0', b'1'], dtype=object)}, {'logits': array([-3.0069337], dtype=float32), 'logistic': array([0.0471136], dtype=float32), 'probabilities': array([0.9528864 , 0.04711362], dtype=float32), 'class_ids': array([0]), 'classes': array([b'0'], dtype=object), 'all_class_ids': array([0, 1], dtype=int32), 'all_classes': array([b'0', b'1'], dtype=object)}, {'logits': array([-2.340218], dtype=float32), 'logistic': array([0.08784643], dtype=float32), 'probabilities': array([0.91215354, 0.08784644], dtype=float32), 'class_ids': array([0]), 'classes': array([b'0'], dtype=object), 'all_class_ids': array([0, 1], dtype=int32), 'all_classes': array([b'0', b'1'], dtype=object)}, {'logits': array([-1.4171776], dtype=float32), 'logistic': array([0.19510445], dtype=float32), 'probabilities': array([0.8048956 , 0.19510444], dtype=float32), 'class_ids': array([0]), 'classes': array([b'0'], dtype=object), 'all_class_ids': array([0, 1], dtype=int32), 'all_classes': array([b'0', b'1'], dtype=object)}, {'logits': array([-2.5708346], dtype=float32), 'logistic': array([0.07103917], dtype=float32), 'probabilities': array([0.9289608 , 0.07103921], dtype=float32), 'class_ids': array([0]), 'classes': array([b'0'], dtype=object), 'all_class_ids': array([0, 1], dtype=int32), 'all_classes': array([b'0', b'1'], dtype=object)}, {'logits': array([0.5782581], dtype=float32), 'logistic': array([0.6406665], dtype=float32), 'probabilities': array([0.35933352, 0.6406665 ], dtype=float32), 'class_ids': array([1]), 'classes': array([b'1'], dtype=object), 'all_class_ids': array([0, 1], dtype=int32), 'all_classes': array([b'0', b'1'], dtype=object)}, {'logits': array([-1.4180638], dtype=float32), 'logistic': array([0.1949653], dtype=float32), 'probabilities': array([0.8050347, 0.1949653], dtype=float32), 'class_ids': array([0]), 'classes': array([b'0'], dtype=object), 'all_class_ids': array([0, 1], dtype=int32), 'all_classes': array([b'0', b'1'], dtype=object)}, {'logits': array([-0.18368086], dtype=float32), 'logistic': array([0.45420846], dtype=float32), 'probabilities': array([0.54579157, 0.45420846], dtype=float32), 'class_ids': array([0]), 'classes': array([b'0'], dtype=object), 'all_class_ids': array([0, 1], dtype=int32), 'all_classes': array([b'0', b'1'], dtype=object)}, {'logits': array([0.66660124], dtype=float32), 'logistic': array([0.6607417], dtype=float32), 'probabilities': array([0.3392583 , 0.66074175], dtype=float32), 'class_ids': array([1]), 'classes': array([b'1'], dtype=object), 'all_class_ids': array([0, 1], dtype=int32), 'all_classes': array([b'0', b'1'], dtype=object)}, {'logits': array([-1.6721139], dtype=float32), 'logistic': array([0.15814254], dtype=float32), 'probabilities': array([0.8418575 , 0.15814255], dtype=float32), 'class_ids': array([0]), 'classes': array([b'0'], dtype=object), 'all_class_ids': array([0, 1], dtype=int32), 'all_classes': array([b'0', b'1'], dtype=object)}, {'logits': array([1.3613758], dtype=float32), 'logistic': array([0.7959832], dtype=float32), 'probabilities': array([0.20401679, 0.79598325], dtype=float32), 'class_ids': array([1]), 'classes': array([b'1'], dtype=object), 'all_class_ids': array([0, 1], dtype=int32), 'all_classes': array([b'0', b'1'], dtype=object)}, {'logits': array([1.3211329], dtype=float32), 'logistic': array([0.7893701], dtype=float32), 'probabilities': array([0.21062987, 0.7893701 ], dtype=float32), 'class_ids': array([1]), 'classes': array([b'1'], dtype=object), 'all_class_ids': array([0, 1], dtype=int32), 'all_classes': array([b'0', b'1'], dtype=object)}, {'logits': array([0.93362695], dtype=float32), 'logistic': array([0.7178105], dtype=float32), 'probabilities': array([0.28218946, 0.7178105 ], dtype=float32), 'class_ids': array([1]), 'classes': array([b'1'], dtype=object), 'all_class_ids': array([0, 1], dtype=int32), 'all_classes': array([b'0', b'1'], dtype=object)}, {'logits': array([-2.8266773], dtype=float32), 'logistic': array([0.05589947], dtype=float32), 'probabilities': array([0.94410056, 0.0558995 ], dtype=float32), 'class_ids': array([0]), 'classes': array([b'0'], dtype=object), 'all_class_ids': array([0, 1], dtype=int32), 'all_classes': array([b'0', b'1'], dtype=object)}, {'logits': array([1.2193338], dtype=float32), 'logistic': array([0.7719463], dtype=float32), 'probabilities': array([0.22805372, 0.77194625], dtype=float32), 'class_ids': array([1]), 'classes': array([b'1'], dtype=object), 'all_class_ids': array([0, 1], dtype=int32), 'all_classes': array([b'0', b'1'], dtype=object)}, {'logits': array([0.73142594], dtype=float32), 'logistic': array([0.6751181], dtype=float32), 'probabilities': array([0.3248819 , 0.67511815], dtype=float32), 'class_ids': array([1]), 'classes': array([b'1'], dtype=object), 'all_class_ids': array([0, 1], dtype=int32), 'all_classes': array([b'0', b'1'], dtype=object)}, {'logits': array([0.7252868], dtype=float32), 'logistic': array([0.6737701], dtype=float32), 'probabilities': array([0.32622987, 0.6737701 ], dtype=float32), 'class_ids': array([1]), 'classes': array([b'1'], dtype=object), 'all_class_ids': array([0, 1], dtype=int32), 'all_classes': array([b'0', b'1'], dtype=object)}, {'logits': array([-3.3172586], dtype=float32), 'logistic': array([0.03498381], dtype=float32), 'probabilities': array([0.9650162 , 0.03498384], dtype=float32), 'class_ids': array([0]), 'classes': array([b'0'], dtype=object), 'all_class_ids': array([0, 1], dtype=int32), 'all_classes': array([b'0', b'1'], dtype=object)}, {'logits': array([1.1720773], dtype=float32), 'logistic': array([0.76352024], dtype=float32), 'probabilities': array([0.23647971, 0.7635203 ], dtype=float32), 'class_ids': array([1]), 'classes': array([b'1'], dtype=object), 'all_class_ids': array([0, 1], dtype=int32), 'all_classes': array([b'0', b'1'], dtype=object)}, {'logits': array([0.45407596], dtype=float32), 'logistic': array([0.6116079], dtype=float32), 'probabilities': array([0.3883921 , 0.61160785], dtype=float32), 'class_ids': array([1]), 'classes': array([b'1'], dtype=object), 'all_class_ids': array([0, 1], dtype=int32), 'all_classes': array([b'0', b'1'], dtype=object)}, {'logits': array([-2.5408018], dtype=float32), 'logistic': array([0.07304683], dtype=float32), 'probabilities': array([0.92695314, 0.07304687], dtype=float32), 'class_ids': array([0]), 'classes': array([b'0'], dtype=object), 'all_class_ids': array([0, 1], dtype=int32), 'all_classes': array([b'0', b'1'], dtype=object)}, {'logits': array([0.6690714], dtype=float32), 'logistic': array([0.6612952], dtype=float32), 'probabilities': array([0.33870482, 0.66129524], dtype=float32), 'class_ids': array([1]), 'classes': array([b'1'], dtype=object), 'all_class_ids': array([0, 1], dtype=int32), 'all_classes': array([b'0', b'1'], dtype=object)}, {'logits': array([-2.5001512], dtype=float32), 'logistic': array([0.07584757], dtype=float32), 'probabilities': array([0.9241524 , 0.07584758], dtype=float32), 'class_ids': array([0]), 'classes': array([b'0'], dtype=object), 'all_class_ids': array([0, 1], dtype=int32), 'all_classes': array([b'0', b'1'], dtype=object)}, {'logits': array([1.1572934], dtype=float32), 'logistic': array([0.7608406], dtype=float32), 'probabilities': array([0.23915942, 0.76084054], dtype=float32), 'class_ids': array([1]), 'classes': array([b'1'], dtype=object), 'all_class_ids': array([0, 1], dtype=int32), 'all_classes': array([b'0', b'1'], dtype=object)}, {'logits': array([-0.07809933], dtype=float32), 'logistic': array([0.48048508], dtype=float32), 'probabilities': array([0.5195149, 0.4804851], dtype=float32), 'class_ids': array([0]), 'classes': array([b'0'], dtype=object), 'all_class_ids': array([0, 1], dtype=int32), 'all_classes': array([b'0', b'1'], dtype=object)}, {'logits': array([-2.3472297], dtype=float32), 'logistic': array([0.0872862], dtype=float32), 'probabilities': array([0.91271377, 0.08728622], dtype=float32), 'class_ids': array([0]), 'classes': array([b'0'], dtype=object), 'all_class_ids': array([0, 1], dtype=int32), 'all_classes': array([b'0', b'1'], dtype=object)}, {'logits': array([-0.759619], dtype=float32), 'logistic': array([0.31872898], dtype=float32), 'probabilities': array([0.681271  , 0.31872898], dtype=float32), 'class_ids': array([0]), 'classes': array([b'0'], dtype=object), 'all_class_ids': array([0, 1], dtype=int32), 'all_classes': array([b'0', b'1'], dtype=object)}, {'logits': array([1.6509451], dtype=float32), 'logistic': array([0.83901876], dtype=float32), 'probabilities': array([0.16098125, 0.8390187 ], dtype=float32), 'class_ids': array([1]), 'classes': array([b'1'], dtype=object), 'all_class_ids': array([0, 1], dtype=int32), 'all_classes': array([b'0', b'1'], dtype=object)}, {'logits': array([-2.556812], dtype=float32), 'logistic': array([0.07197016], dtype=float32), 'probabilities': array([0.9280298 , 0.07197018], dtype=float32), 'class_ids': array([0]), 'classes': array([b'0'], dtype=object), 'all_class_ids': array([0, 1], dtype=int32), 'all_classes': array([b'0', b'1'], dtype=object)}, {'logits': array([-2.5069463], dtype=float32), 'logistic': array([0.07537264], dtype=float32), 'probabilities': array([0.92462736, 0.07537265], dtype=float32), 'class_ids': array([0]), 'classes': array([b'0'], dtype=object), 'all_class_ids': array([0, 1], dtype=int32), 'all_classes': array([b'0', b'1'], dtype=object)}, {'logits': array([0.46007732], dtype=float32), 'logistic': array([0.6130325], dtype=float32), 'probabilities': array([0.38696748, 0.6130325 ], dtype=float32), 'class_ids': array([1]), 'classes': array([b'1'], dtype=object), 'all_class_ids': array([0, 1], dtype=int32), 'all_classes': array([b'0', b'1'], dtype=object)}, {'logits': array([-2.2773182], dtype=float32), 'logistic': array([0.09301895], dtype=float32), 'probabilities': array([0.90698105, 0.09301896], dtype=float32), 'class_ids': array([0]), 'classes': array([b'0'], dtype=object), 'all_class_ids': array([0, 1], dtype=int32), 'all_classes': array([b'0', b'1'], dtype=object)}, {'logits': array([-2.445176], dtype=float32), 'logistic': array([0.07979202], dtype=float32), 'probabilities': array([0.9202079 , 0.07979205], dtype=float32), 'class_ids': array([0]), 'classes': array([b'0'], dtype=object), 'all_class_ids': array([0, 1], dtype=int32), 'all_classes': array([b'0', b'1'], dtype=object)}, {'logits': array([-1.627918], dtype=float32), 'logistic': array([0.16411579], dtype=float32), 'probabilities': array([0.8358842 , 0.16411577], dtype=float32), 'class_ids': array([0]), 'classes': array([b'0'], dtype=object), 'all_class_ids': array([0, 1], dtype=int32), 'all_classes': array([b'0', b'1'], dtype=object)}, {'logits': array([-2.8655667], dtype=float32), 'logistic': array([0.05388221], dtype=float32), 'probabilities': array([0.9461178 , 0.05388221], dtype=float32), 'class_ids': array([0]), 'classes': array([b'0'], dtype=object), 'all_class_ids': array([0, 1], dtype=int32), 'all_classes': array([b'0', b'1'], dtype=object)}, {'logits': array([0.64462286], dtype=float32), 'logistic': array([0.6557977], dtype=float32), 'probabilities': array([0.34420228, 0.6557977 ], dtype=float32), 'class_ids': array([1]), 'classes': array([b'1'], dtype=object), 'all_class_ids': array([0, 1], dtype=int32), 'all_classes': array([b'0', b'1'], dtype=object)}, {'logits': array([-2.2904007], dtype=float32), 'logistic': array([0.09192106], dtype=float32), 'probabilities': array([0.9080789, 0.0919211], dtype=float32), 'class_ids': array([0]), 'classes': array([b'0'], dtype=object), 'all_class_ids': array([0, 1], dtype=int32), 'all_classes': array([b'0', b'1'], dtype=object)}, {'logits': array([-3.284465], dtype=float32), 'logistic': array([0.03610799], dtype=float32), 'probabilities': array([0.96389204, 0.03610799], dtype=float32), 'class_ids': array([0]), 'classes': array([b'0'], dtype=object), 'all_class_ids': array([0, 1], dtype=int32), 'all_classes': array([b'0', b'1'], dtype=object)}, {'logits': array([-2.5776298], dtype=float32), 'logistic': array([0.07059208], dtype=float32), 'probabilities': array([0.9294079 , 0.07059208], dtype=float32), 'class_ids': array([0]), 'classes': array([b'0'], dtype=object), 'all_class_ids': array([0, 1], dtype=int32), 'all_classes': array([b'0', b'1'], dtype=object)}, {'logits': array([-2.2527587], dtype=float32), 'logistic': array([0.09511173], dtype=float32), 'probabilities': array([0.9048882 , 0.09511176], dtype=float32), 'class_ids': array([0]), 'classes': array([b'0'], dtype=object), 'all_class_ids': array([0, 1], dtype=int32), 'all_classes': array([b'0', b'1'], dtype=object)}, {'logits': array([-2.3331819], dtype=float32), 'logistic': array([0.08841187], dtype=float32), 'probabilities': array([0.91158813, 0.08841189], dtype=float32), 'class_ids': array([0]), 'classes': array([b'0'], dtype=object), 'all_class_ids': array([0, 1], dtype=int32), 'all_classes': array([b'0', b'1'], dtype=object)}, {'logits': array([-2.0435753], dtype=float32), 'logistic': array([0.11470318], dtype=float32), 'probabilities': array([0.8852968 , 0.11470318], dtype=float32), 'class_ids': array([0]), 'classes': array([b'0'], dtype=object), 'all_class_ids': array([0, 1], dtype=int32), 'all_classes': array([b'0', b'1'], dtype=object)}, {'logits': array([1.6821498], dtype=float32), 'logistic': array([0.843189], dtype=float32), 'probabilities': array([0.15681101, 0.843189  ], dtype=float32), 'class_ids': array([1]), 'classes': array([b'1'], dtype=object), 'all_class_ids': array([0, 1], dtype=int32), 'all_classes': array([b'0', b'1'], dtype=object)}, {'logits': array([-2.5668294], dtype=float32), 'logistic': array([0.07130399], dtype=float32), 'probabilities': array([0.928696  , 0.07130397], dtype=float32), 'class_ids': array([0]), 'classes': array([b'0'], dtype=object), 'all_class_ids': array([0, 1], dtype=int32), 'all_classes': array([b'0', b'1'], dtype=object)}, {'logits': array([-2.36342], dtype=float32), 'logistic': array([0.08600494], dtype=float32), 'probabilities': array([0.913995  , 0.08600498], dtype=float32), 'class_ids': array([0]), 'classes': array([b'0'], dtype=object), 'all_class_ids': array([0, 1], dtype=int32), 'all_classes': array([b'0', b'1'], dtype=object)}, {'logits': array([0.67840964], dtype=float32), 'logistic': array([0.66338366], dtype=float32), 'probabilities': array([0.3366163 , 0.66338366], dtype=float32), 'class_ids': array([1]), 'classes': array([b'1'], dtype=object), 'all_class_ids': array([0, 1], dtype=int32), 'all_classes': array([b'0', b'1'], dtype=object)}, {'logits': array([2.1521275], dtype=float32), 'logistic': array([0.89586747], dtype=float32), 'probabilities': array([0.10413259, 0.89586747], dtype=float32), 'class_ids': array([1]), 'classes': array([b'1'], dtype=object), 'all_class_ids': array([0, 1], dtype=int32), 'all_classes': array([b'0', b'1'], dtype=object)}, {'logits': array([-2.6298978], dtype=float32), 'logistic': array([0.06723884], dtype=float32), 'probabilities': array([0.93276113, 0.06723886], dtype=float32), 'class_ids': array([0]), 'classes': array([b'0'], dtype=object), 'all_class_ids': array([0, 1], dtype=int32), 'all_classes': array([b'0', b'1'], dtype=object)}, {'logits': array([-2.31266], dtype=float32), 'logistic': array([0.09007984], dtype=float32), 'probabilities': array([0.9099201 , 0.09007988], dtype=float32), 'class_ids': array([0]), 'classes': array([b'0'], dtype=object), 'all_class_ids': array([0, 1], dtype=int32), 'all_classes': array([b'0', b'1'], dtype=object)}, {'logits': array([-2.5069463], dtype=float32), 'logistic': array([0.07537264], dtype=float32), 'probabilities': array([0.92462736, 0.07537265], dtype=float32), 'class_ids': array([0]), 'classes': array([b'0'], dtype=object), 'all_class_ids': array([0, 1], dtype=int32), 'all_classes': array([b'0', b'1'], dtype=object)}, {'logits': array([-0.13202247], dtype=float32), 'logistic': array([0.46704224], dtype=float32), 'probabilities': array([0.53295773, 0.46704218], dtype=float32), 'class_ids': array([0]), 'classes': array([b'0'], dtype=object), 'all_class_ids': array([0, 1], dtype=int32), 'all_classes': array([b'0', b'1'], dtype=object)}, {'logits': array([-2.4166207], dtype=float32), 'logistic': array([0.08191404], dtype=float32), 'probabilities': array([0.91808593, 0.08191403], dtype=float32), 'class_ids': array([0]), 'classes': array([b'0'], dtype=object), 'all_class_ids': array([0, 1], dtype=int32), 'all_classes': array([b'0', b'1'], dtype=object)}, {'logits': array([-1.9821353], dtype=float32), 'logistic': array([0.1210914], dtype=float32), 'probabilities': array([0.87890863, 0.1210914 ], dtype=float32), 'class_ids': array([0]), 'classes': array([b'0'], dtype=object), 'all_class_ids': array([0, 1], dtype=int32), 'all_classes': array([b'0', b'1'], dtype=object)}, {'logits': array([-2.894644], dtype=float32), 'logistic': array([0.05241892], dtype=float32), 'probabilities': array([0.94758105, 0.05241897], dtype=float32), 'class_ids': array([0]), 'classes': array([b'0'], dtype=object), 'all_class_ids': array([0, 1], dtype=int32), 'all_classes': array([b'0', b'1'], dtype=object)}, {'logits': array([-1.982171], dtype=float32), 'logistic': array([0.12108758], dtype=float32), 'probabilities': array([0.8789124 , 0.12108759], dtype=float32), 'class_ids': array([0]), 'classes': array([b'0'], dtype=object), 'all_class_ids': array([0, 1], dtype=int32), 'all_classes': array([b'0', b'1'], dtype=object)}, {'logits': array([-2.561733], dtype=float32), 'logistic': array([0.07164216], dtype=float32), 'probabilities': array([0.92835784, 0.0716422 ], dtype=float32), 'class_ids': array([0]), 'classes': array([b'0'], dtype=object), 'all_class_ids': array([0, 1], dtype=int32), 'all_classes': array([b'0', b'1'], dtype=object)}, {'logits': array([-1.9387753], dtype=float32), 'logistic': array([0.12578243], dtype=float32), 'probabilities': array([0.87421757, 0.12578247], dtype=float32), 'class_ids': array([0]), 'classes': array([b'0'], dtype=object), 'all_class_ids': array([0, 1], dtype=int32), 'all_classes': array([b'0', b'1'], dtype=object)}, {'logits': array([-2.4889894], dtype=float32), 'logistic': array([0.07663369], dtype=float32), 'probabilities': array([0.92336637, 0.07663369], dtype=float32), 'class_ids': array([0]), 'classes': array([b'0'], dtype=object), 'all_class_ids': array([0, 1], dtype=int32), 'all_classes': array([b'0', b'1'], dtype=object)}, {'logits': array([-0.9579863], dtype=float32), 'logistic': array([0.27728155], dtype=float32), 'probabilities': array([0.7227184 , 0.27728155], dtype=float32), 'class_ids': array([0]), 'classes': array([b'0'], dtype=object), 'all_class_ids': array([0, 1], dtype=int32), 'all_classes': array([b'0', b'1'], dtype=object)}, {'logits': array([-1.7700845], dtype=float32), 'logistic': array([0.1455318], dtype=float32), 'probabilities': array([0.85446817, 0.14553182], dtype=float32), 'class_ids': array([0]), 'classes': array([b'0'], dtype=object), 'all_class_ids': array([0, 1], dtype=int32), 'all_classes': array([b'0', b'1'], dtype=object)}, {'logits': array([-2.4229777], dtype=float32), 'logistic': array([0.0814372], dtype=float32), 'probabilities': array([0.91856277, 0.08143723], dtype=float32), 'class_ids': array([0]), 'classes': array([b'0'], dtype=object), 'all_class_ids': array([0, 1], dtype=int32), 'all_classes': array([b'0', b'1'], dtype=object)}, {'logits': array([-1.7425878], dtype=float32), 'logistic': array([0.14898449], dtype=float32), 'probabilities': array([0.8510155 , 0.14898454], dtype=float32), 'class_ids': array([0]), 'classes': array([b'0'], dtype=object), 'all_class_ids': array([0, 1], dtype=int32), 'all_classes': array([b'0', b'1'], dtype=object)}, {'logits': array([0.44775537], dtype=float32), 'logistic': array([0.6101054], dtype=float32), 'probabilities': array([0.38989463, 0.61010545], dtype=float32), 'class_ids': array([1]), 'classes': array([b'1'], dtype=object), 'all_class_ids': array([0, 1], dtype=int32), 'all_classes': array([b'0', b'1'], dtype=object)}, {'logits': array([-1.982171], dtype=float32), 'logistic': array([0.12108758], dtype=float32), 'probabilities': array([0.8789124 , 0.12108759], dtype=float32), 'class_ids': array([0]), 'classes': array([b'0'], dtype=object), 'all_class_ids': array([0, 1], dtype=int32), 'all_classes': array([b'0', b'1'], dtype=object)}, {'logits': array([0.6773835], dtype=float32), 'logistic': array([0.6631545], dtype=float32), 'probabilities': array([0.3368455, 0.6631544], dtype=float32), 'class_ids': array([1]), 'classes': array([b'1'], dtype=object), 'all_class_ids': array([0, 1], dtype=int32), 'all_classes': array([b'0', b'1'], dtype=object)}, {'logits': array([-2.243657], dtype=float32), 'logistic': array([0.095898], dtype=float32), 'probabilities': array([0.90410197, 0.09589799], dtype=float32), 'class_ids': array([0]), 'classes': array([b'0'], dtype=object), 'all_class_ids': array([0, 1], dtype=int32), 'all_classes': array([b'0', b'1'], dtype=object)}, {'logits': array([2.5164788], dtype=float32), 'logistic': array([0.925289], dtype=float32), 'probabilities': array([0.074711, 0.925289], dtype=float32), 'class_ids': array([1]), 'classes': array([b'1'], dtype=object), 'all_class_ids': array([0, 1], dtype=int32), 'all_classes': array([b'0', b'1'], dtype=object)}, {'logits': array([0.9624818], dtype=float32), 'logistic': array([0.7236184], dtype=float32), 'probabilities': array([0.27638155, 0.7236184 ], dtype=float32), 'class_ids': array([1]), 'classes': array([b'1'], dtype=object), 'all_class_ids': array([0, 1], dtype=int32), 'all_classes': array([b'0', b'1'], dtype=object)}, {'logits': array([-2.6472516], dtype=float32), 'logistic': array([0.06615859], dtype=float32), 'probabilities': array([0.93384147, 0.06615862], dtype=float32), 'class_ids': array([0]), 'classes': array([b'0'], dtype=object), 'all_class_ids': array([0, 1], dtype=int32), 'all_classes': array([b'0', b'1'], dtype=object)}, {'logits': array([1.2972642], dtype=float32), 'logistic': array([0.78537416], dtype=float32), 'probabilities': array([0.2146258 , 0.78537416], dtype=float32), 'class_ids': array([1]), 'classes': array([b'1'], dtype=object), 'all_class_ids': array([0, 1], dtype=int32), 'all_classes': array([b'0', b'1'], dtype=object)}, {'logits': array([-2.7676492], dtype=float32), 'logistic': array([0.05909756], dtype=float32), 'probabilities': array([0.9409024, 0.0590976], dtype=float32), 'class_ids': array([0]), 'classes': array([b'0'], dtype=object), 'all_class_ids': array([0, 1], dtype=int32), 'all_classes': array([b'0', b'1'], dtype=object)}, {'logits': array([-1.9947703], dtype=float32), 'logistic': array([0.11975309], dtype=float32), 'probabilities': array([0.88024694, 0.11975311], dtype=float32), 'class_ids': array([0]), 'classes': array([b'0'], dtype=object), 'all_class_ids': array([0, 1], dtype=int32), 'all_classes': array([b'0', b'1'], dtype=object)}, {'logits': array([2.5124898], dtype=float32), 'logistic': array([0.9250128], dtype=float32), 'probabilities': array([0.07498722, 0.92501277], dtype=float32), 'class_ids': array([1]), 'classes': array([b'1'], dtype=object), 'all_class_ids': array([0, 1], dtype=int32), 'all_classes': array([b'0', b'1'], dtype=object)}, {'logits': array([-2.2948956], dtype=float32), 'logistic': array([0.09154657], dtype=float32), 'probabilities': array([0.9084534 , 0.09154659], dtype=float32), 'class_ids': array([0]), 'classes': array([b'0'], dtype=object), 'all_class_ids': array([0, 1], dtype=int32), 'all_classes': array([b'0', b'1'], dtype=object)}, {'logits': array([1.141916], dtype=float32), 'logistic': array([0.75803125], dtype=float32), 'probabilities': array([0.24196875, 0.75803125], dtype=float32), 'class_ids': array([1]), 'classes': array([b'1'], dtype=object), 'all_class_ids': array([0, 1], dtype=int32), 'all_classes': array([b'0', b'1'], dtype=object)}, {'logits': array([-2.5056367], dtype=float32), 'logistic': array([0.07546398], dtype=float32), 'probabilities': array([0.9245361 , 0.07546398], dtype=float32), 'class_ids': array([0]), 'classes': array([b'0'], dtype=object), 'all_class_ids': array([0, 1], dtype=int32), 'all_classes': array([b'0', b'1'], dtype=object)}, {'logits': array([-1.3559887], dtype=float32), 'logistic': array([0.204893], dtype=float32), 'probabilities': array([0.795107  , 0.20489301], dtype=float32), 'class_ids': array([0]), 'classes': array([b'0'], dtype=object), 'all_class_ids': array([0, 1], dtype=int32), 'all_classes': array([b'0', b'1'], dtype=object)}, {'logits': array([-3.0724146], dtype=float32), 'logistic': array([0.04425958], dtype=float32), 'probabilities': array([0.9557404 , 0.04425957], dtype=float32), 'class_ids': array([0]), 'classes': array([b'0'], dtype=object), 'all_class_ids': array([0, 1], dtype=int32), 'all_classes': array([b'0', b'1'], dtype=object)}, {'logits': array([-2.2773182], dtype=float32), 'logistic': array([0.09301895], dtype=float32), 'probabilities': array([0.90698105, 0.09301896], dtype=float32), 'class_ids': array([0]), 'classes': array([b'0'], dtype=object), 'all_class_ids': array([0, 1], dtype=int32), 'all_classes': array([b'0', b'1'], dtype=object)}, {'logits': array([0.5014171], dtype=float32), 'logistic': array([0.6227923], dtype=float32), 'probabilities': array([0.37720773, 0.62279236], dtype=float32), 'class_ids': array([1]), 'classes': array([b'1'], dtype=object), 'all_class_ids': array([0, 1], dtype=int32), 'all_classes': array([b'0', b'1'], dtype=object)}, {'logits': array([2.2931266], dtype=float32), 'logistic': array([0.9083061], dtype=float32), 'probabilities': array([0.09169382, 0.9083062 ], dtype=float32), 'class_ids': array([1]), 'classes': array([b'1'], dtype=object), 'all_class_ids': array([0, 1], dtype=int32), 'all_classes': array([b'0', b'1'], dtype=object)}, {'logits': array([-1.9568434], dtype=float32), 'logistic': array([0.12380907], dtype=float32), 'probabilities': array([0.8761909 , 0.12380907], dtype=float32), 'class_ids': array([0]), 'classes': array([b'0'], dtype=object), 'all_class_ids': array([0, 1], dtype=int32), 'all_classes': array([b'0', b'1'], dtype=object)}, {'logits': array([-1.147851], dtype=float32), 'logistic': array([0.24088183], dtype=float32), 'probabilities': array([0.75911814, 0.24088182], dtype=float32), 'class_ids': array([0]), 'classes': array([b'0'], dtype=object), 'all_class_ids': array([0, 1], dtype=int32), 'all_classes': array([b'0', b'1'], dtype=object)}, {'logits': array([-2.257891], dtype=float32), 'logistic': array([0.09467098], dtype=float32), 'probabilities': array([0.90532905, 0.09467098], dtype=float32), 'class_ids': array([0]), 'classes': array([b'0'], dtype=object), 'all_class_ids': array([0, 1], dtype=int32), 'all_classes': array([b'0', b'1'], dtype=object)}, {'logits': array([-2.3279312], dtype=float32), 'logistic': array([0.08883598], dtype=float32), 'probabilities': array([0.91116405, 0.08883598], dtype=float32), 'class_ids': array([0]), 'classes': array([b'0'], dtype=object), 'all_class_ids': array([0, 1], dtype=int32), 'all_classes': array([b'0', b'1'], dtype=object)}, {'logits': array([-0.9958406], dtype=float32), 'logistic': array([0.26976], dtype=float32), 'probabilities': array([0.73024   , 0.26975998], dtype=float32), 'class_ids': array([0]), 'classes': array([b'0'], dtype=object), 'all_class_ids': array([0, 1], dtype=int32), 'all_classes': array([b'0', b'1'], dtype=object)}, {'logits': array([-1.6816592], dtype=float32), 'logistic': array([0.15687588], dtype=float32), 'probabilities': array([0.84312415, 0.1568759 ], dtype=float32), 'class_ids': array([0]), 'classes': array([b'0'], dtype=object), 'all_class_ids': array([0, 1], dtype=int32), 'all_classes': array([b'0', b'1'], dtype=object)}, {'logits': array([2.5332947], dtype=float32), 'logistic': array([0.9264432], dtype=float32), 'probabilities': array([0.07355681, 0.9264432 ], dtype=float32), 'class_ids': array([1]), 'classes': array([b'1'], dtype=object), 'all_class_ids': array([0, 1], dtype=int32), 'all_classes': array([b'0', b'1'], dtype=object)}, {'logits': array([-0.65905696], dtype=float32), 'logistic': array([0.3409515], dtype=float32), 'probabilities': array([0.6590485 , 0.34095144], dtype=float32), 'class_ids': array([0]), 'classes': array([b'0'], dtype=object), 'all_class_ids': array([0, 1], dtype=int32), 'all_classes': array([b'0', b'1'], dtype=object)}, {'logits': array([-2.1875608], dtype=float32), 'logistic': array([0.10087308], dtype=float32), 'probabilities': array([0.89912695, 0.10087311], dtype=float32), 'class_ids': array([0]), 'classes': array([b'0'], dtype=object), 'all_class_ids': array([0, 1], dtype=int32), 'all_classes': array([b'0', b'1'], dtype=object)}, {'logits': array([-1.1927401], dtype=float32), 'logistic': array([0.23276922], dtype=float32), 'probabilities': array([0.76723075, 0.23276922], dtype=float32), 'class_ids': array([0]), 'classes': array([b'0'], dtype=object), 'all_class_ids': array([0, 1], dtype=int32), 'all_classes': array([b'0', b'1'], dtype=object)}, {'logits': array([0.67671067], dtype=float32), 'logistic': array([0.66300416], dtype=float32), 'probabilities': array([0.3369958 , 0.66300416], dtype=float32), 'class_ids': array([1]), 'classes': array([b'1'], dtype=object), 'all_class_ids': array([0, 1], dtype=int32), 'all_classes': array([b'0', b'1'], dtype=object)}, {'logits': array([1.0392952], dtype=float32), 'logistic': array([0.738714], dtype=float32), 'probabilities': array([0.26128602, 0.738714  ], dtype=float32), 'class_ids': array([1]), 'classes': array([b'1'], dtype=object), 'all_class_ids': array([0, 1], dtype=int32), 'all_classes': array([b'0', b'1'], dtype=object)}, {'logits': array([-1.561632], dtype=float32), 'logistic': array([0.17341259], dtype=float32), 'probabilities': array([0.8265874 , 0.17341258], dtype=float32), 'class_ids': array([0]), 'classes': array([b'0'], dtype=object), 'all_class_ids': array([0, 1], dtype=int32), 'all_classes': array([b'0', b'1'], dtype=object)}, {'logits': array([-2.2557132], dtype=float32), 'logistic': array([0.09485778], dtype=float32), 'probabilities': array([0.9051422 , 0.09485779], dtype=float32), 'class_ids': array([0]), 'classes': array([b'0'], dtype=object), 'all_class_ids': array([0, 1], dtype=int32), 'all_classes': array([b'0', b'1'], dtype=object)}, {'logits': array([-2.4062364], dtype=float32), 'logistic': array([0.08269835], dtype=float32), 'probabilities': array([0.91730165, 0.08269838], dtype=float32), 'class_ids': array([0]), 'classes': array([b'0'], dtype=object), 'all_class_ids': array([0, 1], dtype=int32), 'all_classes': array([b'0', b'1'], dtype=object)}, {'logits': array([-2.7143912], dtype=float32), 'logistic': array([0.0621295], dtype=float32), 'probabilities': array([0.9378705 , 0.06212949], dtype=float32), 'class_ids': array([0]), 'classes': array([b'0'], dtype=object), 'all_class_ids': array([0, 1], dtype=int32), 'all_classes': array([b'0', b'1'], dtype=object)}, {'logits': array([1.4444803], dtype=float32), 'logistic': array([0.8091475], dtype=float32), 'probabilities': array([0.19085251, 0.8091475 ], dtype=float32), 'class_ids': array([1]), 'classes': array([b'1'], dtype=object), 'all_class_ids': array([0, 1], dtype=int32), 'all_classes': array([b'0', b'1'], dtype=object)}, {'logits': array([-3.2014592], dtype=float32), 'logistic': array([0.03911084], dtype=float32), 'probabilities': array([0.9608891 , 0.03911085], dtype=float32), 'class_ids': array([0]), 'classes': array([b'0'], dtype=object), 'all_class_ids': array([0, 1], dtype=int32), 'all_classes': array([b'0', b'1'], dtype=object)}, {'logits': array([-2.38325], dtype=float32), 'logistic': array([0.08445889], dtype=float32), 'probabilities': array([0.9155411 , 0.08445892], dtype=float32), 'class_ids': array([0]), 'classes': array([b'0'], dtype=object), 'all_class_ids': array([0, 1], dtype=int32), 'all_classes': array([b'0', b'1'], dtype=object)}, {'logits': array([-0.5213011], dtype=float32), 'logistic': array([0.37254807], dtype=float32), 'probabilities': array([0.6274519 , 0.37254804], dtype=float32), 'class_ids': array([0]), 'classes': array([b'0'], dtype=object), 'all_class_ids': array([0, 1], dtype=int32), 'all_classes': array([b'0', b'1'], dtype=object)}, {'logits': array([0.6740921], dtype=float32), 'logistic': array([0.66241884], dtype=float32), 'probabilities': array([0.33758116, 0.66241884], dtype=float32), 'class_ids': array([1]), 'classes': array([b'1'], dtype=object), 'all_class_ids': array([0, 1], dtype=int32), 'all_classes': array([b'0', b'1'], dtype=object)}, {'logits': array([-1.534758], dtype=float32), 'logistic': array([0.1772986], dtype=float32), 'probabilities': array([0.8227014, 0.1772986], dtype=float32), 'class_ids': array([0]), 'classes': array([b'0'], dtype=object), 'all_class_ids': array([0, 1], dtype=int32), 'all_classes': array([b'0', b'1'], dtype=object)}, {'logits': array([-3.1610067], dtype=float32), 'logistic': array([0.04065979], dtype=float32), 'probabilities': array([0.9593402 , 0.04065977], dtype=float32), 'class_ids': array([0]), 'classes': array([b'0'], dtype=object), 'all_class_ids': array([0, 1], dtype=int32), 'all_classes': array([b'0', b'1'], dtype=object)}, {'logits': array([-1.8761097], dtype=float32), 'logistic': array([0.13283631], dtype=float32), 'probabilities': array([0.86716366, 0.13283636], dtype=float32), 'class_ids': array([0]), 'classes': array([b'0'], dtype=object), 'all_class_ids': array([0, 1], dtype=int32), 'all_classes': array([b'0', b'1'], dtype=object)}, {'logits': array([-2.59079], dtype=float32), 'logistic': array([0.06973353], dtype=float32), 'probabilities': array([0.93026644, 0.06973352], dtype=float32), 'class_ids': array([0]), 'classes': array([b'0'], dtype=object), 'all_class_ids': array([0, 1], dtype=int32), 'all_classes': array([b'0', b'1'], dtype=object)}, {'logits': array([-3.0724146], dtype=float32), 'logistic': array([0.04425958], dtype=float32), 'probabilities': array([0.9557404 , 0.04425957], dtype=float32), 'class_ids': array([0]), 'classes': array([b'0'], dtype=object), 'all_class_ids': array([0, 1], dtype=int32), 'all_classes': array([b'0', b'1'], dtype=object)}, {'logits': array([-2.4520295], dtype=float32), 'logistic': array([0.07929024], dtype=float32), 'probabilities': array([0.9207098 , 0.07929026], dtype=float32), 'class_ids': array([0]), 'classes': array([b'0'], dtype=object), 'all_class_ids': array([0, 1], dtype=int32), 'all_classes': array([b'0', b'1'], dtype=object)}, {'logits': array([0.8247821], dtype=float32), 'logistic': array([0.6952505], dtype=float32), 'probabilities': array([0.30474952, 0.6952505 ], dtype=float32), 'class_ids': array([1]), 'classes': array([b'1'], dtype=object), 'all_class_ids': array([0, 1], dtype=int32), 'all_classes': array([b'0', b'1'], dtype=object)}, {'logits': array([1.2242479], dtype=float32), 'logistic': array([0.7728102], dtype=float32), 'probabilities': array([0.22718978, 0.7728103 ], dtype=float32), 'class_ids': array([1]), 'classes': array([b'1'], dtype=object), 'all_class_ids': array([0, 1], dtype=int32), 'all_classes': array([b'0', b'1'], dtype=object)}, {'logits': array([-2.3832443], dtype=float32), 'logistic': array([0.08445933], dtype=float32), 'probabilities': array([0.91554064, 0.08445936], dtype=float32), 'class_ids': array([0]), 'classes': array([b'0'], dtype=object), 'all_class_ids': array([0, 1], dtype=int32), 'all_classes': array([b'0', b'1'], dtype=object)}, {'logits': array([0.61130387], dtype=float32), 'logistic': array([0.6482382], dtype=float32), 'probabilities': array([0.35176185, 0.6482382 ], dtype=float32), 'class_ids': array([1]), 'classes': array([b'1'], dtype=object), 'all_class_ids': array([0, 1], dtype=int32), 'all_classes': array([b'0', b'1'], dtype=object)}, {'logits': array([-0.34407303], dtype=float32), 'logistic': array([0.41482043], dtype=float32), 'probabilities': array([0.58517957, 0.41482043], dtype=float32), 'class_ids': array([0]), 'classes': array([b'0'], dtype=object), 'all_class_ids': array([0, 1], dtype=int32), 'all_classes': array([b'0', b'1'], dtype=object)}, {'logits': array([-2.5865428], dtype=float32), 'logistic': array([0.0700095], dtype=float32), 'probabilities': array([0.9299905 , 0.07000954], dtype=float32), 'class_ids': array([0]), 'classes': array([b'0'], dtype=object), 'all_class_ids': array([0, 1], dtype=int32), 'all_classes': array([b'0', b'1'], dtype=object)}, {'logits': array([-2.0583735], dtype=float32), 'logistic': array([0.11320898], dtype=float32), 'probabilities': array([0.886791  , 0.11320902], dtype=float32), 'class_ids': array([0]), 'classes': array([b'0'], dtype=object), 'all_class_ids': array([0, 1], dtype=int32), 'all_classes': array([b'0', b'1'], dtype=object)}, {'logits': array([-1.9503913], dtype=float32), 'logistic': array([0.12451068], dtype=float32), 'probabilities': array([0.87548935, 0.12451071], dtype=float32), 'class_ids': array([0]), 'classes': array([b'0'], dtype=object), 'all_class_ids': array([0, 1], dtype=int32), 'all_classes': array([b'0', b'1'], dtype=object)}, {'logits': array([-2.229415], dtype=float32), 'logistic': array([0.09713995], dtype=float32), 'probabilities': array([0.90286005, 0.09713994], dtype=float32), 'class_ids': array([0]), 'classes': array([b'0'], dtype=object), 'all_class_ids': array([0, 1], dtype=int32), 'all_classes': array([b'0', b'1'], dtype=object)}, {'logits': array([0.6774896], dtype=float32), 'logistic': array([0.66317815], dtype=float32), 'probabilities': array([0.33682182, 0.66317815], dtype=float32), 'class_ids': array([1]), 'classes': array([b'1'], dtype=object), 'all_class_ids': array([0, 1], dtype=int32), 'all_classes': array([b'0', b'1'], dtype=object)}, {'logits': array([-2.5929945], dtype=float32), 'logistic': array([0.06959066], dtype=float32), 'probabilities': array([0.9304094 , 0.06959065], dtype=float32), 'class_ids': array([0]), 'classes': array([b'0'], dtype=object), 'all_class_ids': array([0, 1], dtype=int32), 'all_classes': array([b'0', b'1'], dtype=object)}, {'logits': array([-0.35595664], dtype=float32), 'logistic': array([0.41193873], dtype=float32), 'probabilities': array([0.5880613 , 0.41193867], dtype=float32), 'class_ids': array([0]), 'classes': array([b'0'], dtype=object), 'all_class_ids': array([0, 1], dtype=int32), 'all_classes': array([b'0', b'1'], dtype=object)}, {'logits': array([-0.51284486], dtype=float32), 'logistic': array([0.37452686], dtype=float32), 'probabilities': array([0.62547314, 0.37452686], dtype=float32), 'class_ids': array([0]), 'classes': array([b'0'], dtype=object), 'all_class_ids': array([0, 1], dtype=int32), 'all_classes': array([b'0', b'1'], dtype=object)}, {'logits': array([-2.6119099], dtype=float32), 'logistic': array([0.06837583], dtype=float32), 'probabilities': array([0.9316241 , 0.06837584], dtype=float32), 'class_ids': array([0]), 'classes': array([b'0'], dtype=object), 'all_class_ids': array([0, 1], dtype=int32), 'all_classes': array([b'0', b'1'], dtype=object)}, {'logits': array([-1.9112198], dtype=float32), 'logistic': array([0.12884387], dtype=float32), 'probabilities': array([0.8711561 , 0.12884387], dtype=float32), 'class_ids': array([0]), 'classes': array([b'0'], dtype=object), 'all_class_ids': array([0, 1], dtype=int32), 'all_classes': array([b'0', b'1'], dtype=object)}, {'logits': array([1.1456773], dtype=float32), 'logistic': array([0.7587205], dtype=float32), 'probabilities': array([0.24127954, 0.7587205 ], dtype=float32), 'class_ids': array([1]), 'classes': array([b'1'], dtype=object), 'all_class_ids': array([0, 1], dtype=int32), 'all_classes': array([b'0', b'1'], dtype=object)}, {'logits': array([-0.33962664], dtype=float32), 'logistic': array([0.41590017], dtype=float32), 'probabilities': array([0.5840998 , 0.41590014], dtype=float32), 'class_ids': array([0]), 'classes': array([b'0'], dtype=object), 'all_class_ids': array([0, 1], dtype=int32), 'all_classes': array([b'0', b'1'], dtype=object)}, {'logits': array([-2.3833435], dtype=float32), 'logistic': array([0.08445168], dtype=float32), 'probabilities': array([0.9155483 , 0.08445169], dtype=float32), 'class_ids': array([0]), 'classes': array([b'0'], dtype=object), 'all_class_ids': array([0, 1], dtype=int32), 'all_classes': array([b'0', b'1'], dtype=object)}, {'logits': array([-0.5099384], dtype=float32), 'logistic': array([0.375208], dtype=float32), 'probabilities': array([0.62479204, 0.37520793], dtype=float32), 'class_ids': array([0]), 'classes': array([b'0'], dtype=object), 'all_class_ids': array([0, 1], dtype=int32), 'all_classes': array([b'0', b'1'], dtype=object)}, {'logits': array([-1.3721821], dtype=float32), 'logistic': array([0.20226753], dtype=float32), 'probabilities': array([0.79773253, 0.20226753], dtype=float32), 'class_ids': array([0]), 'classes': array([b'0'], dtype=object), 'all_class_ids': array([0, 1], dtype=int32), 'all_classes': array([b'0', b'1'], dtype=object)}, {'logits': array([1.5513176], dtype=float32), 'logistic': array([0.825104], dtype=float32), 'probabilities': array([0.17489605, 0.82510394], dtype=float32), 'class_ids': array([1]), 'classes': array([b'1'], dtype=object), 'all_class_ids': array([0, 1], dtype=int32), 'all_classes': array([b'0', b'1'], dtype=object)}, {'logits': array([0.9832489], dtype=float32), 'logistic': array([0.7277523], dtype=float32), 'probabilities': array([0.2722476, 0.7277524], dtype=float32), 'class_ids': array([1]), 'classes': array([b'1'], dtype=object), 'all_class_ids': array([0, 1], dtype=int32), 'all_classes': array([b'0', b'1'], dtype=object)}, {'logits': array([-2.0805094], dtype=float32), 'logistic': array([0.11100566], dtype=float32), 'probabilities': array([0.8889943 , 0.11100569], dtype=float32), 'class_ids': array([0]), 'classes': array([b'0'], dtype=object), 'all_class_ids': array([0, 1], dtype=int32), 'all_classes': array([b'0', b'1'], dtype=object)}, {'logits': array([0.58902913], dtype=float32), 'logistic': array([0.64314234], dtype=float32), 'probabilities': array([0.35685766, 0.6431423 ], dtype=float32), 'class_ids': array([1]), 'classes': array([b'1'], dtype=object), 'all_class_ids': array([0, 1], dtype=int32), 'all_classes': array([b'0', b'1'], dtype=object)}, {'logits': array([-2.3778956], dtype=float32), 'logistic': array([0.08487386], dtype=float32), 'probabilities': array([0.91512614, 0.08487388], dtype=float32), 'class_ids': array([0]), 'classes': array([b'0'], dtype=object), 'all_class_ids': array([0, 1], dtype=int32), 'all_classes': array([b'0', b'1'], dtype=object)}, {'logits': array([-1.9821353], dtype=float32), 'logistic': array([0.1210914], dtype=float32), 'probabilities': array([0.87890863, 0.1210914 ], dtype=float32), 'class_ids': array([0]), 'classes': array([b'0'], dtype=object), 'all_class_ids': array([0, 1], dtype=int32), 'all_classes': array([b'0', b'1'], dtype=object)}, {'logits': array([0.3392636], dtype=float32), 'logistic': array([0.5840116], dtype=float32), 'probabilities': array([0.4159884, 0.5840116], dtype=float32), 'class_ids': array([1]), 'classes': array([b'1'], dtype=object), 'all_class_ids': array([0, 1], dtype=int32), 'all_classes': array([b'0', b'1'], dtype=object)}, {'logits': array([-2.2772121], dtype=float32), 'logistic': array([0.09302789], dtype=float32), 'probabilities': array([0.90697205, 0.0930279 ], dtype=float32), 'class_ids': array([0]), 'classes': array([b'0'], dtype=object), 'all_class_ids': array([0, 1], dtype=int32), 'all_classes': array([b'0', b'1'], dtype=object)}, {'logits': array([0.09719232], dtype=float32), 'logistic': array([0.524279], dtype=float32), 'probabilities': array([0.475721  , 0.52427894], dtype=float32), 'class_ids': array([1]), 'classes': array([b'1'], dtype=object), 'all_class_ids': array([0, 1], dtype=int32), 'all_classes': array([b'0', b'1'], dtype=object)}, {'logits': array([1.502657], dtype=float32), 'logistic': array([0.8179704], dtype=float32), 'probabilities': array([0.18202956, 0.8179704 ], dtype=float32), 'class_ids': array([1]), 'classes': array([b'1'], dtype=object), 'all_class_ids': array([0, 1], dtype=int32), 'all_classes': array([b'0', b'1'], dtype=object)}, {'logits': array([-2.3941257], dtype=float32), 'logistic': array([0.08362171], dtype=float32), 'probabilities': array([0.91637826, 0.08362174], dtype=float32), 'class_ids': array([0]), 'classes': array([b'0'], dtype=object), 'all_class_ids': array([0, 1], dtype=int32), 'all_classes': array([b'0', b'1'], dtype=object)}, {'logits': array([0.80588037], dtype=float32), 'logistic': array([0.6912309], dtype=float32), 'probabilities': array([0.30876905, 0.69123095], dtype=float32), 'class_ids': array([1]), 'classes': array([b'1'], dtype=object), 'all_class_ids': array([0, 1], dtype=int32), 'all_classes': array([b'0', b'1'], dtype=object)}, {'logits': array([-2.632158], dtype=float32), 'logistic': array([0.06709722], dtype=float32), 'probabilities': array([0.9329027 , 0.06709724], dtype=float32), 'class_ids': array([0]), 'classes': array([b'0'], dtype=object), 'all_class_ids': array([0, 1], dtype=int32), 'all_classes': array([b'0', b'1'], dtype=object)}, {'logits': array([-1.0587121], dtype=float32), 'logistic': array([0.25755566], dtype=float32), 'probabilities': array([0.7424444 , 0.25755566], dtype=float32), 'class_ids': array([0]), 'classes': array([b'0'], dtype=object), 'all_class_ids': array([0, 1], dtype=int32), 'all_classes': array([b'0', b'1'], dtype=object)}, {'logits': array([-2.4624736], dtype=float32), 'logistic': array([0.07853115], dtype=float32), 'probabilities': array([0.9214688 , 0.07853114], dtype=float32), 'class_ids': array([0]), 'classes': array([b'0'], dtype=object), 'all_class_ids': array([0, 1], dtype=int32), 'all_classes': array([b'0', b'1'], dtype=object)}, {'logits': array([0.8035088], dtype=float32), 'logistic': array([0.69072455], dtype=float32), 'probabilities': array([0.30927545, 0.69072455], dtype=float32), 'class_ids': array([1]), 'classes': array([b'1'], dtype=object), 'all_class_ids': array([0, 1], dtype=int32), 'all_classes': array([b'0', b'1'], dtype=object)}, {'logits': array([-0.30486092], dtype=float32), 'logistic': array([0.42436963], dtype=float32), 'probabilities': array([0.57563037, 0.4243696 ], dtype=float32), 'class_ids': array([0]), 'classes': array([b'0'], dtype=object), 'all_class_ids': array([0, 1], dtype=int32), 'all_classes': array([b'0', b'1'], dtype=object)}, {'logits': array([-3.0234823], dtype=float32), 'logistic': array([0.04637617], dtype=float32), 'probabilities': array([0.9536238 , 0.04637622], dtype=float32), 'class_ids': array([0]), 'classes': array([b'0'], dtype=object), 'all_class_ids': array([0, 1], dtype=int32), 'all_classes': array([b'0', b'1'], dtype=object)}, {'logits': array([-1.3492583], dtype=float32), 'logistic': array([0.20599163], dtype=float32), 'probabilities': array([0.7940084 , 0.20599167], dtype=float32), 'class_ids': array([0]), 'classes': array([b'0'], dtype=object), 'all_class_ids': array([0, 1], dtype=int32), 'all_classes': array([b'0', b'1'], dtype=object)}, {'logits': array([1.7750199], dtype=float32), 'logistic': array([0.85508084], dtype=float32), 'probabilities': array([0.14491917, 0.85508084], dtype=float32), 'class_ids': array([1]), 'classes': array([b'1'], dtype=object), 'all_class_ids': array([0, 1], dtype=int32), 'all_classes': array([b'0', b'1'], dtype=object)}, {'logits': array([-0.9632794], dtype=float32), 'logistic': array([0.27622208], dtype=float32), 'probabilities': array([0.72377795, 0.27622208], dtype=float32), 'class_ids': array([0]), 'classes': array([b'0'], dtype=object), 'all_class_ids': array([0, 1], dtype=int32), 'all_classes': array([b'0', b'1'], dtype=object)}, {'logits': array([0.8000272], dtype=float32), 'logistic': array([0.68998027], dtype=float32), 'probabilities': array([0.3100197, 0.6899803], dtype=float32), 'class_ids': array([1]), 'classes': array([b'1'], dtype=object), 'all_class_ids': array([0, 1], dtype=int32), 'all_classes': array([b'0', b'1'], dtype=object)}, {'logits': array([-0.5516929], dtype=float32), 'logistic': array([0.36547172], dtype=float32), 'probabilities': array([0.6345283 , 0.36547172], dtype=float32), 'class_ids': array([0]), 'classes': array([b'0'], dtype=object), 'all_class_ids': array([0, 1], dtype=int32), 'all_classes': array([b'0', b'1'], dtype=object)}, {'logits': array([-3.059815], dtype=float32), 'logistic': array([0.04479563], dtype=float32), 'probabilities': array([0.9552044 , 0.04479562], dtype=float32), 'class_ids': array([0]), 'classes': array([b'0'], dtype=object), 'all_class_ids': array([0, 1], dtype=int32), 'all_classes': array([b'0', b'1'], dtype=object)}, {'logits': array([-2.2231505], dtype=float32), 'logistic': array([0.09769076], dtype=float32), 'probabilities': array([0.9023093 , 0.09769075], dtype=float32), 'class_ids': array([0]), 'classes': array([b'0'], dtype=object), 'all_class_ids': array([0, 1], dtype=int32), 'all_classes': array([b'0', b'1'], dtype=object)}, {'logits': array([-2.1233897], dtype=float32), 'logistic': array([0.10684413], dtype=float32), 'probabilities': array([0.8931558 , 0.10684416], dtype=float32), 'class_ids': array([0]), 'classes': array([b'0'], dtype=object), 'all_class_ids': array([0, 1], dtype=int32), 'all_classes': array([b'0', b'1'], dtype=object)}, {'logits': array([-4.130331], dtype=float32), 'logistic': array([0.01582316], dtype=float32), 'probabilities': array([0.9841769 , 0.01582316], dtype=float32), 'class_ids': array([0]), 'classes': array([b'0'], dtype=object), 'all_class_ids': array([0, 1], dtype=int32), 'all_classes': array([b'0', b'1'], dtype=object)}, {'logits': array([1.8511839], dtype=float32), 'logistic': array([0.86426604], dtype=float32), 'probabilities': array([0.13573396, 0.8642661 ], dtype=float32), 'class_ids': array([1]), 'classes': array([b'1'], dtype=object), 'all_class_ids': array([0, 1], dtype=int32), 'all_classes': array([b'0', b'1'], dtype=object)}, {'logits': array([0.5918254], dtype=float32), 'logistic': array([0.64378387], dtype=float32), 'probabilities': array([0.3562161 , 0.64378387], dtype=float32), 'class_ids': array([1]), 'classes': array([b'1'], dtype=object), 'all_class_ids': array([0, 1], dtype=int32), 'all_classes': array([b'0', b'1'], dtype=object)}, {'logits': array([-1.982171], dtype=float32), 'logistic': array([0.12108758], dtype=float32), 'probabilities': array([0.8789124 , 0.12108759], dtype=float32), 'class_ids': array([0]), 'classes': array([b'0'], dtype=object), 'all_class_ids': array([0, 1], dtype=int32), 'all_classes': array([b'0', b'1'], dtype=object)}, {'logits': array([-1.4268522], dtype=float32), 'logistic': array([0.1935896], dtype=float32), 'probabilities': array([0.8064104 , 0.19358961], dtype=float32), 'class_ids': array([0]), 'classes': array([b'0'], dtype=object), 'all_class_ids': array([0, 1], dtype=int32), 'all_classes': array([b'0', b'1'], dtype=object)}, {'logits': array([1.7695992], dtype=float32), 'logistic': array([0.85440785], dtype=float32), 'probabilities': array([0.14559218, 0.8544078 ], dtype=float32), 'class_ids': array([1]), 'classes': array([b'1'], dtype=object), 'all_class_ids': array([0, 1], dtype=int32), 'all_classes': array([b'0', b'1'], dtype=object)}, {'logits': array([-1.6536301], dtype=float32), 'logistic': array([0.1606189], dtype=float32), 'probabilities': array([0.83938104, 0.16061893], dtype=float32), 'class_ids': array([0]), 'classes': array([b'0'], dtype=object), 'all_class_ids': array([0, 1], dtype=int32), 'all_classes': array([b'0', b'1'], dtype=object)}, {'logits': array([-2.5192628], dtype=float32), 'logistic': array([0.07451877], dtype=float32), 'probabilities': array([0.9254812 , 0.07451877], dtype=float32), 'class_ids': array([0]), 'classes': array([b'0'], dtype=object), 'all_class_ids': array([0, 1], dtype=int32), 'all_classes': array([b'0', b'1'], dtype=object)}, {'logits': array([0.61636835], dtype=float32), 'logistic': array([0.6493921], dtype=float32), 'probabilities': array([0.35060787, 0.64939207], dtype=float32), 'class_ids': array([1]), 'classes': array([b'1'], dtype=object), 'all_class_ids': array([0, 1], dtype=int32), 'all_classes': array([b'0', b'1'], dtype=object)}, {'logits': array([1.1716325], dtype=float32), 'logistic': array([0.76343995], dtype=float32), 'probabilities': array([0.23656002, 0.76343995], dtype=float32), 'class_ids': array([1]), 'classes': array([b'1'], dtype=object), 'all_class_ids': array([0, 1], dtype=int32), 'all_classes': array([b'0', b'1'], dtype=object)}, {'logits': array([-2.6823454], dtype=float32), 'logistic': array([0.06402317], dtype=float32), 'probabilities': array([0.9359768 , 0.06402319], dtype=float32), 'class_ids': array([0]), 'classes': array([b'0'], dtype=object), 'all_class_ids': array([0, 1], dtype=int32), 'all_classes': array([b'0', b'1'], dtype=object)}, {'logits': array([-0.5821522], dtype=float32), 'logistic': array([0.35843754], dtype=float32), 'probabilities': array([0.6415625 , 0.35843757], dtype=float32), 'class_ids': array([0]), 'classes': array([b'0'], dtype=object), 'all_class_ids': array([0, 1], dtype=int32), 'all_classes': array([b'0', b'1'], dtype=object)}, {'logits': array([-1.702999], dtype=float32), 'logistic': array([0.15407398], dtype=float32), 'probabilities': array([0.845926  , 0.15407398], dtype=float32), 'class_ids': array([0]), 'classes': array([b'0'], dtype=object), 'all_class_ids': array([0, 1], dtype=int32), 'all_classes': array([b'0', b'1'], dtype=object)}, {'logits': array([-0.78622013], dtype=float32), 'logistic': array([0.31298086], dtype=float32), 'probabilities': array([0.6870191 , 0.31298083], dtype=float32), 'class_ids': array([0]), 'classes': array([b'0'], dtype=object), 'all_class_ids': array([0, 1], dtype=int32), 'all_classes': array([b'0', b'1'], dtype=object)}]\n"
          ]
        }
      ]
    },
    {
      "cell_type": "code",
      "metadata": {
        "colab": {
          "base_uri": "https://localhost:8080/"
        },
        "id": "HrracqeHxWQq",
        "outputId": "1d1d8847-e5b4-4811-a27d-52a47d63d012"
      },
      "source": [
        "print(pred_dicts[0]['probabilities'])"
      ],
      "execution_count": 21,
      "outputs": [
        {
          "output_type": "stream",
          "name": "stdout",
          "text": [
            "[0.94015795 0.05984208]\n"
          ]
        }
      ]
    }
  ]
}